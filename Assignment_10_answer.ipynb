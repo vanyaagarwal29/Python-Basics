{
  "nbformat": 4,
  "nbformat_minor": 0,
  "metadata": {
    "colab": {
      "provenance": [],
      "authorship_tag": "ABX9TyMVJ8xpznW5eA735KGfvjVr",
      "include_colab_link": true
    },
    "kernelspec": {
      "name": "python3",
      "display_name": "Python 3"
    },
    "language_info": {
      "name": "python"
    }
  },
  "cells": [
    {
      "cell_type": "markdown",
      "metadata": {
        "id": "view-in-github",
        "colab_type": "text"
      },
      "source": [
        "<a href=\"https://colab.research.google.com/github/vanyaagarwal29/Python-Basics/blob/main/Assignment_10_answer.ipynb\" target=\"_parent\"><img src=\"https://colab.research.google.com/assets/colab-badge.svg\" alt=\"Open In Colab\"/></a>"
      ]
    },
    {
      "cell_type": "markdown",
      "source": [
        "1. How do you distinguish between shutil.copy() and shutil.copytree()?\n",
        "\n",
        "While shutil. copy() will copy a single file, shutil. copytree() will copy an entire folder and every folder and file contained in it."
      ],
      "metadata": {
        "id": "ADLZuVjkyYnY"
      }
    },
    {
      "cell_type": "markdown",
      "source": [
        "2. What function is used to rename files??\n",
        "\n",
        "Use the mv command to move files and directories from one directory to another or to rename a file or directory.\n",
        "\n"
      ],
      "metadata": {
        "id": "Pk-iRDl_ypId"
      }
    },
    {
      "cell_type": "markdown",
      "source": [
        "What is the difference between the delete functions in the send2trash and shutil modules?\n",
        "ans- The send2trash functions will move a file or folder to the recycle bin, while shutil functions will permanently delete files and folders."
      ],
      "metadata": {
        "id": "v1B0TxMMy1bN"
      }
    },
    {
      "cell_type": "markdown",
      "source": [
        "4.ZipFile objects have a close() method just like File objects’ close() method. What ZipFile method is\n",
        "equivalent to File objects’ open() method?\n",
        "ans- The zipfile. ZipFile() function is equivalent to the open() function; the first argument is the filename, and the second argument is the mode to open the ZIP file in (read, write, or append)."
      ],
      "metadata": {
        "id": "G4LpCRLAiL5s"
      }
    },
    {
      "cell_type": "markdown",
      "source": [
        "Create a programme that searches a folder tree for files with a certain file extension (such as .pdf\n",
        "or .jpg). Copy these files from whatever location they are in to a new folder."
      ],
      "metadata": {
        "id": "6FqjL67YisPz"
      }
    },
    {
      "cell_type": "code",
      "source": [
        "import os,shutil\n",
        "def selectiveCopy(folder, extensions, destFolder):\n",
        "  folder=os.path.abspath(folder)\n",
        "  destFolder=os.path.abspath(destFolder)\n",
        "  print('looking in', folder, 'for files with extensions of', ','.join(extensions))\n",
        "  for foldername, subfolders, filenames in os.walk(folder):\n",
        "    for filename in filenames:\n",
        "      name,extension=os.path.splitext(filename)\n",
        "      if extension in extensions:\n",
        "        fileAbsPath= foldername+os.path.sep +filename\n",
        "        print('Coping', fileAbsPath,'to',destFolder)\n",
        "        shutil.copy(fileAbsPath,destFolder)\n",
        "\n",
        "extensions = ['.php', '.py']\n",
        "folder = 'randomFolder'\n",
        "destFolder = 'selectiveFolder'\n",
        "selectiveCopy(folder, extensions, destFolder)"
      ],
      "metadata": {
        "colab": {
          "base_uri": "https://localhost:8080/"
        },
        "id": "ORN4dD5GjaBi",
        "outputId": "2ccbd5d2-3765-454a-c896-6dc01f1cdc26"
      },
      "execution_count": 3,
      "outputs": [
        {
          "output_type": "stream",
          "name": "stdout",
          "text": [
            "looking in /content/randomFolder for files with extensions of .php,.py\n"
          ]
        }
      ]
    },
    {
      "cell_type": "code",
      "source": [],
      "metadata": {
        "id": "o8afle9Tm5uN"
      },
      "execution_count": null,
      "outputs": []
    }
  ]
}