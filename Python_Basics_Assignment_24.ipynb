{
  "nbformat": 4,
  "nbformat_minor": 0,
  "metadata": {
    "colab": {
      "provenance": [],
      "authorship_tag": "ABX9TyOhu3Q59WOUzUz32TjZdp2i",
      "include_colab_link": true
    },
    "kernelspec": {
      "name": "python3",
      "display_name": "Python 3"
    },
    "language_info": {
      "name": "python"
    }
  },
  "cells": [
    {
      "cell_type": "markdown",
      "metadata": {
        "id": "view-in-github",
        "colab_type": "text"
      },
      "source": [
        "<a href=\"https://colab.research.google.com/github/vanyaagarwal29/Python-Basics/blob/main/Python_Basics_Assignment_24.ipynb\" target=\"_parent\"><img src=\"https://colab.research.google.com/assets/colab-badge.svg\" alt=\"Open In Colab\"/></a>"
      ]
    },
    {
      "cell_type": "code",
      "execution_count": null,
      "metadata": {
        "id": "78flwmICxceo"
      },
      "outputs": [],
      "source": []
    },
    {
      "cell_type": "markdown",
      "source": [
        "What is the relationship between def statements and lambda expressions ?\n",
        "2. What is the benefit of lambda?\n",
        "3. Compare and contrast map, filter, and reduce.\n",
        "4. What are function annotations, and how are they used?\n",
        "5. What are recursive functions, and how are they used?\n",
        "6. What are some general design guidelines for coding functions?\n",
        "7. Name three or more ways that functions can communicate results to a caller."
      ],
      "metadata": {
        "id": "Bxxo8O4Sxhrl"
      }
    },
    {
      "cell_type": "code",
      "source": [],
      "metadata": {
        "id": "NJoR-LhOxjyE"
      },
      "execution_count": null,
      "outputs": []
    },
    {
      "cell_type": "markdown",
      "source": [
        "1. Relationship between `def` statements and lambda expressions:\n",
        "Both `def` statements and lambda expressions are used to define functions in Python, but they differ in their syntax and usage.\n",
        "\n",
        "- `def` statements: They are used to define regular functions in Python. These functions can have a name and can be defined with any number of arguments. The body of the function is indented and can contain multiple lines of code. Regular functions can have docstrings and support complex logic with statements like loops and conditional constructs.\n",
        "\n",
        "Example of a regular function using `def`:\n",
        "```python\n",
        "def add(a, b):\n",
        "    return a + b\n",
        "```\n",
        "\n",
        "- Lambda expressions: They are used to create small, anonymous functions. Lambda functions can take any number of arguments but can only have one expression in their body. They are often used for simple, one-line operations, where defining a regular function would be unnecessary and cumbersome. Lambda functions do not have a name and are usually used as arguments to higher-order functions like `map()`, `filter()`, and `sort()`.\n",
        "\n",
        "Example of a lambda function:\n",
        "```python\n",
        "add = lambda a, b: a + b\n",
        "```\n",
        "\n",
        "In summary, `def` statements are used to create named functions with complex logic, while lambda expressions are used to create small, anonymous functions for simple operations.\n",
        "\n",
        "2. Benefits of lambda:\n",
        "The main benefit of using lambda expressions is their simplicity and conciseness. Lambda functions allow you to define small, throwaway functions on the fly, without the need to give them a formal name. They are particularly useful when you need to pass a simple function as an argument to another function, like in functional programming paradigms using functions like `map()`, `filter()`, and `sort()`.\n",
        "\n",
        "3. Comparison of `map`, `filter`, and `reduce`:\n",
        "- `map`: The `map()` function applies a given function to all items in an iterable (e.g., list) and returns a new iterable with the results. It takes two arguments: the function to apply and the iterable. The resulting iterable will have the same number of elements as the input iterable.\n",
        "\n",
        "Example of `map()`:\n",
        "```python\n",
        "numbers = [1, 2, 3, 4, 5]\n",
        "squared_numbers = map(lambda x: x**2, numbers)\n",
        "# Output: [1, 4, 9, 16, 25]\n",
        "```\n",
        "\n",
        "- `filter`: The `filter()` function filters elements from an iterable based on a given function that returns either `True` or `False`. It takes two arguments: the function that performs the filtering and the iterable. The resulting iterable will only contain the elements for which the function returns `True`.\n",
        "\n",
        "Example of `filter()`:\n",
        "```python\n",
        "numbers = [1, 2, 3, 4, 5]\n",
        "even_numbers = filter(lambda x: x % 2 == 0, numbers)\n",
        "# Output: [2, 4]\n",
        "```\n",
        "\n",
        "- `reduce`: The `reduce()` function (from the `functools` module in Python 3) applies a function cumulatively to the items of an iterable from left to right. It returns a single value that represents the cumulative result. In Python 2, `reduce()` was a built-in function, but in Python 3, it was moved to the `functools` module.\n",
        "\n",
        "Example of `reduce()` (Python 3):\n",
        "```python\n",
        "from functools import reduce\n",
        "\n",
        "numbers = [1, 2, 3, 4, 5]\n",
        "sum_of_numbers = reduce(lambda x, y: x + y, numbers)\n",
        "# Output: 15 (1 + 2 + 3 + 4 + 5)\n",
        "```\n",
        "\n",
        "4. Function annotations:\n",
        "Function annotations are a way to add arbitrary metadata to the parameters and return value of a function in the form of expressions that are attached to the function's formal parameter list and the return value using colons.\n",
        "\n",
        "Example of function annotations:\n",
        "```python\n",
        "def add(a: int, b: int) -> int:\n",
        "    return a + b\n",
        "```\n",
        "\n",
        "Here, `a: int` and `b: int` are the parameter annotations, indicating that the function expects two integer arguments, and `-> int` is the return annotation, indicating that the function will return an integer.\n",
        "\n",
        "Function annotations do not affect the behavior of the function; they are simply a form of documentation to provide additional information about the function's arguments and return type.\n",
        "\n",
        "5. Recursive functions:\n",
        "Recursive functions are functions that call themselves within their own definition. They are used to solve problems that can be divided into smaller, simpler sub-problems, and the results of these sub-problems are combined to solve the original problem.\n",
        "\n",
        "Example of a recursive function to calculate the factorial of a number:\n",
        "```python\n",
        "def factorial(n):\n",
        "    if n == 0:\n",
        "        return 1\n",
        "    else:\n",
        "        return n * factorial(n - 1)\n",
        "```\n",
        "\n",
        "In this example, the `factorial()` function calls itself with a smaller value of `n` until it reaches the base case `n == 0`, at which point the recursion stops and the function starts returning the results back up the chain of recursive calls.\n",
        "\n",
        "6. General design guidelines for coding functions:\n",
        "Some general design guidelines for coding functions in Python are as follows:\n",
        "- Use meaningful function names that describe the purpose of the function.\n",
        "- Limit the function's scope to perform a specific task or operation.\n",
        "- Aim for functions to be short and focused, following the \"single responsibility principle.\"\n",
        "- Avoid global variables within functions unless necessary.\n",
        "- Document the function using docstrings to describe its purpose, parameters, and return value.\n",
        "- Use function annotations to specify the types of parameters and return values if it improves code readability.\n",
        "- Consider breaking complex functions into smaller, more manageable sub-functions to improve readability and maintainability.\n",
        "\n",
        "7. Ways that functions can communicate results to a caller:\n",
        "- Return values: Functions can use the `return` statement to send results back to the caller. The returned value can be any data type, including lists, dictionaries, or even other functions.\n",
        "- Printing: Functions can use the `print()` function to display intermediate results or debugging information directly to the console.\n",
        "- Modifying mutable objects: Functions can modify mutable objects (e.g., lists, dictionaries) that are passed as arguments, and these changes are visible to the caller.\n",
        "- Function annotations: As mentioned earlier, function annotations can provide additional information about the types of parameters and return values, which can be used by the caller to understand the function's behavior better. However, this information is not used directly by the function itself."
      ],
      "metadata": {
        "id": "tQosCWgkxwQ_"
      }
    },
    {
      "cell_type": "code",
      "source": [],
      "metadata": {
        "id": "cLKnV2qZxwwK"
      },
      "execution_count": null,
      "outputs": []
    }
  ]
}