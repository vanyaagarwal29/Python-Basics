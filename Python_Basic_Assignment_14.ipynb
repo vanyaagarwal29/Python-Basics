{
  "nbformat": 4,
  "nbformat_minor": 0,
  "metadata": {
    "colab": {
      "provenance": [],
      "authorship_tag": "ABX9TyMCk/OxHay9pncSjgK3Z/ts",
      "include_colab_link": true
    },
    "kernelspec": {
      "name": "python3",
      "display_name": "Python 3"
    },
    "language_info": {
      "name": "python"
    }
  },
  "cells": [
    {
      "cell_type": "markdown",
      "metadata": {
        "id": "view-in-github",
        "colab_type": "text"
      },
      "source": [
        "<a href=\"https://colab.research.google.com/github/vanyaagarwal29/Python-Basics/blob/main/Python_Basic_Assignment_14.ipynb\" target=\"_parent\"><img src=\"https://colab.research.google.com/assets/colab-badge.svg\" alt=\"Open In Colab\"/></a>"
      ]
    },
    {
      "cell_type": "markdown",
      "source": [
        "RGBA stands for \"Red Green Blue Alpha.\" It is a color model used in computer graphics and digital imaging to represent colors with transparency or opacity information.\n",
        "\n",
        "In the RGBA color model, each color is represented by four components:\n",
        "\n",
        "1. **Red (R):** This component represents the intensity of the red color, and it ranges from 0 to 255, where 0 is no red, and 255 is full intensity.\n",
        "\n",
        "2. **Green (G):** This component represents the intensity of the green color, and it also ranges from 0 to 255.\n",
        "\n",
        "3. **Blue (B):** This component represents the intensity of the blue color and has a range from 0 to 255.\n",
        "\n",
        "4. **Alpha (A):** The alpha component represents the transparency or opacity of the color. It also ranges from 0 to 255, where 0 means fully transparent (completely invisible), and 255 means fully opaque (completely solid).\n",
        "\n",
        "Using the RGBA color model, a wide range of colors with varying levels of transparency can be represented, making it useful for creating graphics and visual effects that require transparency, such as in image editing, graphics design, and computer-generated visual content.\n",
        "\n",
        "For example, the RGBA color (255, 0, 0, 128) would be a semi-transparent red color, where the red component is at full intensity (255), green and blue are at zero intensity (0), and the alpha component (128) represents 50% opacity, making it partially transparent."
      ],
      "metadata": {
        "id": "NrxZyBuEWTwN"
      }
    },
    {
      "cell_type": "code",
      "execution_count": null,
      "metadata": {
        "id": "facvFRcOWNUO"
      },
      "outputs": [],
      "source": []
    },
    {
      "cell_type": "markdown",
      "source": [
        "In the Pillow module (Python Imaging Library, also known as PIL), you can use the `getpixel()` method to get the RGBA (Red Green Blue Alpha) value of any pixel in an image. The `getpixel()` method is available for images with mode 'RGBA', which means images that have an alpha channel, allowing transparency.\n",
        "\n",
        "Here's an example of how to get the RGBA value of a pixel in an image using Pillow:\n",
        "\n",
        "```python\n",
        "from PIL import Image\n",
        "\n",
        "# Open the image file\n",
        "image = Image.open('example.png')\n",
        "\n",
        "# Get the RGBA value of a pixel at coordinates (x, y)\n",
        "x = 100\n",
        "y = 150\n",
        "rgba_value = image.getpixel((x, y))\n",
        "\n",
        "print(rgba_value)\n",
        "```\n",
        "\n",
        "In this example, we open an image file called `'example.png'` using `Image.open()`. Then, we specify the coordinates `(x, y)` of the pixel from which we want to retrieve the RGBA value. The `getpixel()` method returns a tuple containing the RGBA values for the specified pixel.\n",
        "\n",
        "The `rgba_value` will be a tuple with four integers representing the red, green, blue, and alpha components of the pixel. For example, `(255, 0, 0, 128)` represents a semi-transparent red pixel with 50% opacity.\n",
        "\n",
        "Make sure the image you are working with has an 'RGBA' mode, allowing transparency. If the image mode is different, such as 'RGB' (without alpha), using `getpixel()` may raise an `AttributeError`. If needed, you can convert the image to RGBA mode using the `convert()` method before using `getpixel()`:\n",
        "\n",
        "```python\n",
        "image = image.convert('RGBA')\n",
        "```"
      ],
      "metadata": {
        "id": "-F_BOfarWfRa"
      }
    },
    {
      "cell_type": "code",
      "source": [],
      "metadata": {
        "id": "t_j-3Bs1Wf-k"
      },
      "execution_count": null,
      "outputs": []
    },
    {
      "cell_type": "markdown",
      "source": [
        "In the context of the Python Imaging Library (PIL) and its successor Pillow, a \"box tuple\" is a common way to represent a rectangular region within an image. It is a tuple containing four integer values that define the coordinates of a rectangular box.\n",
        "\n",
        "The box tuple is generally represented as `(left, upper, right, lower)`, where:\n",
        "\n",
        "- `left`: The x-coordinate of the left edge of the box.\n",
        "- `upper`: The y-coordinate of the upper edge of the box.\n",
        "- `right`: The x-coordinate of the right edge of the box.\n",
        "- `lower`: The y-coordinate of the lower edge of the box.\n",
        "\n",
        "Together, these four values define the boundaries of a rectangular region within an image. The box tuple is often used in various image manipulation functions to crop, paste, or extract specific regions of an image.\n",
        "\n",
        "Let's take an example of how a box tuple can be used to crop a rectangular region from an image using Pillow:\n",
        "\n",
        "```python\n",
        "from PIL import Image\n",
        "\n",
        "# Open the image file\n",
        "image = Image.open('example.jpg')\n",
        "\n",
        "# Define the box tuple representing the region to crop (left, upper, right, lower)\n",
        "box = (100, 150, 400, 350)\n",
        "\n",
        "# Crop the image using the box tuple\n",
        "cropped_image = image.crop(box)\n",
        "\n",
        "# Save the cropped image to a new file\n",
        "cropped_image.save('cropped_example.jpg')\n",
        "```\n",
        "\n",
        "In this example, we have an image file named `'example.jpg'`. We define the box tuple `(100, 150, 400, 350)` to represent a rectangular region starting at coordinates `(100, 150)` and ending at coordinates `(400, 350)`. The `crop()` method of the image object is then used with the box tuple to extract that specific region from the image. Finally, the cropped image is saved to a new file named `'cropped_example.jpg'`.\n",
        "\n",
        "The box tuple simplifies the process of working with rectangular regions in images, allowing easy specification of coordinates for cropping, pasting, or any other region-based manipulation."
      ],
      "metadata": {
        "id": "DxYuSbj7WuMy"
      }
    },
    {
      "cell_type": "code",
      "source": [],
      "metadata": {
        "id": "9OP288hvWuzG"
      },
      "execution_count": null,
      "outputs": []
    },
    {
      "cell_type": "markdown",
      "source": [
        "As an AI language model, I don't have access to the internet or the ability to directly interact with files, including images. However, I can provide you with the Python code to load an image and find out its width and height using the Pillow library.\n",
        "\n",
        "To work with images in a Jupyter Notebook or Python script, you need to have the Pillow library installed. If you don't have it, you can install it using the following command:\n",
        "\n",
        "```bash\n",
        "pip install Pillow\n",
        "```\n",
        "\n",
        "Once you have Pillow installed, you can use the following code to load an image, find out its width and height, and display the image in a Jupyter Notebook:\n",
        "\n",
        "```python\n",
        "from PIL import Image\n",
        "import matplotlib.pyplot as plt\n",
        "\n",
        "# Load the image file\n",
        "image_path = 'path_to_your_image.jpg'  # Replace 'path_to_your_image.jpg' with the actual path to your image\n",
        "image = Image.open(image_path)\n",
        "\n",
        "# Get the width and height of the image\n",
        "width, height = image.size\n",
        "\n",
        "# Display the image\n",
        "plt.imshow(image)\n",
        "plt.axis('off')\n",
        "plt.show()\n",
        "\n",
        "# Print the width and height of the image\n",
        "print(f\"Width: {width}px, Height: {height}px\")\n",
        "```\n",
        "\n",
        "Replace `'path_to_your_image.jpg'` with the actual path to the image you want to load. The code will load the image, display it in the notebook, and print its width and height in pixels.\n",
        "\n",
        "Remember to change the file extension (e.g., `.jpg`, `.png`, etc.) in the `image_path` variable according to the format of your image file."
      ],
      "metadata": {
        "id": "RUTc3MNVW50m"
      }
    },
    {
      "cell_type": "code",
      "source": [],
      "metadata": {
        "id": "YZs7WGAuW6dB"
      },
      "execution_count": null,
      "outputs": []
    },
    {
      "cell_type": "markdown",
      "source": [
        "To get an Image object for a 100x100 image excluding the lower-left quarter of it, you can use the `crop()` method from the Pillow library. The `crop()` method allows you to extract a rectangular region (box) from the original image.\n",
        "\n",
        "Here's how you can do it:\n",
        "\n",
        "```python\n",
        "from PIL import Image\n",
        "\n",
        "# Open the original image\n",
        "image_path = 'path_to_your_image.jpg'  # Replace 'path_to_your_image.jpg' with the actual path to your image\n",
        "image = Image.open(image_path)\n",
        "\n",
        "# Define the box tuple for the region to crop (left, upper, right, lower)\n",
        "box = (0, 0, 50, 50)  # Excludes the lower-left quarter of the 100x100 image\n",
        "\n",
        "# Crop the image using the box tuple\n",
        "cropped_image = image.crop(box)\n",
        "\n",
        "# Display the cropped image\n",
        "cropped_image.show()\n",
        "```\n",
        "\n",
        "In this example, we first open the original image using `Image.open()`. The `box` tuple `(0, 0, 50, 50)` represents the region to crop, where `(0, 0)` is the top-left corner of the region, and `(50, 50)` is the bottom-right corner, effectively excluding the lower-left quarter of the 100x100 image. The `crop()` method is then used to extract that specific region from the original image, and the cropped image is displayed using the `show()` method.\n",
        "\n",
        "Make sure to replace `'path_to_your_image.jpg'` with the actual path to the image you want to crop."
      ],
      "metadata": {
        "id": "IT95BsW8XDJF"
      }
    },
    {
      "cell_type": "code",
      "source": [],
      "metadata": {
        "id": "uKPbPMGbXD1o"
      },
      "execution_count": null,
      "outputs": []
    },
    {
      "cell_type": "markdown",
      "source": [
        "After making changes to an Image object using the Pillow library in Python, you can save the modified image as an image file using the `save()` method of the Image object. The `save()` method allows you to save the image in various image formats, such as JPEG, PNG, BMP, GIF, etc.\n",
        "\n",
        "Here's an example of how to save an Image object as an image file:\n",
        "\n",
        "```python\n",
        "from PIL import Image\n",
        "\n",
        "# Open the original image\n",
        "image_path = 'path_to_your_image.jpg'  # Replace 'path_to_your_image.jpg' with the actual path to your image\n",
        "image = Image.open(image_path)\n",
        "\n",
        "# Perform some modifications on the image (e.g., cropping, resizing, filtering, etc.)\n",
        "\n",
        "# Save the modified image as a new file\n",
        "modified_image_path = 'path_to_save_modified_image.jpg'  # Replace 'path_to_save_modified_image.jpg' with the desired file path\n",
        "image.save(modified_image_path)\n",
        "\n",
        "# Optionally, display the modified image\n",
        "image.show()\n",
        "```\n",
        "\n",
        "In this example, we first open the original image using `Image.open()`. After performing some modifications on the image (e.g., cropping, resizing, filtering, etc.), we use the `save()` method to save the modified image as a new file. Replace `'path_to_save_modified_image.jpg'` with the desired file path where you want to save the modified image.\n",
        "\n",
        "You can choose the file format by providing an appropriate file extension in the `modified_image_path`. For example, `.jpg` for JPEG format, `.png` for PNG format, etc.\n",
        "\n",
        "After saving the image, you can use image viewers or other software to view the modified image file. Additionally, you can also use the `show()` method of the Image object to display the modified image directly within your Python environment."
      ],
      "metadata": {
        "id": "5zmbysEpXN6s"
      }
    },
    {
      "cell_type": "code",
      "source": [],
      "metadata": {
        "id": "MSUARbTfXPRZ"
      },
      "execution_count": null,
      "outputs": []
    },
    {
      "cell_type": "markdown",
      "source": [
        "Pillow's shape-drawing code is contained within the `ImageDraw` module. The `ImageDraw` module provides a set of functions that allow you to draw various shapes, lines, and text on an `Image` object from the Pillow library.\n",
        "\n",
        "To use the shape-drawing functionalities in Pillow, you need to import the `ImageDraw` module along with the `Image` module. Here's an example of how to draw shapes on an image using Pillow:\n",
        "\n",
        "```python\n",
        "from PIL import Image, ImageDraw\n",
        "\n",
        "# Create a new 300x200 blank image\n",
        "width, height = 300, 200\n",
        "image = Image.new('RGB', (width, height), color='white')\n",
        "\n",
        "# Create an ImageDraw object\n",
        "draw = ImageDraw.Draw(image)\n",
        "\n",
        "# Draw a rectangle\n",
        "rectangle_box = [(50, 50), (250, 150)]\n",
        "draw.rectangle(rectangle_box, outline='red', width=3)\n",
        "\n",
        "# Draw a filled ellipse\n",
        "ellipse_box = [(100, 100), (200, 180)]\n",
        "draw.ellipse(ellipse_box, fill='blue')\n",
        "\n",
        "# Save the image to a file\n",
        "image.save('shapes.png')\n",
        "\n",
        "# Show the image (optional)\n",
        "image.show()\n",
        "```\n",
        "\n",
        "In this example, we first create a new blank image with a white background using `Image.new()`. Then, we create an `ImageDraw` object called `draw` associated with the image. We use the `draw.rectangle()` method to draw a red-outlined rectangle and the `draw.ellipse()` method to draw a blue-filled ellipse on the image.\n",
        "\n",
        "Finally, we save the modified image as `'shapes.png'` and optionally display it using the `image.show()` method.\n",
        "\n",
        "Make sure to install the Pillow library before running this code, using `pip install Pillow` if you haven't done so already.\n"
      ],
      "metadata": {
        "id": "2oZNY3W4XeZB"
      }
    },
    {
      "cell_type": "code",
      "source": [],
      "metadata": {
        "id": "lILVU2QWXfMZ"
      },
      "execution_count": null,
      "outputs": []
    },
    {
      "cell_type": "markdown",
      "source": [
        "Image objects do not have drawing methods. What kind of object does? How do you get this kind\n",
        "of object?\n",
        "You are correct. My apologies for the confusion. Image objects in the Pillow library do not have built-in drawing methods. Instead, drawing methods are available in the `ImageDraw` module, as mentioned earlier. The `ImageDraw` module provides the necessary functions to draw shapes, lines, and text on an image.\n",
        "\n",
        "To get an `ImageDraw` object, you need to create it using the `ImageDraw.Draw()` function. This function takes an `Image` object as an argument and returns an `ImageDraw` object associated with that image.\n",
        "\n",
        "Here's a corrected version of the previous example to draw shapes on an image using the `ImageDraw` module:\n",
        "\n",
        "```python\n",
        "from PIL import Image, ImageDraw\n",
        "\n",
        "# Create a new 300x200 blank image\n",
        "width, height = 300, 200\n",
        "image = Image.new('RGB', (width, height), color='white')\n",
        "\n",
        "# Get an ImageDraw object associated with the image\n",
        "draw = ImageDraw.Draw(image)\n",
        "\n",
        "# Draw a rectangle\n",
        "rectangle_box = [(50, 50), (250, 150)]\n",
        "draw.rectangle(rectangle_box, outline='red', width=3)\n",
        "\n",
        "# Draw a filled ellipse\n",
        "ellipse_box = [(100, 100), (200, 180)]\n",
        "draw.ellipse(ellipse_box, fill='blue')\n",
        "\n",
        "# Save the image to a file\n",
        "image.save('shapes.png')\n",
        "\n",
        "# Show the image (optional)\n",
        "image.show()\n",
        "```\n",
        "\n",
        "In this corrected example, we first create a new blank image with a white background using `Image.new()`. Then, we use `ImageDraw.Draw(image)` to get an `ImageDraw` object called `draw` associated with the image. We can now use the `draw` object to draw shapes on the image using methods like `draw.rectangle()` and `draw.ellipse()`.\n",
        "\n",
        "Again, apologies for the oversight, and thank you for pointing that out. This code should now work correctly to draw shapes on the image using the `ImageDraw` module in Pillow."
      ],
      "metadata": {
        "id": "vLb93xBFXwFa"
      }
    },
    {
      "cell_type": "code",
      "source": [],
      "metadata": {
        "id": "9KfqwyW2XzHQ"
      },
      "execution_count": null,
      "outputs": []
    }
  ]
}