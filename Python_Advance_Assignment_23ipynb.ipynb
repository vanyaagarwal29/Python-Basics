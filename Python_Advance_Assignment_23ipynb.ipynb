{
  "nbformat": 4,
  "nbformat_minor": 0,
  "metadata": {
    "colab": {
      "provenance": [],
      "authorship_tag": "ABX9TyNRUjDtF6kucvGffaG+e+ds",
      "include_colab_link": true
    },
    "kernelspec": {
      "name": "python3",
      "display_name": "Python 3"
    },
    "language_info": {
      "name": "python"
    }
  },
  "cells": [
    {
      "cell_type": "markdown",
      "metadata": {
        "id": "view-in-github",
        "colab_type": "text"
      },
      "source": [
        "<a href=\"https://colab.research.google.com/github/vanyaagarwal29/Python-Basics/blob/main/Python_Advance_Assignment_23ipynb.ipynb\" target=\"_parent\"><img src=\"https://colab.research.google.com/assets/colab-badge.svg\" alt=\"Open In Colab\"/></a>"
      ]
    },
    {
      "cell_type": "code",
      "execution_count": null,
      "metadata": {
        "id": "GpLfH5n05Maw"
      },
      "outputs": [],
      "source": []
    },
    {
      "cell_type": "markdown",
      "source": [
        "Q1. Choices for increasing the comparison between different figures on the same graph:\n",
        "- Use different colors or markers for each figure to make them visually distinct.\n",
        "- Adjust the line styles (solid, dashed, dotted, etc.) to differentiate between the figures.\n",
        "- Add labels, legends, and titles to provide clear context for each figure.\n",
        "- Adjust the y-axis scale to highlight the variations in the data more effectively.\n",
        "- Use annotations or arrows to point out specific data points or trends.\n",
        "\n",
        "Q2. Benefit of compound interest over a higher rate of interest that does not compound:\n",
        "Compound interest allows the initial principal amount to grow exponentially over time. As interest is added to the principal at regular intervals, it accumulates more interest in subsequent periods, leading to faster growth of the investment. In contrast, a higher rate of interest that does not compound will only increase the investment linearly, resulting in slower growth and lower returns in the long run.\n",
        "\n",
        "Q3. Histogram and numpy method for creating such a graph:\n",
        "A histogram is a graphical representation of the distribution of a dataset, displaying the frequencies of different values or intervals. The `numpy.histogram()` method can be used to create a histogram graph from the data.\n",
        "\n",
        "Q4. Changing aspect ratios between X and Y axes:\n",
        "To change the aspect ratio between the X and Y axes, you can set the `aspect` parameter when creating the plot using a plotting library like Matplotlib. A value of 1.0 represents equal aspect ratio (1:1), and values greater or smaller than 1.0 will adjust the aspect ratio accordingly.\n",
        "\n",
        "Q5. Types of array multiplication in numpy:\n",
        "- Dot product: It performs matrix multiplication between two arrays if they are two-dimensional, or the dot product for one-dimensional arrays. It is represented by the `numpy.dot()` function or the `@` operator.\n",
        "- Outer product: It computes the outer product of two vectors, resulting in a higher-dimensional array. It is represented by the `numpy.outer()` function.\n",
        "- Regular multiplication: It performs element-wise multiplication between two arrays with the same shape. It is represented by the `*` operator.\n",
        "\n",
        "Q6. Numpy function to measure monthly mortgage payment:\n",
        "The numpy function to measure the monthly mortgage payment is not directly available in numpy. However, you can use financial functions like `numpy.pmt()` in combination with other numpy functions to calculate the monthly mortgage payment.\n",
        "\n",
        "Q7. Storing string data in numpy arrays and associated restrictions:\n",
        "Yes, string data can be stored in numpy arrays using the `numpy.array()` function. However, numpy arrays have a fixed data type, and all elements in the array must have the same length. This means that if you store strings in a numpy array, all strings should have the same length, and any string exceeding that length will be truncated or padded with whitespace."
      ],
      "metadata": {
        "id": "1B2_Qnsv5Vpt"
      }
    },
    {
      "cell_type": "code",
      "source": [],
      "metadata": {
        "id": "sGqt4ry25WFQ"
      },
      "execution_count": null,
      "outputs": []
    }
  ]
}