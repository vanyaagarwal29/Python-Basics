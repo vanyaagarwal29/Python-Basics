{
  "nbformat": 4,
  "nbformat_minor": 0,
  "metadata": {
    "colab": {
      "provenance": [],
      "authorship_tag": "ABX9TyNnf33AQ0QFOGGMkwLEwqV5",
      "include_colab_link": true
    },
    "kernelspec": {
      "name": "python3",
      "display_name": "Python 3"
    },
    "language_info": {
      "name": "python"
    }
  },
  "cells": [
    {
      "cell_type": "markdown",
      "metadata": {
        "id": "view-in-github",
        "colab_type": "text"
      },
      "source": [
        "<a href=\"https://colab.research.google.com/github/vanyaagarwal29/Python-Basics/blob/main/Python_Advanced_Assignment_11.ipynb\" target=\"_parent\"><img src=\"https://colab.research.google.com/assets/colab-badge.svg\" alt=\"Open In Colab\"/></a>"
      ]
    },
    {
      "cell_type": "markdown",
      "source": [
        "Q1. What is the concept of a metaclass?\n",
        "\n",
        "Q2. What is the best way to declare a class&#39;s metaclass?\n",
        "\n",
        "Q3. How do class decorators overlap with metaclasses for handling classes?\n",
        "\n",
        "Q4. How do class decorators overlap with metaclasses for handling instances?"
      ],
      "metadata": {
        "id": "6fAi19eerlVg"
      }
    },
    {
      "cell_type": "code",
      "execution_count": null,
      "metadata": {
        "id": "NVkIsWherYCb"
      },
      "outputs": [],
      "source": []
    },
    {
      "cell_type": "markdown",
      "source": [
        "Q1. Concept of a metaclass:\n",
        "In Python, everything is an object, including classes. A metaclass is a class that defines the behavior of other classes (i.e., it is the \"class of a class\"). It controls how a class is created, instantiated, and behaves. Metaclasses allow you to customize the behavior of classes at the time of their creation. They provide a powerful way to modify class attributes, methods, and other aspects of class behavior.\n",
        "\n",
        "Q2. Best way to declare a class's metaclass:\n",
        "To declare a metaclass for a class, you need to set the `__metaclass__` attribute of the class. However, using the `__metaclass__` attribute is an older approach, and it is generally recommended to use the `metaclass` keyword argument in the class definition.\n",
        "\n",
        "Using `metaclass` keyword argument (preferred method):\n",
        "\n",
        "```python\n",
        "class MyMeta(type):\n",
        "    pass\n",
        "\n",
        "class MyClass(metaclass=MyMeta):\n",
        "    pass\n",
        "```\n",
        "\n",
        "Older approach using `__metaclass__` attribute:\n",
        "\n",
        "```python\n",
        "class MyMeta(type):\n",
        "    pass\n",
        "\n",
        "class MyClass:\n",
        "    __metaclass__ = MyMeta\n",
        "```\n",
        "\n",
        "Q3. Overlap between class decorators and metaclasses for handling classes:\n",
        "Both class decorators and metaclasses can be used to customize the behavior of classes at the time of their creation.\n",
        "\n",
        "- Class decorators: A class decorator is a function that takes a class as input and returns a new class (usually a subclass) with added or modified functionality. Class decorators are applied to the class immediately after it is defined, and they allow you to modify the class attributes or methods.\n",
        "\n",
        "Example of a class decorator:\n",
        "\n",
        "```python\n",
        "def my_class_decorator(cls):\n",
        "    class NewClass(cls):\n",
        "        def new_method(self):\n",
        "            return \"New method added.\"\n",
        "    return NewClass\n",
        "\n",
        "@my_class_decorator\n",
        "class MyClass:\n",
        "    def existing_method(self):\n",
        "        return \"Existing method.\"\n",
        "\n",
        "obj = MyClass()\n",
        "print(obj.existing_method())  # Output: \"Existing method.\"\n",
        "print(obj.new_method())       # Output: \"New method added.\"\n",
        "```\n",
        "\n",
        "- Metaclasses: As mentioned earlier, metaclasses control the creation and behavior of classes. When you define a metaclass for a class, the metaclass's `__new__()` and `__init__()` methods are called when creating the class. This allows you to customize the class creation process.\n",
        "\n",
        "Q4. Overlap between class decorators and metaclasses for handling instances:\n",
        "Class decorators and metaclasses mainly handle class-level behavior, and they are not directly involved in handling instances of the class. However, the behavior they add or modify at the class level can impact the behavior of instances.\n",
        "\n",
        "- Class decorators: Class decorators can add new methods or attributes to a class, which will be accessible from instances of the class.\n",
        "\n",
        "Example:\n",
        "\n",
        "```python\n",
        "def my_class_decorator(cls):\n",
        "    def new_method(self):\n",
        "        return \"New method added.\"\n",
        "    cls.new_method = new_method\n",
        "    return cls\n",
        "\n",
        "@my_class_decorator\n",
        "class MyClass:\n",
        "    def existing_method(self):\n",
        "        return \"Existing method.\"\n",
        "\n",
        "obj = MyClass()\n",
        "print(obj.new_method())  # Output: \"New method added.\"\n",
        "```\n",
        "\n",
        "- Metaclasses: Metaclasses can modify the behavior of instances by intercepting the instantiation process (usually by overriding the `__call__()` method). They can add or modify instance attributes, methods, or control how instances are initialized.\n",
        "\n",
        "Example:\n",
        "\n",
        "```python\n",
        "class MyMeta(type):\n",
        "    def __call__(cls, *args, **kwargs):\n",
        "        instance = super().__call__(*args, **kwargs)\n",
        "        instance.new_attribute = \"New attribute added.\"\n",
        "        return instance\n",
        "\n",
        "class MyClass(metaclass=MyMeta):\n",
        "    def __init__(self, value):\n",
        "        self.value = value\n",
        "\n",
        "obj = MyClass(42)\n",
        "print(obj.value)           # Output: 42\n",
        "print(obj.new_attribute)   # Output: \"New attribute added.\"\n",
        "```\n",
        "\n",
        "In summary, while both class decorators and metaclasses primarily handle class-level behavior, they can indirectly impact instances by adding or modifying methods, attributes, or instance initialization behavior at the class level. However, their primary focus remains on customizing class behavior and not instance behavior directly."
      ],
      "metadata": {
        "id": "LJP4rVaDsRoN"
      }
    },
    {
      "cell_type": "code",
      "source": [],
      "metadata": {
        "id": "Ilxf7HWOsSZf"
      },
      "execution_count": null,
      "outputs": []
    }
  ]
}