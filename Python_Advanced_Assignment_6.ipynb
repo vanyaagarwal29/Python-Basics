{
  "nbformat": 4,
  "nbformat_minor": 0,
  "metadata": {
    "colab": {
      "provenance": [],
      "authorship_tag": "ABX9TyObea2tOeeg1FAzUDBnG4t+",
      "include_colab_link": true
    },
    "kernelspec": {
      "name": "python3",
      "display_name": "Python 3"
    },
    "language_info": {
      "name": "python"
    }
  },
  "cells": [
    {
      "cell_type": "markdown",
      "metadata": {
        "id": "view-in-github",
        "colab_type": "text"
      },
      "source": [
        "<a href=\"https://colab.research.google.com/github/vanyaagarwal29/Python-Basics/blob/main/Python_Advanced_Assignment_6.ipynb\" target=\"_parent\"><img src=\"https://colab.research.google.com/assets/colab-badge.svg\" alt=\"Open In Colab\"/></a>"
      ]
    },
    {
      "cell_type": "code",
      "execution_count": null,
      "metadata": {
        "id": "gaxNWgxcjEZU"
      },
      "outputs": [],
      "source": []
    },
    {
      "cell_type": "markdown",
      "source": [
        "Describe three applications for exception processing.\n",
        "\n",
        "Exception processing is an important concept in programming and software development that deals with handling unexpected or abnormal situations that may occur during the execution of a program. Here are three common applications for exception processing:\n",
        "\n",
        "Error Handling:\n",
        "One of the primary applications of exception processing is error handling. In any software application, errors can occur due to various reasons, such as invalid user input, file not found, network issues, or other unexpected events. Instead of letting these errors crash the program or produce incorrect results, developers use exception handling to gracefully manage these situations.\n",
        "When an error occurs, the program can raise an exception, which triggers the execution of a corresponding exception handler. The handler then takes appropriate actions to deal with the error, such as displaying an error message to the user, logging the error for debugging purposes, or attempting to recover from the error and continue the program's execution.\n",
        "\n",
        "Input Validation:\n",
        "Input validation is crucial to ensure that the data provided by users or external sources is correct and safe for processing. Exception processing can be employed to handle input validation issues effectively. When the program encounters invalid or unexpected input, instead of proceeding with potentially harmful operations, it raises an exception indicating the input is incorrect.\n",
        "The exception handler can then inform the user of the invalid input and prompt them to provide valid data or take other appropriate actions. By using exception processing for input validation, the program maintains control over how it responds to erroneous input and prevents potential security vulnerabilities.\n",
        "\n",
        "Resource Management:\n",
        "In many software applications, resources such as files, network connections, and database connections need to be managed carefully. Exception processing is instrumental in ensuring proper resource management, especially during situations where resources might become unavailable or fail to be properly initialized.\n",
        "For example, when a program needs to read data from a file, an exception can be raised if the file is not found or cannot be accessed. The exception handler can then close any open file handles and perform necessary cleanup operations, preventing resource leaks and potential data corruption.\n",
        "\n",
        "In summary, exception processing finds applications in error handling, input validation, and resource management, among other scenarios. By using exception handling techniques, developers can make their software more robust, maintainable, and user-friendly."
      ],
      "metadata": {
        "id": "wk-v5CB3sD-m"
      }
    },
    {
      "cell_type": "code",
      "source": [],
      "metadata": {
        "id": "lbCluciTsGGW"
      },
      "execution_count": null,
      "outputs": []
    },
    {
      "cell_type": "markdown",
      "source": [
        "What happens if you don&#39;t do something extra to treat an exception?\n",
        "\n",
        "If you don't handle an exception in your code, the program will typically encounter what is known as an \"unhandled exception.\" When an exception is not treated or caught, the program's normal flow of execution is disrupted, and the following consequences may occur:\n",
        "\n",
        "Program Termination: Unhandled exceptions can cause the program to terminate abruptly. The operating system or runtime environment may detect the unhandled exception and terminate the application to prevent it from causing further issues or potential security vulnerabilities.\n",
        "\n",
        "Crash Reports: Depending on the platform and environment, the operating system or runtime may generate a crash report or error message that informs the user about the unhandled exception. This information may be logged for debugging purposes or sent to the developer to identify the cause of the exception.\n",
        "\n",
        "Data Corruption: If an exception occurs during critical operations (e.g., writing to a file or database), and it's left unhandled, the program may leave the data in an inconsistent state or corrupt the data altogether. This can lead to data loss or incorrect results in subsequent program executions.\n",
        "\n",
        "Security Risks: Unhandled exceptions can potentially lead to security vulnerabilities. For example, an attacker could exploit an unhandled exception to gain unauthorized access to a system or obtain sensitive information.\n",
        "\n",
        "Poor User Experience: Unhandled exceptions can result in a poor user experience since the application crashes without providing any meaningful feedback to the user. This can be frustrating and discouraging for users.\n",
        "\n",
        "To avoid these negative consequences, it's essential to implement proper exception handling in your code. By catching and handling exceptions, you can gracefully manage unexpected situations, provide meaningful error messages to users, log relevant information for debugging, and ensure that your program behaves as expected even during adverse conditions. Exception handling improves the overall robust"
      ],
      "metadata": {
        "id": "_pz2AZArslmM"
      }
    },
    {
      "cell_type": "code",
      "source": [],
      "metadata": {
        "id": "jn3W8zzGtJlP"
      },
      "execution_count": null,
      "outputs": []
    },
    {
      "cell_type": "markdown",
      "source": [
        "What are your options for recovering from an exception in your script?\n",
        "\n",
        "When an exception occurs in a script, there are several options for recovering from it and ensuring that the program continues its execution gracefully. These options include:\n",
        "\n",
        "Try-Except Block: The most common way to recover from an exception is by using a try-except block. In this approach, you wrap the code that may raise an exception inside a try block. If an exception occurs within the try block, the program immediately jumps to the corresponding except block, which contains the code to handle the exception. By catching the exception, you can take appropriate actions, log the error, display a friendly error message to the user, or attempt to recover from the error. This approach prevents the script from crashing and allows it to continue executing the subsequent code."
      ],
      "metadata": {
        "id": "INosPEJtu-Kz"
      }
    },
    {
      "cell_type": "markdown",
      "source": [
        "Try-Except-Else Block: The try-except-else block extends the try-except functionality by providing an additional else block. Code inside the else block will execute only if no exception occurs in the try block. This can be useful for isolating code that should only run if no exceptions were encountered."
      ],
      "metadata": {
        "id": "jUc7mqkqvBzW"
      }
    },
    {
      "cell_type": "markdown",
      "source": [
        "Try-Except-Finally Block: The try-except-finally block includes a finally block that always executes, regardless of whether an exception occurred or not. It's used for cleanup operations, such as releasing resources or closing files, that need to be performed regardless of the exception."
      ],
      "metadata": {
        "id": "EXWgFVx0vE7e"
      }
    },
    {
      "cell_type": "markdown",
      "source": [],
      "metadata": {
        "id": "5qkMtPn6vI0d"
      }
    },
    {
      "cell_type": "markdown",
      "source": [
        "Raising Custom Exceptions: Sometimes, you may want to raise custom exceptions to handle specific situations in your script. This allows you to create custom exception classes and use them to handle errors in a more organized and meaningful way."
      ],
      "metadata": {
        "id": "lrIdVc4kvImJ"
      }
    },
    {
      "cell_type": "code",
      "source": [],
      "metadata": {
        "id": "rtLpWV9wu_a4"
      },
      "execution_count": null,
      "outputs": []
    },
    {
      "cell_type": "markdown",
      "source": [
        "Describe two methods for triggering exceptions in your script.\n",
        "\n",
        "In Python, there are several methods for triggering exceptions intentionally in your script. Here are two common ways to raise exceptions programmatically:\n",
        "\n",
        "Using the raise statement:\n",
        "The raise statement is used to raise exceptions explicitly. It allows you to trigger built-in or custom exceptions based on certain conditions or situations in your code. The raise statement takes an exception class (either a built-in exception like ValueError or a custom exception class) or an instance of an exception as an argument."
      ],
      "metadata": {
        "id": "7AeoWt0ZvKCL"
      }
    },
    {
      "cell_type": "code",
      "source": [
        "def divide_numbers(a, b):\n",
        "    if b == 0:\n",
        "        raise ZeroDivisionError(\"Cannot divide by zero.\")\n",
        "    return a / b\n",
        "\n",
        "try:\n",
        "    result = divide_numbers(10, 0)\n",
        "except ZeroDivisionError as e:\n",
        "    print(\"Error:\", str(e))\n"
      ],
      "metadata": {
        "colab": {
          "base_uri": "https://localhost:8080/"
        },
        "id": "mAbwcdJ5vmur",
        "outputId": "acfc06aa-d710-48f8-eaa0-79917969e3f1"
      },
      "execution_count": 1,
      "outputs": [
        {
          "output_type": "stream",
          "name": "stdout",
          "text": [
            "Error: Cannot divide by zero.\n"
          ]
        }
      ]
    },
    {
      "cell_type": "code",
      "source": [
        "class CustomError(Exception):\n",
        "    pass\n",
        "\n",
        "def process_data(data):\n",
        "    if not data:\n",
        "        raise CustomError(\"Invalid data: data cannot be empty.\")\n",
        "\n",
        "try:\n",
        "    process_data(None)\n",
        "except CustomError as e:\n",
        "    print(\"Error:\", str(e))\n"
      ],
      "metadata": {
        "colab": {
          "base_uri": "https://localhost:8080/"
        },
        "id": "LGAUh0l2wgHl",
        "outputId": "00195501-f6cc-49fb-da7b-8e48d71a2873"
      },
      "execution_count": 2,
      "outputs": [
        {
          "output_type": "stream",
          "name": "stdout",
          "text": [
            "Error: Invalid data: data cannot be empty.\n"
          ]
        }
      ]
    },
    {
      "cell_type": "code",
      "source": [],
      "metadata": {
        "id": "Zz25PPSQwijt"
      },
      "execution_count": null,
      "outputs": []
    },
    {
      "cell_type": "markdown",
      "source": [
        "Using built-in functions that raise exceptions:\n",
        "Python provides certain built-in functions that can raise exceptions based on specific conditions. These functions are designed to signal errors or exceptional situations."
      ],
      "metadata": {
        "id": "U7ZxermDwnyU"
      }
    },
    {
      "cell_type": "code",
      "source": [
        "def convert_to_integer(value):\n",
        "    try:\n",
        "        result = int(value)\n",
        "        return result\n",
        "    except ValueError as e:\n",
        "        print(\"ValueError:\", str(e))\n",
        "\n",
        "convert_to_integer(\"not_an_integer\")\n"
      ],
      "metadata": {
        "colab": {
          "base_uri": "https://localhost:8080/"
        },
        "id": "yvG5WDD4woMD",
        "outputId": "477e49a7-a592-4be1-eac3-1af087704976"
      },
      "execution_count": 3,
      "outputs": [
        {
          "output_type": "stream",
          "name": "stdout",
          "text": [
            "ValueError: invalid literal for int() with base 10: 'not_an_integer'\n"
          ]
        }
      ]
    },
    {
      "cell_type": "markdown",
      "source": [
        "In this example, the int() function is used to convert a string to an integer. If the provided string is not a valid integer, the function raises a ValueError. We catch the exception in the except block and handle it appropriately.\n",
        "\n",
        "In both methods, the intentional raising of exceptions allows you to control the flow of your program and handle exceptional situations gracefully. By raising exceptions, you can provide meaningful error messages or perform specific actions when certain conditions are met, enhancing the robustness and reliability of your code."
      ],
      "metadata": {
        "id": "IIPLTLT-wv0i"
      }
    },
    {
      "cell_type": "code",
      "source": [],
      "metadata": {
        "id": "YJ1Edj1EwryW"
      },
      "execution_count": null,
      "outputs": []
    },
    {
      "cell_type": "markdown",
      "source": [
        "Q5. Identify two methods for specifying actions to be executed at termination time, regardless of\n",
        "whether or not an exception exists.\n",
        "\n",
        "In Python, you can specify actions to be executed at termination time, regardless of whether or not an exception exists, by using the finally block and context managers (using the with statement).\n",
        "\n",
        "Using the finally block:\n",
        "The finally block is used in conjunction with a try-except block and allows you to specify a set of statements that will be executed regardless of whether an exception was raised or not. It ensures that certain cleanup operations or finalization tasks are performed, regardless of the outcome of the code in the try block.\n",
        "Example: Using finally block for cleanup"
      ],
      "metadata": {
        "id": "4K05XgxfyDmN"
      }
    },
    {
      "cell_type": "code",
      "source": [
        "def read_file(filename):\n",
        "    try:\n",
        "        file = open(filename, \"r\")\n",
        "        # Perform operations with the file\n",
        "    except FileNotFoundError:\n",
        "        print(\"File not found!\")\n",
        "    finally:\n",
        "        # Cleanup operations\n",
        "        if 'file' in locals():\n",
        "            file.close()\n",
        "\n",
        "# Call the function\n",
        "read_file(\"example.txt\")\n"
      ],
      "metadata": {
        "colab": {
          "base_uri": "https://localhost:8080/"
        },
        "id": "me3qyYMGyHUC",
        "outputId": "8ae46b4e-f3fb-4905-d552-c1ab701a223a"
      },
      "execution_count": 4,
      "outputs": [
        {
          "output_type": "stream",
          "name": "stdout",
          "text": [
            "File not found!\n"
          ]
        }
      ]
    },
    {
      "cell_type": "markdown",
      "source": [
        "In this example, the finally block is used to ensure that the file is closed, whether an exception occurs during the file operations or not. This ensures proper resource management and cleanup, even if an exception interrupts the normal flow of execution.\n",
        "\n",
        "Using context managers (with statement):\n",
        "Context managers allow you to specify actions to be taken before and after a block of code, such as acquiring and releasing resources. They are implemented using the with statement and the __enter__() and __exit__() methods.\n",
        "Example: Using context manager for file handling"
      ],
      "metadata": {
        "id": "fsNlHeYiyLw8"
      }
    },
    {
      "cell_type": "code",
      "source": [
        "class FileHandler:\n",
        "    def __init__(self, filename):\n",
        "        self.filename = filename\n",
        "\n",
        "    def __enter__(self):\n",
        "        self.file = open(self.filename, \"r\")\n",
        "        return self.file\n",
        "\n",
        "    def __exit__(self, exc_type, exc_value, traceback):\n",
        "        self.file.close()\n",
        "\n",
        "# Usage of the context manager with the 'with' statement\n",
        "try:\n",
        "    with FileHandler(\"example.txt\") as file:\n",
        "        # Perform operations with the file\n",
        "except FileNotFoundError:\n",
        "    print(\"File not found!\")\n"
      ],
      "metadata": {
        "colab": {
          "base_uri": "https://localhost:8080/",
          "height": 131
        },
        "id": "_wUwpR-oyJHC",
        "outputId": "bb25f969-31d6-4607-9ea7-138792c75775"
      },
      "execution_count": 5,
      "outputs": [
        {
          "output_type": "error",
          "ename": "IndentationError",
          "evalue": "ignored",
          "traceback": [
            "\u001b[0;36m  File \u001b[0;32m\"<ipython-input-5-50f8422a4827>\"\u001b[0;36m, line \u001b[0;32m16\u001b[0m\n\u001b[0;31m    except FileNotFoundError:\u001b[0m\n\u001b[0m                             ^\u001b[0m\n\u001b[0;31mIndentationError\u001b[0m\u001b[0;31m:\u001b[0m expected an indented block after 'with' statement on line 14\n"
          ]
        }
      ]
    },
    {
      "cell_type": "markdown",
      "source": [
        "In this example, the FileHandler class is implemented as a context manager. When used with the with statement, it ensures that the file is opened and properly closed, regardless of whether an exception occurs or not.\n",
        "\n",
        "Both the finally block and context managers provide robust ways to handle cleanup operations, release resources, and finalize certain tasks, ensuring that your code behaves predictably and efficiently even in the presence of exceptions."
      ],
      "metadata": {
        "id": "0oJrGKdcyTaG"
      }
    },
    {
      "cell_type": "code",
      "source": [],
      "metadata": {
        "id": "4h8C4k1myOrO"
      },
      "execution_count": null,
      "outputs": []
    }
  ]
}