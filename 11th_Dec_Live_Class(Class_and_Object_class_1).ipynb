{
  "cells": [
    {
      "cell_type": "markdown",
      "metadata": {
        "id": "view-in-github",
        "colab_type": "text"
      },
      "source": [
        "<a href=\"https://colab.research.google.com/github/vanyaagarwal29/Python-Basics/blob/main/11th_Dec_Live_Class(Class_and_Object_class_1).ipynb\" target=\"_parent\"><img src=\"https://colab.research.google.com/assets/colab-badge.svg\" alt=\"Open In Colab\"/></a>"
      ]
    },
    {
      "cell_type": "markdown",
      "id": "ba9b7377",
      "metadata": {
        "id": "ba9b7377"
      },
      "source": [
        "# class"
      ]
    },
    {
      "cell_type": "code",
      "execution_count": null,
      "id": "daafc716",
      "metadata": {
        "id": "daafc716",
        "outputId": "146b061f-ba7d-48e8-8fa5-76e700398b58"
      },
      "outputs": [
        {
          "data": {
            "text/plain": [
              "'\\nclass example\\n\\n1. car class\\n2. laptop\\n3. \\n'"
            ]
          },
          "execution_count": 2,
          "metadata": {},
          "output_type": "execute_result"
        }
      ],
      "source": [
        "'''\n",
        "class example\n",
        "\n",
        "1. car class\n",
        "2. laptop\n",
        "3.\n",
        "'''"
      ]
    },
    {
      "cell_type": "markdown",
      "id": "57ae980a",
      "metadata": {
        "id": "57ae980a"
      },
      "source": [
        "![image.png](attachment:image.png)"
      ]
    },
    {
      "cell_type": "markdown",
      "id": "f0f3aded",
      "metadata": {
        "id": "f0f3aded"
      },
      "source": [
        "![image.png](attachment:image.png)"
      ]
    },
    {
      "cell_type": "markdown",
      "id": "c6fe8059",
      "metadata": {
        "id": "c6fe8059"
      },
      "source": [
        "![image.png](attachment:image.png)"
      ]
    },
    {
      "cell_type": "markdown",
      "id": "e909e67b",
      "metadata": {
        "id": "e909e67b"
      },
      "source": [
        "![image.png](attachment:image.png)"
      ]
    },
    {
      "cell_type": "markdown",
      "id": "db9db5d0",
      "metadata": {
        "id": "db9db5d0"
      },
      "source": [
        "![image.png](attachment:image.png)"
      ]
    },
    {
      "cell_type": "code",
      "execution_count": null,
      "id": "b77318c6",
      "metadata": {
        "id": "b77318c6"
      },
      "outputs": [],
      "source": [
        "class Emp:\n",
        "    pass"
      ]
    },
    {
      "cell_type": "code",
      "execution_count": null,
      "id": "02c0fd58",
      "metadata": {
        "id": "02c0fd58"
      },
      "outputs": [],
      "source": [
        "e=Emp()"
      ]
    },
    {
      "cell_type": "code",
      "execution_count": null,
      "id": "7b7b86ff",
      "metadata": {
        "id": "7b7b86ff",
        "outputId": "6b870548-ce76-4042-d0fd-42e14fcbc72d"
      },
      "outputs": [
        {
          "name": "stdout",
          "output_type": "stream",
          "text": [
            "<class '__main__.Emp'>\n"
          ]
        }
      ],
      "source": [
        "print(type(e))"
      ]
    },
    {
      "cell_type": "raw",
      "id": "a60c4149",
      "metadata": {
        "id": "a60c4149"
      },
      "source": [
        "__main__ is the name of the environment where top-level code is run. “Top-level code” is the first user-specified Python module that starts running. It’s “top-level” because it imports all other modules that the program needs. Sometimes “top-level code” is called an entry point to the application."
      ]
    },
    {
      "cell_type": "code",
      "execution_count": null,
      "id": "65a12d9f",
      "metadata": {
        "id": "65a12d9f",
        "outputId": "86cf7626-3c97-4114-fa7b-af97fe4fb4df"
      },
      "outputs": [
        {
          "name": "stdout",
          "output_type": "stream",
          "text": [
            "<__main__.Emp object at 0x00000259E0F07EB0>\n"
          ]
        }
      ],
      "source": [
        "print(e)"
      ]
    },
    {
      "cell_type": "code",
      "execution_count": null,
      "id": "3caaa61e",
      "metadata": {
        "id": "3caaa61e",
        "outputId": "a2507801-2aef-4a6a-d0d0-5c41682d238d"
      },
      "outputs": [
        {
          "data": {
            "text/plain": [
              "2585049202352"
            ]
          },
          "execution_count": 22,
          "metadata": {},
          "output_type": "execute_result"
        }
      ],
      "source": [
        "id(e)"
      ]
    },
    {
      "cell_type": "raw",
      "id": "92125228",
      "metadata": {
        "id": "92125228"
      },
      "source": [
        "In Python , a class can have 3 types of variables:\n",
        "\n",
        "Instance Variables: Created per instance basis\n",
        "\n",
        "Local Variables: Created locally inside a method and destroyed when the method execution is over\n",
        "\n",
        "Class Variables: Created inside a class and shared by every object of that class. Sometimes also called as static variables"
      ]
    },
    {
      "cell_type": "code",
      "execution_count": null,
      "id": "69a7c66c",
      "metadata": {
        "id": "69a7c66c"
      },
      "outputs": [],
      "source": [
        "class Robot:\n",
        "\n",
        "\n",
        "    def introduce_self(self):\n",
        "        print(\"My name is \" + self.name) # this in Java"
      ]
    },
    {
      "cell_type": "code",
      "execution_count": null,
      "id": "d94be36c",
      "metadata": {
        "id": "d94be36c"
      },
      "outputs": [],
      "source": [
        "r1 = Robot()\n",
        "r1.name = \"Tom\"\n",
        "r1.color = \"red\"\n",
        "r1.weight = 30"
      ]
    },
    {
      "cell_type": "code",
      "execution_count": null,
      "id": "7e3a33de",
      "metadata": {
        "id": "7e3a33de",
        "outputId": "7a121fdc-0965-47f9-8ac5-43cb793db83f"
      },
      "outputs": [
        {
          "name": "stdout",
          "output_type": "stream",
          "text": [
            "My name is Tom\n"
          ]
        }
      ],
      "source": [
        "r1.introduce_self()"
      ]
    },
    {
      "cell_type": "code",
      "execution_count": null,
      "id": "4361849f",
      "metadata": {
        "id": "4361849f"
      },
      "outputs": [],
      "source": [
        "r2 = Robot()\n",
        "r2.name = \"Jerry\"\n",
        "r2.color = \"blue\"\n",
        "r2.weight = 40"
      ]
    },
    {
      "cell_type": "code",
      "execution_count": null,
      "id": "ef2ee3bc",
      "metadata": {
        "id": "ef2ee3bc",
        "outputId": "eabe380c-ae2c-4035-9bc7-b3104ce81368"
      },
      "outputs": [
        {
          "name": "stdout",
          "output_type": "stream",
          "text": [
            "My name is Jerry\n"
          ]
        }
      ],
      "source": [
        "r2.introduce_self()"
      ]
    },
    {
      "cell_type": "markdown",
      "id": "36d59b7a",
      "metadata": {
        "id": "36d59b7a"
      },
      "source": [
        "![image.png](attachment:image.png)"
      ]
    },
    {
      "cell_type": "code",
      "execution_count": null,
      "id": "8b2ab188",
      "metadata": {
        "id": "8b2ab188"
      },
      "outputs": [],
      "source": [
        "class Robot:\n",
        "    def __init__(self, name, color, weight):\n",
        "        self.name = name\n",
        "        self.color = color\n",
        "        self.weight = weight\n",
        "\n",
        "    def introduce_self(self):\n",
        "        print(\"My name is \" + self.name) # this in Java"
      ]
    },
    {
      "cell_type": "code",
      "execution_count": null,
      "id": "9027aa5c",
      "metadata": {
        "id": "9027aa5c"
      },
      "outputs": [],
      "source": [
        "r1 = Robot(\"Tom\", \"red\", 30)\n",
        "r2 = Robot(\"Jerry\", \"blue\", 40)"
      ]
    },
    {
      "cell_type": "raw",
      "id": "21b9859a",
      "metadata": {
        "id": "21b9859a"
      },
      "source": [
        "Use the __init__() method to initialize the object’s attributes.\n",
        "The __init__() doesn’t create an object but is automatically called after the object is created."
      ]
    },
    {
      "cell_type": "code",
      "execution_count": null,
      "id": "877149dd",
      "metadata": {
        "id": "877149dd",
        "outputId": "0f0a29d1-4a25-4b5e-9015-b00127471497"
      },
      "outputs": [
        {
          "data": {
            "text/plain": [
              "['__class__',\n",
              " '__delattr__',\n",
              " '__dict__',\n",
              " '__dir__',\n",
              " '__doc__',\n",
              " '__eq__',\n",
              " '__format__',\n",
              " '__ge__',\n",
              " '__getattribute__',\n",
              " '__gt__',\n",
              " '__hash__',\n",
              " '__init__',\n",
              " '__init_subclass__',\n",
              " '__le__',\n",
              " '__lt__',\n",
              " '__module__',\n",
              " '__ne__',\n",
              " '__new__',\n",
              " '__reduce__',\n",
              " '__reduce_ex__',\n",
              " '__repr__',\n",
              " '__setattr__',\n",
              " '__sizeof__',\n",
              " '__str__',\n",
              " '__subclasshook__',\n",
              " '__weakref__',\n",
              " 'color',\n",
              " 'introduce_self',\n",
              " 'name',\n",
              " 'weight']"
            ]
          },
          "execution_count": 15,
          "metadata": {},
          "output_type": "execute_result"
        }
      ],
      "source": [
        "dir(r1)"
      ]
    },
    {
      "cell_type": "code",
      "execution_count": null,
      "id": "fa16391a",
      "metadata": {
        "id": "fa16391a",
        "outputId": "24443bf6-7c86-4ae5-e137-14c5599b43c0"
      },
      "outputs": [
        {
          "name": "stdout",
          "output_type": "stream",
          "text": [
            "My name is Tom\n",
            "My name is Jerry\n"
          ]
        }
      ],
      "source": [
        "r1.introduce_self()\n",
        "r2.introduce_self()"
      ]
    },
    {
      "cell_type": "code",
      "execution_count": null,
      "id": "c9dc43d8",
      "metadata": {
        "id": "c9dc43d8"
      },
      "outputs": [],
      "source": [
        "class Person:\n",
        "    def __init__(self, name, sex, profession):\n",
        "        # data members (instance variables)\n",
        "        self.name = name\n",
        "        self.sex = sex\n",
        "        self.profession = profession\n",
        "\n",
        "    # Behavior (instance methods)\n",
        "    def show(self):\n",
        "        print('Name:', self.name, 'Sex:', self.sex, 'Profession:', self.profession)\n",
        "\n",
        "    # Behavior (instance methods)\n",
        "    def work(self):\n",
        "        print(self.name, 'working as a', self.profession)"
      ]
    },
    {
      "cell_type": "code",
      "execution_count": null,
      "id": "4f3a5f89",
      "metadata": {
        "id": "4f3a5f89"
      },
      "outputs": [],
      "source": [
        "jessa = Person('Jessa', 'Female', 'Software Engineer')"
      ]
    },
    {
      "cell_type": "code",
      "execution_count": null,
      "id": "65f98f98",
      "metadata": {
        "id": "65f98f98",
        "outputId": "80da370d-ebf9-4760-aa8a-eb09208151ab"
      },
      "outputs": [
        {
          "name": "stdout",
          "output_type": "stream",
          "text": [
            "Name: Jessa Sex: Female Profession: Software Engineer\n"
          ]
        }
      ],
      "source": [
        "jessa.show()"
      ]
    },
    {
      "cell_type": "code",
      "execution_count": null,
      "id": "f1679cb9",
      "metadata": {
        "id": "f1679cb9",
        "outputId": "871241fa-c5c9-46a9-dad0-86e6adeaacfb"
      },
      "outputs": [
        {
          "name": "stdout",
          "output_type": "stream",
          "text": [
            "Jessa working as a Software Engineer\n"
          ]
        }
      ],
      "source": [
        "jessa.work()"
      ]
    },
    {
      "cell_type": "code",
      "execution_count": null,
      "id": "31845a26",
      "metadata": {
        "id": "31845a26",
        "outputId": "ea1b35da-99f1-4ea2-dcba-12fb8d36d26f"
      },
      "outputs": [
        {
          "name": "stdout",
          "output_type": "stream",
          "text": [
            "2585051326304\n",
            "2585051326304\n",
            "Age: 25 Name: Rahul Salary: 30000.0\n"
          ]
        }
      ],
      "source": [
        "class Emp:\n",
        "    def __init__(self):\n",
        "        print(id(self))\n",
        "        self.age=25\n",
        "        self.name=\"Rahul\"\n",
        "        self.salary=30000.0\n",
        "\n",
        "e=Emp()\n",
        "print(id(e))\n",
        "print(\"Age:\",e.age,\"Name:\",e.name,\"Salary:\",e.salary)"
      ]
    },
    {
      "cell_type": "code",
      "execution_count": null,
      "id": "b14bcd98",
      "metadata": {
        "id": "b14bcd98"
      },
      "outputs": [],
      "source": [
        "class Emp:\n",
        "    def __init__(self):\n",
        "        self.age=25\n",
        "        self.name=\"Rahul\"\n",
        "        self.salary=30000\n",
        "    def show(self):\n",
        "        print(self.age,self.name,self.salary)"
      ]
    },
    {
      "cell_type": "code",
      "execution_count": null,
      "id": "ba79e153",
      "metadata": {
        "id": "ba79e153"
      },
      "outputs": [],
      "source": [
        "e=Emp()"
      ]
    },
    {
      "cell_type": "code",
      "execution_count": null,
      "id": "e99d453a",
      "metadata": {
        "id": "e99d453a",
        "outputId": "4a1f6429-2d20-42c4-c85d-5723a0e4401b"
      },
      "outputs": [
        {
          "name": "stdout",
          "output_type": "stream",
          "text": [
            "25 Rahul 30000\n"
          ]
        }
      ],
      "source": [
        "e.show()"
      ]
    },
    {
      "cell_type": "code",
      "execution_count": null,
      "id": "0aa23ca4",
      "metadata": {
        "id": "0aa23ca4"
      },
      "outputs": [],
      "source": [
        "class Circle:\n",
        "    pi = 3.14159\n",
        "\n",
        "    def __init__(self, radius):\n",
        "        self.radius = radius\n",
        "\n",
        "    def area(self):\n",
        "        return self.pi * self.radius**2\n",
        "\n",
        "    def circumference(self):\n",
        "        return 2 * self.pi * self.radius\n"
      ]
    },
    {
      "cell_type": "code",
      "execution_count": null,
      "id": "8f03fcb9",
      "metadata": {
        "id": "8f03fcb9",
        "outputId": "fe750722-1d4e-4d1a-da41-18721f6a0ee5"
      },
      "outputs": [
        {
          "name": "stdout",
          "output_type": "stream",
          "text": [
            "3.14159\n",
            "3.14159\n"
          ]
        }
      ],
      "source": [
        "c = Circle(10)\n",
        "print(c.pi)\n",
        "print(Circle.pi)\n",
        "#object_name.class_attribute\n",
        "#class_name.class_attribute"
      ]
    },
    {
      "cell_type": "code",
      "execution_count": null,
      "id": "6e30de54",
      "metadata": {
        "id": "6e30de54",
        "outputId": "db511bce-d058-4419-b837-39ee52611ccd"
      },
      "outputs": [
        {
          "data": {
            "text/plain": [
              "62.8318"
            ]
          },
          "execution_count": 43,
          "metadata": {},
          "output_type": "execute_result"
        }
      ],
      "source": [
        "c.circumference()"
      ]
    },
    {
      "cell_type": "code",
      "execution_count": null,
      "id": "c0e18aca",
      "metadata": {
        "id": "c0e18aca",
        "outputId": "3b9dbfa5-9e41-4e74-8672-0532f6974eff"
      },
      "outputs": [
        {
          "data": {
            "text/plain": [
              "314.159"
            ]
          },
          "execution_count": 46,
          "metadata": {},
          "output_type": "execute_result"
        }
      ],
      "source": [
        "c.area()"
      ]
    },
    {
      "cell_type": "code",
      "execution_count": null,
      "id": "cda84671",
      "metadata": {
        "id": "cda84671"
      },
      "outputs": [],
      "source": [
        "class BankAccount:\n",
        "    def __init__(self,account_number, name, balance):\n",
        "        self.account_number = account_number\n",
        "        self.name = name\n",
        "        self.balance = balance\n",
        "\n",
        "    def deposit(self,d_amount):\n",
        "        self.d_amount = d_amount\n",
        "        self.balance += self.d_amount\n",
        "        print(self.d_amount, ' is credited into your bank account')\n",
        "        print(f'your current balance is {self.balance}')\n",
        "\n",
        "    def withdraw(self,w_amount):\n",
        "        self.w_amount = w_amount\n",
        "        self.balance -= self.w_amount\n",
        "        print(self.w_amount, ' is debited into your bank account')\n",
        "        print(f'your current balance is {self.balance}')\n",
        "\n",
        "    def account_details(self):\n",
        "        print(f'Your name is {self.name}')\n",
        "\n",
        "        print(f'Your account number is {self.account_number}')\n",
        "        print(f'Your balance is {self.balance}')"
      ]
    }
  ],
  "metadata": {
    "kernelspec": {
      "display_name": "Python 3 (ipykernel)",
      "language": "python",
      "name": "python3"
    },
    "language_info": {
      "codemirror_mode": {
        "name": "ipython",
        "version": 3
      },
      "file_extension": ".py",
      "mimetype": "text/x-python",
      "name": "python",
      "nbconvert_exporter": "python",
      "pygments_lexer": "ipython3",
      "version": "3.9.12"
    },
    "colab": {
      "provenance": [],
      "include_colab_link": true
    }
  },
  "nbformat": 4,
  "nbformat_minor": 5
}