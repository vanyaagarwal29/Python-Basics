{
  "nbformat": 4,
  "nbformat_minor": 0,
  "metadata": {
    "colab": {
      "provenance": [],
      "authorship_tag": "ABX9TyPgB3NZNwWuLkLZl9R10fSB",
      "include_colab_link": true
    },
    "kernelspec": {
      "name": "python3",
      "display_name": "Python 3"
    },
    "language_info": {
      "name": "python"
    }
  },
  "cells": [
    {
      "cell_type": "markdown",
      "metadata": {
        "id": "view-in-github",
        "colab_type": "text"
      },
      "source": [
        "<a href=\"https://colab.research.google.com/github/vanyaagarwal29/Python-Basics/blob/main/Python_Advance_Assignment_3.ipynb\" target=\"_parent\"><img src=\"https://colab.research.google.com/assets/colab-badge.svg\" alt=\"Open In Colab\"/></a>"
      ]
    },
    {
      "cell_type": "code",
      "execution_count": null,
      "metadata": {
        "id": "GJnPvufzRvnI"
      },
      "outputs": [],
      "source": []
    },
    {
      "cell_type": "markdown",
      "source": [
        "What is the concept of an abstract superclass?\n",
        "\n",
        "In object-oriented programming, an abstract superclass is a class that is designed to be inherited by other classes, but it cannot be instantiated on its own. It serves as a blueprint or template for its subclasses, providing common attributes and behaviors that the subclasses can inherit and specialize.\n",
        "\n",
        "The main purpose of an abstract superclass is to define a common interface and behavior that its subclasses should implement. It often contains abstract methods, which are method declarations without an implementation. Subclasses must provide concrete implementations for these abstract methods, thereby fulfilling the contract defined by the abstract superclass.\n",
        "\n",
        "By creating an abstract superclass, you can establish a hierarchy of related classes and promote code reusability. The abstract superclass defines common functionality that is shared among its subclasses, while allowing each subclass to implement its own specialized behavior. This approach encourages modular and organized code design.\n",
        "\n",
        "In many programming languages, including Java and C++, the abstract superclass is denoted by the \"abstract\" keyword preceding the class declaration. This keyword indicates that the class cannot be instantiated and may contain abstract methods. Subclasses of an abstract superclass can be instantiated and extend the functionality of the superclass by providing implementations for the abstract methods."
      ],
      "metadata": {
        "id": "eBNPW4FISytl"
      }
    },
    {
      "cell_type": "code",
      "source": [],
      "metadata": {
        "id": "Q0zAOZqeS0dz"
      },
      "execution_count": null,
      "outputs": []
    },
    {
      "cell_type": "markdown",
      "source": [
        "What happens when a class statement&#39;s top level contains a basic assignment statement?\n",
        "\n",
        "In most programming languages, when a class statement's top level contains a basic assignment statement, it is typically treated as a class-level variable or property initialization."
      ],
      "metadata": {
        "id": "XkepEe0aTY1e"
      }
    },
    {
      "cell_type": "code",
      "source": [
        "class MyClass:\n",
        "    my_variable = 10\n",
        "\n",
        "    def my_method(self):\n",
        "        print(\"Hello, World!\")\n"
      ],
      "metadata": {
        "id": "Dh4CjeZhTdoP"
      },
      "execution_count": 1,
      "outputs": []
    },
    {
      "cell_type": "markdown",
      "source": [
        "In the above example, the line my_variable = 10 is a basic assignment statement within the class definition. It initializes a class-level variable called my_variable and assigns it the value 10. This means that my_variable is a property of the class itself, rather than an instance-specific property.\n",
        "\n",
        "In other words, my_variable is accessible and shared among all instances of the class MyClass. It can be accessed using the class name, as well as through any instance of the"
      ],
      "metadata": {
        "id": "1JPk5WEiTjaY"
      }
    },
    {
      "cell_type": "code",
      "source": [],
      "metadata": {
        "id": "mccOwBC0TgIe"
      },
      "execution_count": null,
      "outputs": []
    },
    {
      "cell_type": "markdown",
      "source": [
        "3. Why does a class need to manually call a superclass&#39;s __init__ method?\n",
        "\n",
        "In object-oriented programming, when a class inherits from a superclass, it may need to manually call the superclass's __init__ method to ensure that the superclass's initialization logic is executed.\n",
        "\n",
        "The __init__ method, also known as a constructor, is a special method in a class that is automatically called when an instance of the class is created. It is responsible for initializing the state of the object and preparing it for use.\n",
        "\n",
        "When a class inherits from a superclass, it can extend or modify the superclass's behavior by defining its own __init__ method. However, if the subclass defines its own __init__ method, it does not automatically call the superclass's __init__ method.\n",
        "\n",
        "By convention, if a subclass overrides the __init__ method and wants to include the initialization logic from the superclass, it should explicitly call the superclass's __init__ method using the super() function. This ensures that the superclass's initialization is properly executed before the subclass adds or modifies its own initialization steps.\n",
        "\n",
        "Here's an example in Python to illustrate this concept:"
      ],
      "metadata": {
        "id": "xmNeXO4SU-Fk"
      }
    },
    {
      "cell_type": "code",
      "source": [
        "class Superclass:\n",
        "    def __init__(self, x):\n",
        "        self.x = x\n",
        "\n",
        "\n",
        "class Subclass(Superclass):\n",
        "    def __init__(self, x, y):\n",
        "        super().__init__(x)\n",
        "        self.y = y\n"
      ],
      "metadata": {
        "id": "fMWJoRiGU-r5"
      },
      "execution_count": 2,
      "outputs": []
    },
    {
      "cell_type": "markdown",
      "source": [
        "In the above example, the Subclass inherits from the Superclass. The Subclass defines its own __init__ method, but it also calls the __init__ method of the Superclass using super().__init__(x). This ensures that the x attribute from the Superclass is properly initialized before the Subclass adds its own initialization logic for the y attribute.\n",
        "\n",
        "By explicitly calling the superclass's __init__ method, the subclass can leverage the superclass's initialization behavior and avoid code duplication. It helps to establish the inheritance chain and ensures that the necessary setup steps from the superclass are executed before the subclass-specific logic is applied.\n",
        "\n",
        "\n",
        "\n",
        "\n"
      ],
      "metadata": {
        "id": "ReYsbXHxVEfs"
      }
    },
    {
      "cell_type": "code",
      "source": [],
      "metadata": {
        "id": "ZQZZoiS5VAZ9"
      },
      "execution_count": null,
      "outputs": []
    },
    {
      "cell_type": "markdown",
      "source": [
        "How can you augment, instead of completely replacing, an inherited method?\n",
        "\n",
        "To augment, or extend, an inherited method instead of completely replacing it, you can follow these steps:\n",
        "\n",
        "Define the method in the subclass with the same name as the method you want to augment in the superclass.\n",
        "\n",
        "Inside the subclass's method, you can call the superclass's method using the super() function. This allows you to invoke the superclass's implementation of the method.\n",
        "\n",
        "After calling the superclass's method, you can add additional code in the subclass's method to extend or modify the behavior.\n",
        "\n",
        "Here's an example to illustrate this concept in Python:"
      ],
      "metadata": {
        "id": "NrSraZwvWhU2"
      }
    },
    {
      "cell_type": "code",
      "source": [
        "class Superclass:\n",
        "    def my_method(self):\n",
        "        print(\"Hello from Superclass\")\n",
        "\n",
        "\n",
        "class Subclass(Superclass):\n",
        "    def my_method(self):\n",
        "        super().my_method()  # Calling the superclass's method\n",
        "        print(\"Hello from Subclass\")\n",
        "\n",
        "obj = Subclass()\n",
        "obj.my_method()\n"
      ],
      "metadata": {
        "colab": {
          "base_uri": "https://localhost:8080/"
        },
        "id": "i8YC2odaWicA",
        "outputId": "6aa7da02-939b-489e-f730-07b5d0d841dc"
      },
      "execution_count": 3,
      "outputs": [
        {
          "output_type": "stream",
          "name": "stdout",
          "text": [
            "Hello from Superclass\n",
            "Hello from Subclass\n"
          ]
        }
      ]
    },
    {
      "cell_type": "markdown",
      "source": [
        "In the above example, the Superclass has a method called my_method(). The Subclass inherits from the Superclass and defines its own my_method() method. By using super().my_method(), the Subclass calls the my_method() implementation of the Superclass, allowing it to execute its behavior. Then, the Subclass adds its own code to extend the behavior by printing \"Hello from Subclass\" after the superclass's message."
      ],
      "metadata": {
        "id": "Sr3CqxfVWmoB"
      }
    },
    {
      "cell_type": "code",
      "source": [],
      "metadata": {
        "id": "bUu-mWPPWkFF"
      },
      "execution_count": null,
      "outputs": []
    },
    {
      "cell_type": "markdown",
      "source": [
        "\n",
        "The local scope of a class and a function differs in their behavior and purpose within the programming language. Here are the main differences between the two:\n",
        "\n",
        "1. Class Scope:\n",
        "   - In object-oriented programming, a class defines a blueprint for creating objects (instances). The class itself acts as a namespace for its attributes (variables) and methods (functions).\n",
        "   - Class-level attributes are defined within the class scope and are accessible to all instances of the class as well as the class itself.\n",
        "   - Class-level attributes can be accessed using the class name or via an instance of the class.\n",
        "   - The class scope is established during the class definition and remains consistent for all instances of the class.\n",
        "\n",
        "2. Function Scope:\n",
        "   - A function is a self-contained block of code that performs a specific task. Functions are used for code reuse, modularity, and encapsulation.\n",
        "   - Local variables defined within a function are only accessible within the function scope.\n",
        "   - Function parameters and variables are created when the function is called and destroyed when the function execution completes.\n",
        "   - Each time a function is called, a new local scope is created, and any variables defined within the function are local to that specific invocation of the function.\n",
        "\n",
        "In summary, the local scope of a class is established during the class definition and persists throughout the lifespan of the class and its instances. Class-level attributes are accessible to all instances of the class. On the other hand, the local scope of a function is created each time the function is called and is limited to the execution of that particular function invocation. Local variables in a function are not accessible outside of the function scope.\n",
        "\n",
        "Both class and function scopes play crucial roles in organizing and encapsulating code, but they serve different purposes and have different lifespans."
      ],
      "metadata": {
        "id": "kkDJY6ZkXEeP"
      }
    },
    {
      "cell_type": "code",
      "source": [],
      "metadata": {
        "id": "hPAcr7c5XH6P"
      },
      "execution_count": null,
      "outputs": []
    }
  ]
}