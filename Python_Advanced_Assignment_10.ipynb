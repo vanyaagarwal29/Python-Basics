{
  "nbformat": 4,
  "nbformat_minor": 0,
  "metadata": {
    "colab": {
      "provenance": [],
      "authorship_tag": "ABX9TyMkie/tOwpksUBGhmPTFDMW",
      "include_colab_link": true
    },
    "kernelspec": {
      "name": "python3",
      "display_name": "Python 3"
    },
    "language_info": {
      "name": "python"
    }
  },
  "cells": [
    {
      "cell_type": "markdown",
      "metadata": {
        "id": "view-in-github",
        "colab_type": "text"
      },
      "source": [
        "<a href=\"https://colab.research.google.com/github/vanyaagarwal29/Python-Basics/blob/main/Python_Advanced_Assignment_10.ipynb\" target=\"_parent\"><img src=\"https://colab.research.google.com/assets/colab-badge.svg\" alt=\"Open In Colab\"/></a>"
      ]
    },
    {
      "cell_type": "code",
      "execution_count": null,
      "metadata": {
        "id": "nsJdyCIO7zeO"
      },
      "outputs": [],
      "source": []
    },
    {
      "cell_type": "markdown",
      "source": [
        "Both `__getattr__` and `__getattribute__` are special methods in Python that are related to attribute access, but they serve different purposes:\n",
        "\n",
        "1. `__getattr__(self, name)`:\n",
        "   - `__getattr__` is a special method that is called when an attribute is accessed, but that attribute is not found in the object's dictionary (i.e., it is not an instance attribute).\n",
        "   - It provides a way to define custom behavior for attribute access when the attribute is not directly present in the object.\n",
        "   - This method takes two arguments: `self` (the instance of the object) and `name` (the name of the attribute being accessed).\n",
        "   - You can use this method to dynamically generate or calculate attribute values, or to provide default values for missing attributes.\n",
        "\n",
        "   Example:\n",
        "\n",
        "   ```python\n",
        "   class Example:\n",
        "       def __getattr__(self, name):\n",
        "           # Custom behavior when the attribute is not found\n",
        "           return f\"Attribute '{name}' not found.\"\n",
        "\n",
        "   obj = Example()\n",
        "   print(obj.some_attribute)  # Output: \"Attribute 'some_attribute' not found.\"\n",
        "   ```\n",
        "\n",
        "2. `__getattribute__(self, name)`:\n",
        "   - `__getattribute__` is a special method that is called every time an attribute is accessed on the object, regardless of whether the attribute exists or not.\n",
        "   - It is a more powerful method than `__getattr__`, but also more dangerous, as it can potentially cause infinite recursion if not handled properly.\n",
        "   - This method takes two arguments: `self` (the instance of the object) and `name` (the name of the attribute being accessed).\n",
        "   - You can use this method to intercept and customize attribute access for all attributes of the object. However, you need to be cautious and avoid direct attribute access within `__getattribute__` to prevent infinite recursion.\n",
        "\n",
        "   Example:\n",
        "\n",
        "   ```python\n",
        "   class Example:\n",
        "       def __init__(self):\n",
        "           self.some_attribute = \"Hello\"\n",
        "\n",
        "       def __getattribute__(self, name):\n",
        "           # Custom behavior for all attribute access\n",
        "           return \"Custom behavior\"\n",
        "\n",
        "   obj = Example()\n",
        "   print(obj.some_attribute)  # Output: \"Custom behavior\"\n",
        "   ```\n",
        "\n",
        "In summary, the main difference between `__getattr__` and `__getattribute__` is the timing of their invocation and the scope of customization they provide. `__getattr__` is called only when an attribute is not found, allowing you to customize behavior for missing attributes. On the other hand, `__getattribute__` is called for all attribute access and allows you to customize behavior for all attributes, but you need to handle it carefully to avoid unintended side effects."
      ],
      "metadata": {
        "id": "vUlYe30n70p-"
      }
    },
    {
      "cell_type": "code",
      "source": [],
      "metadata": {
        "id": "ryaD5vuo72YX"
      },
      "execution_count": null,
      "outputs": []
    },
    {
      "cell_type": "markdown",
      "source": [
        "Properties and descriptors are both mechanisms in Python that allow you to control attribute access and provide customized behavior for attribute read, write, and delete operations. However, there are some key differences between them:\n",
        "\n",
        "Properties:\n",
        "1. Properties are a high-level and convenient way to create attributes with customized access behavior.\n",
        "2. They are defined using the `property` built-in function or the `@property` decorator.\n",
        "3. Properties are bound to a specific attribute name of a class and work at the instance level.\n",
        "4. Properties allow you to define custom getter, setter, and deleter methods for an attribute.\n",
        "5. They are mainly used for providing a more Pythonic interface to access and modify class attributes.\n",
        "6. Properties are read-only by default, but you can create read-write properties by defining both getter and setter methods.\n",
        "\n",
        "Example of a property:\n",
        "\n",
        "```python\n",
        "class Circle:\n",
        "    def __init__(self, radius):\n",
        "        self._radius = radius\n",
        "\n",
        "    @property\n",
        "    def radius(self):\n",
        "        return self._radius\n",
        "\n",
        "    @radius.setter\n",
        "    def radius(self, value):\n",
        "        if value > 0:\n",
        "            self._radius = value\n",
        "        else:\n",
        "            raise ValueError(\"Radius must be greater than 0.\")\n",
        "```\n",
        "\n",
        "Descriptors:\n",
        "1. Descriptors are a lower-level mechanism for attribute access control that allows you to define custom behavior for getting, setting, and deleting attributes in a more flexible way.\n",
        "2. Descriptors are created by defining classes that implement one or more of the descriptor protocol methods: `__get__`, `__set__`, and `__delete__`.\n",
        "3. Descriptors can be reused across multiple attributes and classes, providing a more modular approach to attribute behavior customization.\n",
        "4. They work at the class level, meaning they are shared among all instances of the class where the descriptor is used.\n",
        "5. Descriptors provide fine-grained control over attribute access and allow you to intercept attribute access operations entirely, whereas properties only allow you to customize the getter, setter, and deleter methods.\n",
        "\n",
        "Example of a descriptor:\n",
        "\n",
        "```python\n",
        "class PositiveNumber:\n",
        "    def __get__(self, instance, owner):\n",
        "        return instance._value\n",
        "\n",
        "    def __set__(self, instance, value):\n",
        "        if value > 0:\n",
        "            instance._value = value\n",
        "        else:\n",
        "            raise ValueError(\"Value must be greater than 0.\")\n",
        "\n",
        "\n",
        "class Rectangle:\n",
        "    def __init__(self, width, height):\n",
        "        self._width = PositiveNumber()\n",
        "        self._height = PositiveNumber()\n",
        "        self.width = width\n",
        "        self.height = height\n",
        "\n",
        "    @property\n",
        "    def width(self):\n",
        "        return self._width\n",
        "\n",
        "    @width.setter\n",
        "    def width(self, value):\n",
        "        self._width = value\n",
        "\n",
        "    @property\n",
        "    def height(self):\n",
        "        return self._height\n",
        "\n",
        "    @height.setter\n",
        "    def height(self, value):\n",
        "        self._height = value\n",
        "```\n",
        "\n",
        "In summary, properties are a simpler and more high-level approach to attribute customization, while descriptors provide a more powerful and modular way to control attribute access. Properties are often sufficient for most use cases, but when more fine-grained control and reusability are required, descriptors can be a valuable tool."
      ],
      "metadata": {
        "id": "YJdTNMnn8IOU"
      }
    },
    {
      "cell_type": "code",
      "source": [],
      "metadata": {
        "id": "NdUCxImk8I7f"
      },
      "execution_count": null,
      "outputs": []
    },
    {
      "cell_type": "markdown",
      "source": [
        "`__getattr__` and `__getattribute__`:\n",
        "\n",
        "1. Invocation:\n",
        "   - `__getattr__(self, name)`: Called when an attribute is accessed, but the attribute is not found in the object's dictionary (i.e., it is not an instance attribute).\n",
        "   - `__getattribute__(self, name)`: Called every time an attribute is accessed on the object, regardless of whether the attribute exists or not.\n",
        "\n",
        "2. Customization Scope:\n",
        "   - `__getattr__` allows customization for only non-existent attributes. It cannot be used to intercept access to existing attributes.\n",
        "   - `__getattribute__` allows customization for all attribute access, including existing attributes. However, you need to handle it carefully to avoid infinite recursion.\n",
        "\n",
        "3. Use Cases:\n",
        "   - `__getattr__` is useful for providing default values or dynamically generating attributes that are not directly present in the object's dictionary.\n",
        "   - `__getattribute__` is more powerful but also more dangerous, and it can be used for customizing behavior for all attribute access, such as logging or access control. However, direct attribute access within `__getattribute__` should be avoided to prevent infinite recursion.\n",
        "\n",
        "Properties and Descriptors:\n",
        "\n",
        "1. Functionality:\n",
        "   - Properties are a high-level mechanism for creating attributes with customized access behavior. They are defined using the `property` function or the `@property` decorator. Properties allow you to define custom getter, setter, and deleter methods for an attribute.\n",
        "   - Descriptors are a lower-level mechanism that provides more flexibility and control over attribute access. Descriptors are created by defining classes that implement the descriptor protocol methods `__get__`, `__set__`, and `__delete__`. Descriptors can be reused across multiple attributes and classes, allowing for a more modular approach to attribute behavior customization.\n",
        "\n",
        "2. Scope:\n",
        "   - Properties are bound to a specific attribute name of a class and work at the instance level. They are mainly used for providing a more Pythonic interface to access and modify class attributes.\n",
        "   - Descriptors work at the class level, meaning they are shared among all instances of the class where the descriptor is used. They allow you to provide fine-grained control over attribute access and can be used for more complex attribute behaviors that are shared across multiple attributes.\n",
        "\n",
        "3. Customization Flexibility:\n",
        "   - Properties allow you to customize the getter, setter, and deleter methods for a specific attribute, but they have limitations on the level of control you can exert over attribute access compared to descriptors.\n",
        "   - Descriptors provide a more flexible and modular approach to attribute behavior customization. They allow you to intercept attribute access entirely, providing more fine-grained control over read, write, and delete operations. Descriptors can also be used to validate or transform attribute values on assignment.\n",
        "\n",
        "In summary, `__getattr__` and `__getattribute__` are methods used for attribute access customization at the instance level, with different scopes and use cases. Properties and descriptors, on the other hand, are mechanisms for attribute access control at the class level, providing different levels of customization and flexibility. Properties are simpler and more high-level, while descriptors are more powerful and reusable. The choice between these mechanisms depends on the specific requirements and complexity of the attribute behavior you want to achieve."
      ],
      "metadata": {
        "id": "KvOqkeVS8hnc"
      }
    },
    {
      "cell_type": "code",
      "source": [],
      "metadata": {
        "id": "AMxU7LmQ8ilP"
      },
      "execution_count": null,
      "outputs": []
    }
  ]
}