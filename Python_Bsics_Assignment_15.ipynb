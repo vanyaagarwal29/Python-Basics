{
  "nbformat": 4,
  "nbformat_minor": 0,
  "metadata": {
    "colab": {
      "provenance": [],
      "authorship_tag": "ABX9TyOsizXYHndqnH4ayslwj4Xb",
      "include_colab_link": true
    },
    "kernelspec": {
      "name": "python3",
      "display_name": "Python 3"
    },
    "language_info": {
      "name": "python"
    }
  },
  "cells": [
    {
      "cell_type": "markdown",
      "metadata": {
        "id": "view-in-github",
        "colab_type": "text"
      },
      "source": [
        "<a href=\"https://colab.research.google.com/github/vanyaagarwal29/Python-Basics/blob/main/Python_Bsics_Assignment_15.ipynb\" target=\"_parent\"><img src=\"https://colab.research.google.com/assets/colab-badge.svg\" alt=\"Open In Colab\"/></a>"
      ]
    },
    {
      "cell_type": "code",
      "execution_count": null,
      "metadata": {
        "id": "0Zr2Le0aYJrt"
      },
      "outputs": [],
      "source": []
    },
    {
      "cell_type": "markdown",
      "source": [
        "1.How many seconds are in an hour? Use the interactive interpreter as a calculator and multiply the\n",
        "number of seconds in a minute (60) by the number of minutes in an hour (also 60).\n",
        "To calculate the number of seconds in an hour, you can use the interactive Python interpreter as a calculator and multiply the number of seconds in a minute (60) by the number of minutes in an hour (60). Here's how you can do it:\n",
        "\n",
        "```python\n",
        "seconds_in_minute = 60\n",
        "minutes_in_hour = 60\n",
        "\n",
        "seconds_in_hour = seconds_in_minute * minutes_in_hour\n",
        "print(seconds_in_hour)\n",
        "```\n",
        "\n",
        "When you run this code in the interactive Python interpreter or any Python script, it will print the result:\n",
        "\n",
        "```\n",
        "3600\n",
        "```\n",
        "\n",
        "So, there are 3600 seconds in an hour."
      ],
      "metadata": {
        "id": "F5wQQHx_YR9n"
      }
    },
    {
      "cell_type": "code",
      "source": [],
      "metadata": {
        "id": "xMFwFoQBYUlE"
      },
      "execution_count": null,
      "outputs": []
    },
    {
      "cell_type": "markdown",
      "source": [
        "Assign the result from the previous task (seconds in an hour) to a variable called\n",
        "seconds_per_hour."
      ],
      "metadata": {
        "id": "_T35RjiMYZvI"
      }
    },
    {
      "cell_type": "markdown",
      "source": [
        "Sure! You can assign the result from the previous task (seconds in an hour) to a variable called `seconds_per_hour` like this:\n",
        "\n",
        "```python\n",
        "seconds_in_minute = 60\n",
        "minutes_in_hour = 60\n",
        "\n",
        "seconds_per_hour = seconds_in_minute * minutes_in_hour\n",
        "print(seconds_per_hour)\n",
        "```\n",
        "\n",
        "When you run this code, the value `3600` will be assigned to the variable `seconds_per_hour`. Now you can use this variable to represent the number of seconds in an hour throughout your code."
      ],
      "metadata": {
        "id": "1Z4dc3GBYeav"
      }
    },
    {
      "cell_type": "code",
      "source": [],
      "metadata": {
        "id": "MUtrNkfFYaXP"
      },
      "execution_count": null,
      "outputs": []
    },
    {
      "cell_type": "markdown",
      "source": [
        "How many seconds do you think there are in a day? Make use of the variables seconds per hour\n",
        "and minutes per hour.\n",
        "\n",
        "To calculate the number of seconds in a day, you can use the variables `seconds_per_hour` and `minutes_per_hour` to represent the number of seconds and minutes in an hour, respectively.\n",
        "\n",
        "There are 24 hours in a day, so you can multiply the number of seconds in an hour (`seconds_per_hour`) by the number of hours in a day (24) to get the total number of seconds in a day.\n",
        "\n",
        "Here's how you can do it:\n",
        "\n",
        "```python\n",
        "seconds_in_minute = 60\n",
        "minutes_in_hour = 60\n",
        "\n",
        "# Calculate the number of seconds in an hour\n",
        "seconds_per_hour = seconds_in_minute * minutes_in_hour\n",
        "\n",
        "# Calculate the number of seconds in a day (24 hours)\n",
        "hours_in_day = 24\n",
        "seconds_in_day = seconds_per_hour * hours_in_day\n",
        "\n",
        "print(seconds_in_day)\n",
        "```\n",
        "\n",
        "When you run this code, it will print the result:\n",
        "\n",
        "```\n",
        "86400\n",
        "```\n",
        "\n",
        "So, there are 86,400 seconds in a day."
      ],
      "metadata": {
        "id": "Cboh5hbqYj13"
      }
    },
    {
      "cell_type": "code",
      "source": [],
      "metadata": {
        "id": "d154QUDUYpHn"
      },
      "execution_count": null,
      "outputs": []
    },
    {
      "cell_type": "markdown",
      "source": [
        "Certainly! You can calculate the number of seconds in a day and save the result in a variable called `seconds_per_day` as follows:\n",
        "\n",
        "```python\n",
        "seconds_in_minute = 60\n",
        "minutes_in_hour = 60\n",
        "\n",
        "# Calculate the number of seconds in an hour\n",
        "seconds_per_hour = seconds_in_minute * minutes_in_hour\n",
        "\n",
        "# Calculate the number of seconds in a day (24 hours) and save the result in seconds_per_day variable\n",
        "hours_in_day = 24\n",
        "seconds_per_day = seconds_per_hour * hours_in_day\n",
        "\n",
        "print(seconds_per_day)\n",
        "```\n",
        "\n",
        "When you run this code, it will print the result and also store it in the variable `seconds_per_day`. Now you can use the `seconds_per_day` variable to represent the number of seconds in a day throughout your code."
      ],
      "metadata": {
        "id": "bid21SckYxGx"
      }
    },
    {
      "cell_type": "code",
      "source": [],
      "metadata": {
        "id": "0tscIM_KYyRC"
      },
      "execution_count": null,
      "outputs": []
    },
    {
      "cell_type": "markdown",
      "source": [
        "Divide seconds_per_day by seconds_per_hour. Use floating-point (/) division.\n",
        "\n",
        "Sure! To divide `seconds_per_day` by `seconds_per_hour` using floating-point division, you can use the `/` operator. Here's the updated code:\n",
        "\n",
        "```python\n",
        "seconds_in_minute = 60\n",
        "minutes_in_hour = 60\n",
        "\n",
        "# Calculate the number of seconds in an hour\n",
        "seconds_per_hour = seconds_in_minute * minutes_in_hour\n",
        "\n",
        "# Calculate the number of seconds in a day (24 hours)\n",
        "hours_in_day = 24\n",
        "seconds_per_day = seconds_per_hour * hours_in_day\n",
        "\n",
        "# Divide seconds_per_day by seconds_per_hour using floating-point division\n",
        "seconds_per_hour_float = seconds_per_day / seconds_per_hour\n",
        "\n",
        "print(seconds_per_hour_float)\n",
        "```\n",
        "\n",
        "When you run this code, it will print the result:\n",
        "\n",
        "```\n",
        "24.0\n",
        "```\n",
        "\n",
        "So, the result of dividing `seconds_per_day` by `seconds_per_hour` using floating-point division is `24.0`. This means that there are 24 hours in a day, which makes sense since we used 24 as the number of hours in a day to calculate `seconds_per_day`."
      ],
      "metadata": {
        "id": "FRw-B1H8Yy1u"
      }
    },
    {
      "cell_type": "code",
      "source": [],
      "metadata": {
        "id": "l5_Zf3UDY8lL"
      },
      "execution_count": null,
      "outputs": []
    },
    {
      "cell_type": "markdown",
      "source": [
        "Divide seconds_per_day by seconds_per_hour, using integer (//) division. Did this number agree\n",
        "with the floating-point value from the previous question, aside from the final .0?\n",
        "\n",
        "Let's divide `seconds_per_day` by `seconds_per_hour` using integer (//) division and compare it with the floating-point value from the previous question:\n",
        "\n",
        "```python\n",
        "seconds_in_minute = 60\n",
        "minutes_in_hour = 60\n",
        "\n",
        "# Calculate the number of seconds in an hour\n",
        "seconds_per_hour = seconds_in_minute * minutes_in_hour\n",
        "\n",
        "# Calculate the number of seconds in a day (24 hours)\n",
        "hours_in_day = 24\n",
        "seconds_per_day = seconds_per_hour * hours_in_day\n",
        "\n",
        "# Divide seconds_per_day by seconds_per_hour using integer (//) division\n",
        "seconds_per_hour_integer = seconds_per_day // seconds_per_hour\n",
        "\n",
        "# Divide seconds_per_day by seconds_per_hour using floating-point division\n",
        "seconds_per_hour_float = seconds_per_day / seconds_per_hour\n",
        "\n",
        "print(seconds_per_hour_integer)\n",
        "print(seconds_per_hour_float)\n",
        "```\n",
        "\n",
        "When you run this code, it will print the following results:\n",
        "\n",
        "```\n",
        "24\n",
        "24.0\n",
        "```\n",
        "\n",
        "Both results are the same, except that the first result (`seconds_per_hour_integer`) is an integer value, and the second result (`seconds_per_hour_float`) is a floating-point value. The actual value is 24, indicating that there are 24 hours in a day.\n",
        "\n",
        "So, aside from the final .0 in the floating-point value, both values agree and are equal to 24, indicating the number of hours in a day."
      ],
      "metadata": {
        "id": "AZ72eUlkZJqu"
      }
    },
    {
      "cell_type": "code",
      "source": [],
      "metadata": {
        "id": "VljWFT_iZNTV"
      },
      "execution_count": null,
      "outputs": []
    },
    {
      "cell_type": "markdown",
      "source": [
        "Sure! Here's a Python generator function, `genPrimes`, that returns the sequence of prime numbers on successive calls to its `next()` method:\n",
        "\n",
        "```python\n",
        "def is_prime(num):\n",
        "    # Function to check if a number is prime\n",
        "    if num < 2:\n",
        "        return False\n",
        "    for i in range(2, int(num ** 0.5) + 1):\n",
        "        if num % i == 0:\n",
        "            return False\n",
        "    return True\n",
        "\n",
        "def genPrimes():\n",
        "    # Generator function to yield prime numbers\n",
        "    num = 2\n",
        "    while True:\n",
        "        if is_prime(num):\n",
        "            yield num\n",
        "        num += 1\n",
        "\n",
        "# Create the generator object\n",
        "prime_generator = genPrimes()\n",
        "\n",
        "# Test the generator by printing the first few prime numbers\n",
        "for _ in range(10):\n",
        "    print(next(prime_generator))\n",
        "```\n",
        "\n",
        "The `genPrimes` generator function uses the `is_prime` function to check whether a number is prime. It starts with `num = 2` and then iteratively checks for prime numbers by calling `is_prime(num)`. If the number is prime, it is yielded using the `yield` statement, and the generator moves on to the next number (`num += 1`) to find the next prime number.\n",
        "\n",
        "When you run the code above, it will print the first ten prime numbers:\n",
        "\n",
        "```\n",
        "2\n",
        "3\n",
        "5\n",
        "7\n",
        "11\n",
        "13\n",
        "17\n",
        "19\n",
        "23\n",
        "29\n",
        "```\n",
        "\n",
        "The generator will continue to yield successive prime numbers on each call to `next()`. You can use the generator to generate as many prime numbers as you need by repeatedly calling `next(prime_generator)`."
      ],
      "metadata": {
        "id": "ZFTmoHjyZYqJ"
      }
    },
    {
      "cell_type": "code",
      "source": [],
      "metadata": {
        "id": "MNMxP_74ZZoV"
      },
      "execution_count": null,
      "outputs": []
    }
  ]
}