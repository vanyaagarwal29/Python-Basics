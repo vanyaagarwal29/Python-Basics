{
  "nbformat": 4,
  "nbformat_minor": 0,
  "metadata": {
    "colab": {
      "provenance": [],
      "authorship_tag": "ABX9TyPpcUz9D68NrmbXYeCI7Ys4",
      "include_colab_link": true
    },
    "kernelspec": {
      "name": "python3",
      "display_name": "Python 3"
    },
    "language_info": {
      "name": "python"
    }
  },
  "cells": [
    {
      "cell_type": "markdown",
      "metadata": {
        "id": "view-in-github",
        "colab_type": "text"
      },
      "source": [
        "<a href=\"https://colab.research.google.com/github/vanyaagarwal29/Python-Basics/blob/main/Assignment_11.ipynb\" target=\"_parent\"><img src=\"https://colab.research.google.com/assets/colab-badge.svg\" alt=\"Open In Colab\"/></a>"
      ]
    },
    {
      "cell_type": "code",
      "execution_count": 5,
      "metadata": {
        "colab": {
          "base_uri": "https://localhost:8080/"
        },
        "id": "OFcvGMmMPFnp",
        "outputId": "a7648b59-c977-4c6b-e215-db0f039c0dd6"
      },
      "outputs": [
        {
          "output_type": "stream",
          "name": "stdout",
          "text": [
            "-1\n",
            "the variable is negative\n"
          ]
        }
      ],
      "source": [
        "try:\n",
        "  spam=int(input())\n",
        "  assert spam>0, \"the variable is negative\"\n",
        " \n",
        "except AssertionError as msg:\n",
        "  print(msg)\n"
      ]
    },
    {
      "cell_type": "markdown",
      "source": [
        "2. Write an assert statement that triggers an AssertionError if the variables eggs and bacon contain\n",
        "strings that are the same as each other, even if their cases are different (that is, &#39;hello&#39; and &#39;hello&#39; are\n",
        "considered the same, and &#39;goodbye&#39; and &#39;GOODbye&#39; are also considered the same)."
      ],
      "metadata": {
        "id": "qI_YwvEhQjyK"
      }
    },
    {
      "cell_type": "code",
      "source": [
        "try:\n",
        "  eggs=str(input())\n",
        "  bacon=str(input())\n",
        "  assert eggs.lower()==bacon.lower(), \"the string is not equal\"\n",
        "except AssertionError as msg:\n",
        "  print(msg)\n",
        "\n",
        "\n"
      ],
      "metadata": {
        "colab": {
          "base_uri": "https://localhost:8080/"
        },
        "id": "n-G9amV7PiT4",
        "outputId": "217a5bcd-ce61-4787-ec38-56e94ba75f35"
      },
      "execution_count": 11,
      "outputs": [
        {
          "name": "stdout",
          "output_type": "stream",
          "text": [
            "goodbye\n",
            "GOODbye\n"
          ]
        }
      ]
    },
    {
      "cell_type": "markdown",
      "source": [
        "3. Create an assert statement that throws an AssertionError every time.\n"
      ],
      "metadata": {
        "id": "H76UckCyTrHL"
      }
    },
    {
      "cell_type": "code",
      "source": [
        "assert False, 'This assertion always triggers.'"
      ],
      "metadata": {
        "colab": {
          "base_uri": "https://localhost:8080/",
          "height": 165
        },
        "id": "r8KI7FcKRImd",
        "outputId": "df79cff6-a189-4d46-d2ff-349a03bca204"
      },
      "execution_count": 13,
      "outputs": [
        {
          "output_type": "error",
          "ename": "AssertionError",
          "evalue": "ignored",
          "traceback": [
            "\u001b[0;31m---------------------------------------------------------------------------\u001b[0m",
            "\u001b[0;31mAssertionError\u001b[0m                            Traceback (most recent call last)",
            "\u001b[0;32m<ipython-input-13-c85354703608>\u001b[0m in \u001b[0;36m<module>\u001b[0;34m\u001b[0m\n\u001b[0;32m----> 1\u001b[0;31m \u001b[0;32massert\u001b[0m \u001b[0;32mFalse\u001b[0m\u001b[0;34m,\u001b[0m \u001b[0;34m'This assertion always triggers.'\u001b[0m\u001b[0;34m\u001b[0m\u001b[0;34m\u001b[0m\u001b[0m\n\u001b[0m",
            "\u001b[0;31mAssertionError\u001b[0m: This assertion always triggers."
          ]
        }
      ]
    },
    {
      "cell_type": "markdown",
      "source": [
        "What are the two lines that must be present in your software in order to call logging.debug()?"
      ],
      "metadata": {
        "id": "6N44fqD6URAF"
      }
    },
    {
      "cell_type": "code",
      "source": [
        "import logging\n",
        "logging.basicConfig(level=logging.DEBUG, format=' %(asctime)s -%(levelname)s - %(message)s')\n"
      ],
      "metadata": {
        "id": "Nlkwc7IkULkv"
      },
      "execution_count": 14,
      "outputs": []
    },
    {
      "cell_type": "markdown",
      "source": [
        "5. What are the two lines that your program must have in order to have logging.debug() send a\n",
        "logging message to a file named programLog.txt?"
      ],
      "metadata": {
        "id": "acpBc2XZVfxl"
      }
    },
    {
      "cell_type": "code",
      "source": [
        "import logging\n",
        "logging.basicConfig(filename='programLog.txt', level=logging.DEBUG,\n",
        "format=' %(asctime)s - %(levelname)s - %(message)s')"
      ],
      "metadata": {
        "id": "OpYVVz2dV82V"
      },
      "execution_count": null,
      "outputs": []
    },
    {
      "cell_type": "markdown",
      "source": [
        "What are the five levels of logging?\n",
        "\n",
        "DEBUG, INFO, WARNING, ERROR, and CRITICAL"
      ],
      "metadata": {
        "id": "ILKaSj9aWCaR"
      }
    },
    {
      "cell_type": "markdown",
      "source": [
        "What line of code would you add to your software to disable all logging messages?\n",
        "\n",
        "logger = logging.getLogger('my-logger')\n",
        "logger.propagate = False"
      ],
      "metadata": {
        "id": "ZQCM8lNCWQ3T"
      }
    },
    {
      "cell_type": "markdown",
      "source": [
        "8.Why is using logging messages better than using print() to display the same message?\n",
        "\n",
        "One of the advantages of using the logging module to track our codes is the ability to format the messages based on our needs."
      ],
      "metadata": {
        "id": "fkg8T5x6Xssj"
      }
    },
    {
      "cell_type": "markdown",
      "source": [
        "What are the differences between the Step Over, Step In, and Step Out buttons in the debugger?\n",
        "\n",
        "Ans: Step Into: Step Into is used for debugging the test steps line by line. When the procedure gets called, Step Into enables you to get inside the procedure and debugs the procedure steps line by line. Step Over: Step Over will enable, only after the debugging is started with Step Into / Run From Step / Run to Step."
      ],
      "metadata": {
        "id": "FZwLsueFYVly"
      }
    },
    {
      "cell_type": "markdown",
      "source": [
        "10.After you click Continue, when will the debugger stop ?\n",
        "\n",
        "Continue execution, only stop when a breakpoint is encountered."
      ],
      "metadata": {
        "id": "iB_hlbkUYvOK"
      }
    },
    {
      "cell_type": "markdown",
      "source": [
        "What is the concept of a breakpoint?\n",
        "\n",
        "in software development, a breakpoint is an intentional stopping or pausing place in a program, put in place for debugging purposes. It is also sometimes simply referred to as a pause."
      ],
      "metadata": {
        "id": "wLsiR6OSY5yR"
      }
    },
    {
      "cell_type": "code",
      "source": [],
      "metadata": {
        "id": "9W9zqUspY5YJ"
      },
      "execution_count": null,
      "outputs": []
    },
    {
      "cell_type": "code",
      "source": [],
      "metadata": {
        "id": "5rDv65sHWCMk"
      },
      "execution_count": null,
      "outputs": []
    }
  ]
}