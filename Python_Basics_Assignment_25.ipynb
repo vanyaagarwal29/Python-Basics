{
  "nbformat": 4,
  "nbformat_minor": 0,
  "metadata": {
    "colab": {
      "provenance": [],
      "authorship_tag": "ABX9TyMPneh2E6S6GKJUkNfmd8y/",
      "include_colab_link": true
    },
    "kernelspec": {
      "name": "python3",
      "display_name": "Python 3"
    },
    "language_info": {
      "name": "python"
    }
  },
  "cells": [
    {
      "cell_type": "markdown",
      "metadata": {
        "id": "view-in-github",
        "colab_type": "text"
      },
      "source": [
        "<a href=\"https://colab.research.google.com/github/vanyaagarwal29/Python-Basics/blob/main/Python_Basics_Assignment_25.ipynb\" target=\"_parent\"><img src=\"https://colab.research.google.com/assets/colab-badge.svg\" alt=\"Open In Colab\"/></a>"
      ]
    },
    {
      "cell_type": "code",
      "execution_count": null,
      "metadata": {
        "id": "-o2trJ4RyFld"
      },
      "outputs": [],
      "source": []
    },
    {
      "cell_type": "markdown",
      "source": [
        "1) . What is the difference between enclosing a list comprehension in square brackets and\n",
        "parentheses?\n",
        "2) What is the relationship between generators and iterators?\n",
        "3) What are the signs that a function is a generator function?\n",
        "4) What is the purpose of a yield statement?\n",
        "5) What is the relationship between map calls and list comprehensions? Make a comparison and\n",
        "contrast between the two."
      ],
      "metadata": {
        "id": "lfVq8e4XyGa1"
      }
    },
    {
      "cell_type": "code",
      "source": [],
      "metadata": {
        "id": "Gzc7mMBvyHRH"
      },
      "execution_count": null,
      "outputs": []
    },
    {
      "cell_type": "markdown",
      "source": [
        "1. Difference between enclosing a list comprehension in square brackets and parentheses:\n",
        "- List comprehension in square brackets: When you enclose a list comprehension in square brackets, it creates and returns a new list containing the generated elements. This means that all the elements are computed and stored in memory at once, and you can access any element by its index. This is suitable when you need to create a new list with the computed elements.\n",
        "\n",
        "Example using square brackets:\n",
        "```python\n",
        "squares = [x**2 for x in range(5)]\n",
        "# Output: [0, 1, 4, 9, 16]\n",
        "```\n",
        "\n",
        "- List comprehension in parentheses (generator expression): When you enclose a list comprehension in parentheses, it creates a generator expression. This is also known as a lazy evaluation. In this case, the elements are generated on the fly as you iterate through them. The advantage is that it saves memory, especially when dealing with large datasets, as it generates each element one at a time.\n",
        "\n",
        "Example using parentheses:\n",
        "```python\n",
        "squares_generator = (x**2 for x in range(5))\n",
        "# Output: <generator object <genexpr> at 0x...>\n",
        "```\n",
        "\n",
        "2. Relationship between generators and iterators:\n",
        "- Generators are a type of iterators: Generators are a specific kind of iterator in Python. They implement the iterator protocol and can be used in loops and other constructs that expect an iterator.\n",
        "- Iterators are more general: While generators are a specific type of iterator, iterators, in general, refer to objects that implement the `__iter__()` and `__next__()` methods. These methods allow objects to be iterated over using a `for` loop or by using the `next()` function.\n",
        "\n",
        "3. Signs that a function is a generator function:\n",
        "- It contains a `yield` statement: A generator function is a special kind of function that uses the `yield` statement instead of the `return` statement. The `yield` statement allows the function to \"yield\" values one at a time, suspending its state and resuming from where it left off upon each iteration.\n",
        "\n",
        "Example of a generator function:\n",
        "```python\n",
        "def my_generator():\n",
        "    yield 1\n",
        "    yield 2\n",
        "    yield 3\n",
        "```\n",
        "\n",
        "4. Purpose of a yield statement:\n",
        "- The `yield` statement in a generator function is used to produce a sequence of values one at a time, making it a generator. When the `yield` statement is encountered, the function's state is saved, and the yielded value is returned to the caller. The function remains in a suspended state until the next iteration, at which point it resumes execution from where it left off and continues generating values.\n",
        "\n",
        "Example of using `yield` in a generator function:\n",
        "```python\n",
        "def countdown(n):\n",
        "    while n > 0:\n",
        "        yield n\n",
        "        n -= 1\n",
        "\n",
        "# Using the generator function:\n",
        "for num in countdown(5):\n",
        "    print(num)\n",
        "# Output: 5, 4, 3, 2, 1\n",
        "```\n",
        "\n",
        "5. Relationship between map calls and list comprehensions:\n",
        "- Common purpose: Both map calls and list comprehensions are used to create new iterables by applying a function to each element of an existing iterable.\n",
        "- Functional approach vs. declarative approach:\n",
        "  - Map calls follow a more functional programming approach. They take a function and an iterable and return a new iterable with the results of applying the function to each element of the input iterable.\n",
        "  - List comprehensions, on the other hand, follow a more declarative approach. They allow you to define the desired output directly without explicitly calling a function. They are often considered more readable and concise for simple transformations.\n",
        "\n",
        "Example using map:\n",
        "```python\n",
        "# Using map to double each element in a list\n",
        "numbers = [1, 2, 3, 4, 5]\n",
        "doubled_numbers = map(lambda x: x*2, numbers)\n",
        "# Output: <map object at 0x...>\n",
        "\n",
        "# To obtain the result as a list, you can convert the map object to a list:\n",
        "doubled_numbers_list = list(doubled_numbers)\n",
        "# Output: [2, 4, 6, 8, 10]\n",
        "```\n",
        "\n",
        "Example using list comprehension:\n",
        "```python\n",
        "# Using list comprehension to double each element in a list\n",
        "numbers = [1, 2, 3, 4, 5]\n",
        "doubled_numbers = [x*2 for x in numbers]\n",
        "# Output: [2, 4, 6, 8, 10]\n",
        "```\n",
        "\n",
        "In summary, both map calls and list comprehensions serve similar purposes, but list comprehensions provide a more concise and Pythonic way to achieve the same result in many cases."
      ],
      "metadata": {
        "id": "Ba5e5yTMycNh"
      }
    },
    {
      "cell_type": "code",
      "source": [],
      "metadata": {
        "id": "Ypt_FHVcyc3s"
      },
      "execution_count": null,
      "outputs": []
    }
  ]
}