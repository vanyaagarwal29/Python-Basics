{
  "nbformat": 4,
  "nbformat_minor": 0,
  "metadata": {
    "colab": {
      "provenance": [],
      "authorship_tag": "ABX9TyN151QLGlPQ0ZdL3CpygQ2S",
      "include_colab_link": true
    },
    "kernelspec": {
      "name": "python3",
      "display_name": "Python 3"
    },
    "language_info": {
      "name": "python"
    }
  },
  "cells": [
    {
      "cell_type": "markdown",
      "metadata": {
        "id": "view-in-github",
        "colab_type": "text"
      },
      "source": [
        "<a href=\"https://colab.research.google.com/github/vanyaagarwal29/Python-Basics/blob/main/Python_Advance_Assignment_13.ipynb\" target=\"_parent\"><img src=\"https://colab.research.google.com/assets/colab-badge.svg\" alt=\"Open In Colab\"/></a>"
      ]
    },
    {
      "cell_type": "markdown",
      "source": [
        "Q1. Can you create a programme or function that employs both positive and negative indexing? Is\n",
        "there any repercussion if you do so?\n",
        "\n",
        "Q2. What is the most effective way of starting with 1,000 elements in a Python list? Assume that all\n",
        "elements should be set to the same value.\n",
        "\n",
        "Q3. How do you slice a list to get any other part while missing the rest? (For example, suppose you\n",
        "want to make a new list with the elements first, third, fifth, seventh, and so on.)\n",
        "\n",
        "Q4. Explain the distinctions between indexing and slicing.\n",
        "\n",
        "Q5. What happens if one of the slicing expression&#39;s indexes is out of range?\n",
        "\n",
        "Q6. If you pass a list to a function, and if you want the function to be able to change the values of the\n",
        "list—so that the list is different after the function returns—what action should you avoid?\n",
        "\n",
        "Q7. What is the concept of an unbalanced matrix?\n",
        "\n",
        "Q8. Why is it necessary to use either list comprehension or a loop to create arbitrarily large matrices?"
      ],
      "metadata": {
        "id": "PGdS6lK1wL6n"
      }
    },
    {
      "cell_type": "code",
      "execution_count": null,
      "metadata": {
        "id": "OryDa5B1wDd6"
      },
      "outputs": [],
      "source": []
    },
    {
      "cell_type": "markdown",
      "source": [
        "Q1. Program/function employing both positive and negative indexing and any repercussion:\n",
        "Sure! Here's an example of a Python function that uses both positive and negative indexing on a list:\n",
        "\n",
        "```python\n",
        "def index_with_repercussion(lst):\n",
        "    # Accessing elements using positive and negative indexing\n",
        "    first_element = lst[0]\n",
        "    last_element = lst[-1]\n",
        "    \n",
        "    return first_element, last_element\n",
        "\n",
        "my_list = [1, 2, 3, 4, 5]\n",
        "result = index_with_repercussion(my_list)\n",
        "print(result)   # Output: (1, 5)\n",
        "```\n",
        "\n",
        "Repercussion: There is no repercussion in using both positive and negative indexing. Positive indexing starts from 0, and negative indexing starts from -1, counting from the end of the list. Using both types of indexing allows you to access elements from the beginning and end of the list without modifying the original list.\n",
        "\n",
        "Q2. Most effective way to create a list with 1,000 elements set to the same value:\n",
        "You can use list comprehension to create a list with 1,000 elements set to the same value efficiently.\n",
        "\n",
        "```python\n",
        "# Example: Creating a list with 1,000 elements set to 0\n",
        "my_list = [0] * 1000\n",
        "```\n",
        "\n",
        "Using the `*` operator with list comprehension ensures that all elements in the list are set to the same value.\n",
        "\n",
        "Q3. Slicing a list to get specific elements while skipping the rest:\n",
        "You can achieve this using slicing with a step size. To get elements first, third, fifth, seventh, and so on, you can use the slicing syntax `[start:end:step]`, where `start` is the starting index, `end` is the ending index (exclusive), and `step` is the step size.\n",
        "\n",
        "```python\n",
        "# Example: Slicing to get elements with odd indexes\n",
        "my_list = [1, 2, 3, 4, 5, 6, 7, 8, 9, 10]\n",
        "new_list = my_list[::2]   # Using step size of 2\n",
        "print(new_list)   # Output: [1, 3, 5, 7, 9]\n",
        "```\n",
        "\n",
        "Q4. Distinctions between indexing and slicing:\n",
        "- Indexing: Indexing is used to access a specific element (single item) of a list or sequence. It is denoted by the index value, such as `lst[index]`, where `lst` is the list or sequence, and `index` is the position of the element to access. Indexing returns a single element.\n",
        "\n",
        "- Slicing: Slicing is used to create a new list that includes a portion (subsequence) of the original list or sequence. It is denoted by the slicing syntax `lst[start:end]`, where `lst` is the list or sequence, `start` is the starting index, and `end` is the ending index (exclusive). Slicing returns a new list containing elements from the specified range.\n",
        "\n",
        "Q5. What happens if one of the slicing expression's indexes is out of range?\n",
        "If one of the slicing expression's indexes is out of range (i.e., greater than or equal to the length of the list), Python will not raise an IndexError. Instead, it will return a slice up to the end of the list, ignoring the out-of-range index.\n",
        "\n",
        "Example:\n",
        "\n",
        "```python\n",
        "my_list = [1, 2, 3, 4, 5]\n",
        "result = my_list[2:10]\n",
        "print(result)   # Output: [3, 4, 5]\n",
        "```\n",
        "\n",
        "In this example, the ending index `10` is out of range, but Python gracefully handles it and returns the slice up to the end of the list.\n",
        "\n",
        "Q6. Action to avoid when passing a list to a function to change its values:\n",
        "When passing a list to a function and you want the function to modify the values of the list, you should avoid reassigning the entire list to a new list within the function. If you reassign the entire list, it will create a new local variable inside the function, and the modifications won't affect the original list outside the function.\n",
        "\n",
        "Example:\n",
        "\n",
        "```python\n",
        "def modify_list(lst):\n",
        "    # Avoid reassigning the entire list\n",
        "    lst = [1, 2, 3]   # This creates a new local variable lst, not modifying the original list\n",
        "\n",
        "my_list = [4, 5, 6]\n",
        "modify_list(my_list)\n",
        "print(my_list)   # Output: [4, 5, 6] (the original list is not modified)\n",
        "```\n",
        "\n",
        "To modify the original list inside the function, you should directly modify the elements of the list using indexing or slicing.\n",
        "\n",
        "Q7. Concept of an unbalanced matrix:\n",
        "An unbalanced matrix typically refers to a matrix that does not have an equal number of rows and columns. In other words, it is a non-square matrix where the number of rows is not the same as the number of columns. Unbalanced matrices can be rectangular, with more rows than columns or vice versa.\n",
        "\n",
        "Example of an unbalanced matrix:\n",
        "\n",
        "```\n",
        "1 2 3\n",
        "4 5 6\n",
        "7 8\n",
        "```\n",
        "\n",
        "In this example, the first row has 3 elements, the second row has 3 elements, but the third row has only 2 elements, making it an unbalanced matrix.\n",
        "\n",
        "Q8. Why is it necessary to use either list comprehension or a loop to create arbitrarily large matrices?\n",
        "In Python, using list comprehension or a loop is necessary to create arbitrarily large matrices because the size of a list (or matrix) must be explicitly defined during its creation. Unlike some programming languages that support dynamic arrays, Python lists do not automatically resize themselves to accommodate new elements.\n",
        "\n",
        "Therefore, to create a matrix with an arbitrary number of rows and columns, you need to use list comprehension or a loop to generate the rows and columns and populate the matrix accordingly.\n",
        "\n",
        "Example using list comprehension:\n",
        "\n",
        "```python\n",
        "# Creating a 5x5 matrix with all elements set to 0\n",
        "matrix = [[0 for _ in range(5)] for _ in range(5)]\n",
        "```\n",
        "\n",
        "With list comprehension or loops, you can easily create matrices of any size by adjusting the range or size parameters. This flexibility allows you to work with dynamically-sized matrices."
      ],
      "metadata": {
        "id": "TD_1-HeDwdl6"
      }
    },
    {
      "cell_type": "code",
      "source": [],
      "metadata": {
        "id": "ciK3uFaWwf5m"
      },
      "execution_count": null,
      "outputs": []
    }
  ]
}