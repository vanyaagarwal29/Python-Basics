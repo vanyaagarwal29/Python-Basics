{
  "nbformat": 4,
  "nbformat_minor": 0,
  "metadata": {
    "colab": {
      "provenance": [],
      "authorship_tag": "ABX9TyMQL/2Nxolw84a7jGaFW+ot",
      "include_colab_link": true
    },
    "kernelspec": {
      "name": "python3",
      "display_name": "Python 3"
    },
    "language_info": {
      "name": "python"
    }
  },
  "cells": [
    {
      "cell_type": "markdown",
      "metadata": {
        "id": "view-in-github",
        "colab_type": "text"
      },
      "source": [
        "<a href=\"https://colab.research.google.com/github/vanyaagarwal29/Python-Basics/blob/main/Python_Basics_Assignment_12.ipynb\" target=\"_parent\"><img src=\"https://colab.research.google.com/assets/colab-badge.svg\" alt=\"Open In Colab\"/></a>"
      ]
    },
    {
      "cell_type": "code",
      "execution_count": null,
      "metadata": {
        "id": "qvFyUH6aRbkR"
      },
      "outputs": [],
      "source": []
    },
    {
      "cell_type": "markdown",
      "source": [
        "In the `PdfFileReader()` and `PdfFileWriter()` classes from the PyPDF2 library (a library for working with PDF files in Python), you don't need to explicitly open file objects using Python's built-in `open()` function. Instead, you pass the file objects directly as arguments to these classes.\n",
        "\n",
        "Here's how you would typically use `PdfFileReader()` and `PdfFileWriter()`:\n",
        "\n",
        "1. PdfFileReader():\n",
        "This class is used to read and extract information from existing PDF files. You should pass the PDF file object opened in binary read mode ('rb').\n",
        "\n",
        "```python\n",
        "from PyPDF2 import PdfFileReader\n",
        "\n",
        "with open('input.pdf', 'rb') as file:\n",
        "    pdf_reader = PdfFileReader(file)\n",
        "    # You can now use pdf_reader to access information about the PDF.\n",
        "```\n",
        "\n",
        "2. PdfFileWriter():\n",
        "This class is used to create a new PDF file or modify an existing one. You should pass the PDF file object opened in binary write mode ('wb').\n",
        "\n",
        "```python\n",
        "from PyPDF2 import PdfFileWriter\n",
        "\n",
        "with open('output.pdf', 'wb') as file:\n",
        "    pdf_writer = PdfFileWriter()\n",
        "    # You can now use pdf_writer to add pages, annotations, etc. and save the changes to 'output.pdf'.\n",
        "```\n",
        "\n",
        "Remember to open the file objects in binary mode ('rb' for reading and 'wb' for writing) when working with PDF files because PDFs are binary files, and using text mode could lead to issues.\n",
        "\n",
        "Additionally, please note that as of my last update in September 2021, PyPDF2 was a commonly used library for basic PDF manipulation in Python. However, there might be other libraries or newer versions of PyPDF2 available now. Always check the latest documentation for any updates or changes."
      ],
      "metadata": {
        "id": "pJU3DjWCR0OW"
      }
    },
    {
      "cell_type": "code",
      "source": [],
      "metadata": {
        "id": "2UAVzGlxR1YF"
      },
      "execution_count": null,
      "outputs": []
    },
    {
      "cell_type": "markdown",
      "source": [
        "To get a `Page` object for page 5 from a `PdfFileReader` object in the PyPDF2 library, you can use the `getPage()` method. The page numbering in PyPDF2 starts from 0, so to get page 5, you need to pass the index 4 to the `getPage()` method (0-indexed).\n",
        "\n",
        "Here's how you can do it:\n",
        "\n",
        "```python\n",
        "from PyPDF2 import PdfFileReader\n",
        "\n",
        "with open('input.pdf', 'rb') as file:\n",
        "    pdf_reader = PdfFileReader(file)\n",
        "\n",
        "    # Getting the Page object for page 5 (0-indexed, so pass index 4)\n",
        "    page_number = 4  # Page 5 corresponds to index 4\n",
        "    page = pdf_reader.getPage(page_number)\n",
        "\n",
        "    # Now you can work with the Page object, for example, get its content or extract text from it.\n",
        "    page_text = page.extractText()\n",
        "    print(page_text)\n",
        "```\n",
        "\n",
        "Make sure to replace `'input.pdf'` with the path to your actual PDF file. After obtaining the `Page` object, you can perform various operations like extracting text, adding annotations, merging, etc., depending on your use case."
      ],
      "metadata": {
        "id": "h3FCd6C7SAXl"
      }
    },
    {
      "cell_type": "code",
      "source": [],
      "metadata": {
        "id": "P9dhkGSvSA0I"
      },
      "execution_count": null,
      "outputs": []
    },
    {
      "cell_type": "markdown",
      "source": [
        "In the PyPDF2 library, the number of pages in a PDF document can be obtained using the `getNumPages()` method of the `PdfFileReader` class. This method returns an integer representing the total number of pages in the PDF file.\n",
        "\n",
        "Here's how you can use it:\n",
        "\n",
        "```python\n",
        "from PyPDF2 import PdfFileReader\n",
        "\n",
        "with open('input.pdf', 'rb') as file:\n",
        "    pdf_reader = PdfFileReader(file)\n",
        "\n",
        "    # Get the number of pages in the PDF document\n",
        "    num_pages = pdf_reader.getNumPages()\n",
        "\n",
        "    print(f\"The PDF contains {num_pages} pages.\")\n",
        "```\n",
        "\n",
        "Replace `'input.pdf'` with the path to your actual PDF file. After running this code, it will print the total number of pages in the specified PDF document."
      ],
      "metadata": {
        "id": "dUptSKj5SLPh"
      }
    },
    {
      "cell_type": "code",
      "source": [],
      "metadata": {
        "id": "Op_af0ZXSMS9"
      },
      "execution_count": null,
      "outputs": []
    },
    {
      "cell_type": "markdown",
      "source": [
        "If a `PdfFileReader` object's PDF is encrypted with the password \"swordfish,\" you need to provide the password before you can obtain Page objects from it. This is necessary to unlock the encrypted PDF and access its content.\n",
        "\n",
        "To do this, you need to use the `decrypt()` method of the `PdfFileReader` class and pass the password as an argument.\n",
        "\n",
        "Here's how you can do it:\n",
        "\n",
        "```python\n",
        "from PyPDF2 import PdfFileReader\n",
        "\n",
        "with open('encrypted_input.pdf', 'rb') as file:\n",
        "    pdf_reader = PdfFileReader(file)\n",
        "\n",
        "    # Provide the password to decrypt the PDF (replace 'swordfish' with the actual password)\n",
        "    password = 'swordfish'\n",
        "    pdf_reader.decrypt(password)\n",
        "\n",
        "    # Now you can obtain Page objects from the decrypted PDF\n",
        "    num_pages = pdf_reader.getNumPages()\n",
        "    print(f\"The PDF contains {num_pages} pages.\")\n",
        "\n",
        "    # For example, let's get the Page object for page 5 (0-indexed, so pass index 4)\n",
        "    page_number = 4  # Page 5 corresponds to index 4\n",
        "    page = pdf_reader.getPage(page_number)\n",
        "\n",
        "    # Now you can work with the Page object, for example, get its content or extract text from it.\n",
        "    page_text = page.extractText()\n",
        "    print(page_text)\n",
        "```\n",
        "\n",
        "Replace `'encrypted_input.pdf'` with the path to your actual encrypted PDF file. After running this code and providing the correct password, it will decrypt the PDF and allow you to obtain Page objects and perform other operations on the PDF content. If you provide the wrong password or no password when the PDF is encrypted, you will get an error when trying to access the content."
      ],
      "metadata": {
        "id": "1I8vDGxbSYMH"
      }
    },
    {
      "cell_type": "code",
      "source": [],
      "metadata": {
        "id": "UABw68yeSYmd"
      },
      "execution_count": null,
      "outputs": []
    },
    {
      "cell_type": "markdown",
      "source": [
        "To rotate a page in a PDF using the PyPDF2 library in Python, you can use the `rotateClockwise()` or `rotateCounterClockwise()` methods of the `Page` object. These methods allow you to rotate the page content by 90 degrees clockwise or counter-clockwise, respectively.\n",
        "\n",
        "Here's how you can use these methods:\n",
        "\n",
        "```python\n",
        "from PyPDF2 import PdfFileReader, PdfFileWriter\n",
        "\n",
        "# Open the PDF file and create PdfFileReader and PdfFileWriter objects\n",
        "with open('input.pdf', 'rb') as file:\n",
        "    pdf_reader = PdfFileReader(file)\n",
        "    pdf_writer = PdfFileWriter()\n",
        "\n",
        "    # Choose the page number you want to rotate (0-indexed, so page 1 is index 0)\n",
        "    page_number = 0\n",
        "\n",
        "    # Get the selected page from the PdfFileReader\n",
        "    page = pdf_reader.getPage(page_number)\n",
        "\n",
        "    # Rotate the page clockwise (90 degrees)\n",
        "    page.rotateClockwise(90)\n",
        "\n",
        "    # Alternatively, you can rotate the page counter-clockwise (90 degrees)\n",
        "    # page.rotateCounterClockwise(90)\n",
        "\n",
        "    # Add the rotated page to the PdfFileWriter\n",
        "    pdf_writer.addPage(page)\n",
        "\n",
        "    # Save the rotated page to a new PDF file\n",
        "    with open('output.pdf', 'wb') as output_file:\n",
        "        pdf_writer.write(output_file)\n",
        "```\n",
        "\n",
        "In this example, we open the input PDF file and create `PdfFileReader` and `PdfFileWriter` objects. We choose the page number we want to rotate (0-indexed, so page 1 is index 0). We then retrieve the selected page using `getPage()` from the `PdfFileReader` object. Next, we rotate the page clockwise using `rotateClockwise()` or counter-clockwise using `rotateCounterClockwise()`. Finally, we add the rotated page to the `PdfFileWriter` object and save the changes to a new PDF file using `write()`.\n",
        "\n",
        "Remember to replace `'input.pdf'` with the path to your actual PDF file, and the rotated page will be saved as `'output.pdf'`."
      ],
      "metadata": {
        "id": "ddvmB5-BSub3"
      }
    },
    {
      "cell_type": "code",
      "source": [],
      "metadata": {
        "id": "NYX8ao6rSvCT"
      },
      "execution_count": null,
      "outputs": []
    },
    {
      "cell_type": "markdown",
      "source": [
        "The concepts of \"Run\" and \"Paragraph\" objects are commonly associated with word processing software or libraries that provide tools for document manipulation. Let's explore their definitions and differences:\n",
        "\n",
        "1. Run Object:\n",
        "In the context of word processing software like Microsoft Word or libraries like Python's `python-docx`, a \"Run\" represents a continuous range of characters within a paragraph that share the same character formatting. Character formatting includes attributes like font size, font style (bold, italic, etc.), font color, and more. If you change the formatting of a run, it only affects the characters within that specific run.\n",
        "\n",
        "For example, consider the following sentence:\n",
        "\"Please make **bold** and *italic* text.\"\n",
        "\n",
        "In this sentence, \"Please make,\" \"bold,\" and \"italic\" could each be separate runs with different character formatting. If you change the font color of the \"bold\" run, it won't affect the rest of the sentence.\n",
        "\n",
        "2. Paragraph Object:\n",
        "A \"Paragraph\" is a block of text that typically represents a logical unit of content. It is a collection of one or more runs of text. A paragraph can contain multiple runs with different formatting, or it can have just one run with uniform formatting.\n",
        "\n",
        "Using the same example as above, the entire sentence would be contained within a single paragraph, and each segment (i.e., \"Please make,\" \"bold,\" \"and,\" \"italic,\" \"text\") would be separate runs within that paragraph.\n",
        "\n",
        "Summary of Differences:\n",
        "- A \"Run\" is a continuous range of characters with the same character formatting.\n",
        "- A \"Paragraph\" is a logical unit of content containing one or more runs.\n",
        "- A paragraph can consist of multiple runs with different formatting, whereas a run only contains characters with identical formatting.\n",
        "- Modifying the formatting of a run affects only the characters within that run, while modifying the paragraph's formatting could affect all the runs within that paragraph.\n",
        "\n",
        "It's important to note that the terminology may vary depending on the word processing software or library being used, but the basic concepts of runs and paragraphs generally remain consistent."
      ],
      "metadata": {
        "id": "0CuowimRTBUd"
      }
    },
    {
      "cell_type": "code",
      "source": [],
      "metadata": {
        "id": "fxAcD6PqTB5e"
      },
      "execution_count": null,
      "outputs": []
    },
    {
      "cell_type": "markdown",
      "source": [
        "To obtain a list of Paragraph objects from a Document object stored in a variable named `doc`, it depends on the specific word processing library or format you are using. Since there are various word processing libraries with different approaches, I'll provide examples for two popular ones: `python-docx` and `python-docx2txt`.\n",
        "\n",
        "1. Using python-docx:\n",
        "`python-docx` is a library that allows you to work with Microsoft Word `.docx` files in Python. To get a list of Paragraph objects from a Document object, you can use the `paragraphs` attribute of the Document class.\n",
        "\n",
        "Here's an example:\n",
        "\n",
        "```python\n",
        "from docx import Document\n",
        "\n",
        "# Assuming you have already loaded the .docx file into the `doc` variable\n",
        "# For example, doc = Document('your_file.docx')\n",
        "\n",
        "# Get a list of Paragraph objects from the Document object\n",
        "paragraphs_list = doc.paragraphs\n",
        "\n",
        "# Now you can work with the list of Paragraph objects\n",
        "for paragraph in paragraphs_list:\n",
        "    print(paragraph.text)\n",
        "```\n",
        "\n",
        "2. Using python-docx2txt:\n",
        "`python-docx2txt` is a library that allows you to extract text from Microsoft Word `.docx` files. It doesn't provide direct access to Paragraph objects but extracts the text content as a string.\n",
        "\n",
        "Here's an example:\n",
        "\n",
        "```python\n",
        "import docx2txt\n",
        "\n",
        "# Assuming you have already loaded the .docx file into the `doc` variable\n",
        "# For example, doc = docx2txt.process('your_file.docx')\n",
        "\n",
        "# Extract text from the Document object as a string\n",
        "doc_text = doc\n",
        "\n",
        "# Now you can process the text content as needed\n",
        "print(doc_text)\n",
        "```\n",
        "\n",
        "In the second example, the `docx2txt.process()` function extracts the text content as a string, and you won't have direct access to Paragraph objects like you would with `python-docx`.\n",
        "\n",
        "Choose the library that best suits your needs, and use the provided approach to obtain the content of the Document as a list of Paragraph objects or as plain text, depending on your requirements."
      ],
      "metadata": {
        "id": "QQz3JNcOTS02"
      }
    },
    {
      "cell_type": "code",
      "source": [],
      "metadata": {
        "id": "zI93Jas6TTMy"
      },
      "execution_count": null,
      "outputs": []
    },
    {
      "cell_type": "markdown",
      "source": [
        "The type of object that typically has attributes such as `bold`, `underline`, `italic`, `strike`, and `outline` is a \"Run\" object in the context of word processing libraries or frameworks. Specifically, this is common when working with libraries that allow you to manipulate document formats like Microsoft Word's `.docx` files through Python.\n",
        "\n",
        "Here's a brief explanation of each attribute:\n",
        "\n",
        "- `bold`: A Boolean attribute that indicates whether the characters in the run are formatted as bold (`True`) or not (`False`).\n",
        "- `underline`: A Boolean attribute that indicates whether the characters in the run are underlined (`True`) or not (`False`).\n",
        "- `italic`: A Boolean attribute that indicates whether the characters in the run are formatted as italic (`True`) or not (`False`).\n",
        "- `strike`: A Boolean attribute that indicates whether the characters in the run are strikethrough (`True`) or not (`False`).\n",
        "- `outline`: A Boolean attribute that indicates whether the characters in the run have an outline style (`True`) or not (`False`).\n",
        "\n",
        "Using Python libraries like `python-docx` to work with `.docx` files, you can access these attributes on the `Run` object to control the character formatting within the document.\n",
        "\n",
        "Here's a simple example of how you might use these attributes:\n",
        "\n",
        "```python\n",
        "from docx import Document\n",
        "\n",
        "doc = Document()\n",
        "paragraph = doc.add_paragraph()\n",
        "\n",
        "# Add text with various character formatting to the paragraph\n",
        "run = paragraph.add_run('This is some sample text.')\n",
        "run.bold = True\n",
        "run.italic = True\n",
        "run.underline = True\n",
        "run.strike = True\n",
        "run.outline = True\n",
        "\n",
        "doc.save('formatted_document.docx')\n",
        "```\n",
        "\n",
        "In this example, we create a new document, add a paragraph, and add a \"Run\" object with formatted text. The text will be bold, italic, underlined, strikethrough, and have an outline style when saved in the `formatted_document.docx` file.\n",
        "\n",
        "Keep in mind that the availability of these attributes and their specific usage might vary depending on the word processing library or format you are working with. The example provided here is based on the `python-docx` library for handling Microsoft Word `.docx` files."
      ],
      "metadata": {
        "id": "B4JJ_5UITapy"
      }
    },
    {
      "cell_type": "code",
      "source": [],
      "metadata": {
        "id": "DsB4G9kjTb5c"
      },
      "execution_count": null,
      "outputs": []
    },
    {
      "cell_type": "markdown",
      "source": [
        "In the context of character formatting in word processing libraries, such as `python-docx`, the values `False`, `True`, and `None` for the `bold` variable indicate different states of character boldness:\n",
        "\n",
        "1. `False`: Setting `bold` to `False` means that the characters within the \"Run\" object (i.e., the specified text) are not formatted as bold. The text appears with the default or regular font weight.\n",
        "\n",
        "Example:\n",
        "```python\n",
        "run = paragraph.add_run('This is normal text.')\n",
        "run.bold = False\n",
        "```\n",
        "\n",
        "2. `True`: Setting `bold` to `True` means that the characters within the \"Run\" object are formatted as bold. The text appears with a bold font weight.\n",
        "\n",
        "Example:\n",
        "```python\n",
        "run = paragraph.add_run('This is bold text.')\n",
        "run.bold = True\n",
        "```\n",
        "\n",
        "3. `None`: When the `bold` attribute of a \"Run\" object is set to `None`, it means that the boldness of the characters is not explicitly specified at the run level. In this case, the text will inherit the boldness setting from its parent paragraph, style, or document level. If no explicit boldness is set at any of these levels, the text will be displayed with the default or regular font weight.\n",
        "\n",
        "Example:\n",
        "```python\n",
        "run = paragraph.add_run('This is text with inherited boldness.')\n",
        "run.bold = None  # Inherited boldness from the parent paragraph, style, or document level\n",
        "```\n",
        "\n",
        "By using `False`, `True`, or `None`, you can control the boldness of specific text within your document, applying different formatting as needed. Remember that the behavior might vary depending on the specific word processing library or document format being used."
      ],
      "metadata": {
        "id": "6V33Xd_lTmD3"
      }
    },
    {
      "cell_type": "code",
      "source": [],
      "metadata": {
        "id": "8WQTxsbhTmoT"
      },
      "execution_count": null,
      "outputs": []
    },
    {
      "cell_type": "markdown",
      "source": [
        "To create a new Word document and obtain a `Document` object using the `python-docx` library, you can follow these steps:\n",
        "\n",
        "1. Install the `python-docx` library (if you haven't already):\n",
        "You can install the library using `pip` by running the following command in your terminal or command prompt:\n",
        "\n",
        "```bash\n",
        "pip install python-docx\n",
        "```\n",
        "\n",
        "2. Import the necessary module and create the `Document` object:\n",
        "Once you have the `python-docx` library installed, you can import the required module and create a new `Document` object to work with the Word document.\n",
        "\n",
        "Here's a simple example:\n",
        "\n",
        "```python\n",
        "from docx import Document\n",
        "\n",
        "# Create a new Document object\n",
        "doc = Document()\n",
        "\n",
        "# Add content to the document (optional)\n",
        "doc.add_heading('Title', level=1)\n",
        "doc.add_paragraph('This is the first paragraph.')\n",
        "doc.add_paragraph('This is the second paragraph.')\n",
        "\n",
        "# Save the document to a file (optional)\n",
        "doc.save('new_document.docx')\n",
        "```\n",
        "\n",
        "In this example, we import the `Document` class from the `docx` module and create a new `Document` object using `doc = Document()`. After that, we add some content to the document (heading and paragraphs), but this step is optional, depending on your specific requirements. Finally, we save the document to a file named `'new_document.docx'` using `doc.save()`.\n",
        "\n",
        "If you don't need to save the document to a file and only want to work with the in-memory representation of the document, you can skip the `doc.save()` step.\n",
        "\n",
        "That's it! You now have a new Word document represented by the `Document` object, and you can add content or perform various manipulations using the `python-docx` library."
      ],
      "metadata": {
        "id": "3svN5qYfTxpD"
      }
    },
    {
      "cell_type": "code",
      "source": [],
      "metadata": {
        "id": "XtglbWYeTzIl"
      },
      "execution_count": null,
      "outputs": []
    },
    {
      "cell_type": "markdown",
      "source": [
        "To add a paragraph with the text `'Hello, there!'` to a `Document` object stored in a variable named `doc`, you can use the `add_paragraph()` method of the `Document` class. Here's how you can do it:\n",
        "\n",
        "```python\n",
        "from docx import Document\n",
        "\n",
        "# Assuming you have already created a Document object and stored it in the variable 'doc'\n",
        "# For example, doc = Document()\n",
        "\n",
        "# Add a paragraph with the text 'Hello, there!' to the Document\n",
        "text_to_add = 'Hello, there!'\n",
        "doc.add_paragraph(text_to_add)\n",
        "\n",
        "# Optionally, you can also save the Document to a file\n",
        "doc.save('output_document.docx')\n",
        "```\n",
        "\n",
        "In this example, we use the `add_paragraph()` method to add a new paragraph to the `Document` object. The `text_to_add` variable contains the text `'Hello, there!'`, which is added as the content of the paragraph. If you save the `Document` to a file using `doc.save('output_document.docx')`, the text will be visible in the resulting Word document.\n",
        "\n",
        "Remember that you should have already created the `Document` object before using the `add_paragraph()` method. If you haven't done that, you can create a new `Document` object using `doc = Document()` before adding paragraphs or other content."
      ],
      "metadata": {
        "id": "NZidj_hmT6Dk"
      }
    },
    {
      "cell_type": "code",
      "source": [],
      "metadata": {
        "id": "yjXhZnhkT6lE"
      },
      "execution_count": null,
      "outputs": []
    },
    {
      "cell_type": "markdown",
      "source": [
        "In Word documents, the heading levels are typically represented by integer values ranging from 1 to 9. These integer values are used to define the hierarchical structure of headings in the document. Heading levels help to organize the content and create a table of contents with clickable links in the document.\n",
        "\n",
        "The integer values and their corresponding heading levels are as follows:\n",
        "\n",
        "- Heading Level 1: Represented by integer 1\n",
        "- Heading Level 2: Represented by integer 2\n",
        "- Heading Level 3: Represented by integer 3\n",
        "- Heading Level 4: Represented by integer 4\n",
        "- Heading Level 5: Represented by integer 5\n",
        "- Heading Level 6: Represented by integer 6\n",
        "- Heading Level 7: Represented by integer 7\n",
        "- Heading Level 8: Represented by integer 8\n",
        "- Heading Level 9: Represented by integer 9\n",
        "\n",
        "For example, when you apply Heading 1 style to a paragraph in a Word document, it will be associated with heading level 1. Similarly, when you apply Heading 2 style to another paragraph, it will be associated with heading level 2, and so on.\n",
        "\n",
        "Keep in mind that the specific styles and numbering of heading levels might vary depending on the Word version and the template being used. However, the concept of using integers to represent heading levels and create a hierarchical structure remains consistent across most versions of Microsoft Word."
      ],
      "metadata": {
        "id": "4aJ2NvUFUCWM"
      }
    },
    {
      "cell_type": "code",
      "source": [],
      "metadata": {
        "id": "O8QCuFyRUEPv"
      },
      "execution_count": null,
      "outputs": []
    }
  ]
}