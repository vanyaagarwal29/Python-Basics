{
  "nbformat": 4,
  "nbformat_minor": 0,
  "metadata": {
    "colab": {
      "provenance": [],
      "authorship_tag": "ABX9TyP1ETG5Wn/bphh7MmHjke4e",
      "include_colab_link": true
    },
    "kernelspec": {
      "name": "python3",
      "display_name": "Python 3"
    },
    "language_info": {
      "name": "python"
    }
  },
  "cells": [
    {
      "cell_type": "markdown",
      "metadata": {
        "id": "view-in-github",
        "colab_type": "text"
      },
      "source": [
        "<a href=\"https://colab.research.google.com/github/vanyaagarwal29/Python-Basics/blob/main/Python_Advance_Assignment_18.ipynb\" target=\"_parent\"><img src=\"https://colab.research.google.com/assets/colab-badge.svg\" alt=\"Open In Colab\"/></a>"
      ]
    },
    {
      "cell_type": "code",
      "execution_count": null,
      "metadata": {
        "id": "Fd9I4ahf1Ec5"
      },
      "outputs": [],
      "source": []
    },
    {
      "cell_type": "markdown",
      "source": [
        "Q1. Greedy vs. Non-greedy:\n",
        "- Greedy Syntax: Matches the longest possible substring that fits the pattern.\n",
        "- Non-greedy Syntax: Matches the shortest possible substring that fits the pattern.\n",
        "To transform a greedy pattern into a non-greedy one, add a question mark '?' after the quantifier, like `*?`, `+?`, `??`, or `{m,n}?`.\n",
        "\n",
        "Q2. Difference between Greedy and Non-greedy:\n",
        "- Greedy makes the pattern match the longest possible substring.\n",
        "- Non-greedy makes the pattern match the shortest possible substring.\n",
        "If you're looking for a non-greedy match but only a greedy one is available, the match will still work, but it will include more characters than desired.\n",
        "\n",
        "Q3. Use of Non-tagged Group in Simple Match:\n",
        "In a simple match without replacement, using a non-tagged group won't have a practical difference. Non-tagged groups are used for capturing without naming.\n",
        "\n",
        "Q4. Scenario for Non-tagged Category Impact:\n",
        "In a complex regex pattern where you need to extract specific parts of the match using non-tagged groups, using non-tagged categories would impact the ability to access the captured submatches individually.\n",
        "\n",
        "Q5. Difference due to Look-ahead Condition:\n",
        "In scenarios where you want to find overlapping matches, using a look-ahead condition will allow you to locate matches that share characters with other matches, without consuming the characters.\n",
        "\n",
        "Q6. Positive Look-ahead vs. Negative Look-ahead:\n",
        "- Positive Look-ahead: Ensures that the pattern inside the look-ahead is followed by the main pattern.\n",
        "- Negative Look-ahead: Ensures that the pattern inside the negative look-ahead is not followed by the main pattern.\n",
        "\n",
        "Q7. Benefit of Referring to Groups by Name:\n",
        "Referring to groups by name in a standard expression improves code readability and makes the code easier to maintain, as it provides descriptive names for captured groups.\n",
        "\n",
        "Q8. Identifying Repeated Items Using Named Groups:\n",
        "Yes, named groups can be used to identify repeated items within a target string. For example: `(?P<word>\\w+)`, then you can use `re.findall(r'(?P<word>\\w+)', text)` to get all occurrences of the word.\n",
        "\n",
        "Q9. Scanner vs. re.findall:\n",
        "The Scanner interface in Python allows you to tokenize a string by defining patterns for different tokens. It can skip whitespace, handle multiple patterns, and provide more fine-grained control over tokenization, unlike re.findall, which only returns matches.\n",
        "\n",
        "Q10. Naming a Scanner Object:\n",
        "No, a Scanner object does not have to be named 'scanner.' It can be named anything that follows the variable naming rules in Python."
      ],
      "metadata": {
        "id": "b9VBIx981Hlp"
      }
    },
    {
      "cell_type": "code",
      "source": [],
      "metadata": {
        "id": "PjLRir341PLm"
      },
      "execution_count": null,
      "outputs": []
    }
  ]
}