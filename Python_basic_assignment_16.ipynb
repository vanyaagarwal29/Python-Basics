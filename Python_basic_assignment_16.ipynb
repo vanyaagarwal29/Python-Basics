{
  "nbformat": 4,
  "nbformat_minor": 0,
  "metadata": {
    "colab": {
      "provenance": [],
      "authorship_tag": "ABX9TyOkyt20AnfDK7J+DAtH320Q",
      "include_colab_link": true
    },
    "kernelspec": {
      "name": "python3",
      "display_name": "Python 3"
    },
    "language_info": {
      "name": "python"
    }
  },
  "cells": [
    {
      "cell_type": "markdown",
      "metadata": {
        "id": "view-in-github",
        "colab_type": "text"
      },
      "source": [
        "<a href=\"https://colab.research.google.com/github/vanyaagarwal29/Python-Basics/blob/main/Python_basic_assignment_16.ipynb\" target=\"_parent\"><img src=\"https://colab.research.google.com/assets/colab-badge.svg\" alt=\"Open In Colab\"/></a>"
      ]
    },
    {
      "cell_type": "code",
      "execution_count": null,
      "metadata": {
        "id": "8AdjTKQ_Zwq5"
      },
      "outputs": [],
      "source": []
    },
    {
      "cell_type": "markdown",
      "source": [
        "Create a list called years_list, starting with the year of your birth, and each year thereafter until\n",
        "the year of your fifth birthday. For example, if you were born in 1980. the list would be years_list =\n",
        "[1980, 1981, 1982, 1983, 1984, 1985].\n",
        "\n",
        "Sure! Let's create the list `years_list` starting from the year of your birth and continuing until your fifth birthday. Replace the `start_year` variable with your birth year, and the list will be generated accordingly:\n",
        "\n",
        "```python\n",
        "start_year = 2000  # Replace this with your birth year\n",
        "years_list = [year for year in range(start_year, start_year + 6)]\n",
        "\n",
        "print(years_list)\n",
        "```\n",
        "\n",
        "Replace `start_year` with your actual birth year. For example, if you were born in 2000, the output will be:\n",
        "\n",
        "```\n",
        "[2000, 2001, 2002, 2003, 2004, 2005]\n",
        "```\n",
        "\n",
        "The `years_list` will contain the years from your birth year until the year of your fifth birthday, inclusive."
      ],
      "metadata": {
        "id": "1AGKjSxuZ73B"
      }
    },
    {
      "cell_type": "code",
      "source": [],
      "metadata": {
        "id": "WEntOJo8aDeD"
      },
      "execution_count": null,
      "outputs": []
    },
    {
      "cell_type": "markdown",
      "source": [
        "In which year in years_list was your third birthday? Remember, you were 0 years of age for your\n",
        "first year."
      ],
      "metadata": {
        "id": "VI-2zdsAaHMB"
      }
    },
    {
      "cell_type": "markdown",
      "source": [
        "If you were 0 years of age for your first year, then your third birthday would have been in the year that is two years after your birth year. To find this year, we can use the `years_list` generated previously and access the element at index 2 (since Python uses zero-based indexing):\n",
        "\n",
        "```python\n",
        "start_year = 2000  # Replace this with your birth year\n",
        "years_list = [year for year in range(start_year, start_year + 6)]\n",
        "\n",
        "third_birthday_year = years_list[2]\n",
        "\n",
        "print(third_birthday_year)\n",
        "```\n",
        "\n",
        "Replace `start_year` with your actual birth year. For example, if you were born in 2000, the output will be:\n",
        "\n",
        "```\n",
        "2002\n",
        "```\n",
        "\n",
        "In this case, your third birthday was in the year 2002."
      ],
      "metadata": {
        "id": "3CXX2-qdaMmf"
      }
    },
    {
      "cell_type": "code",
      "source": [],
      "metadata": {
        "id": "OGhwv7JSaIE6"
      },
      "execution_count": null,
      "outputs": []
    },
    {
      "cell_type": "markdown",
      "source": [
        "To find the year when you were the oldest in the `years_list`, we need to identify the maximum value in the list, as it represents the highest year. Here's how you can do it:\n",
        "\n",
        "```python\n",
        "start_year = 2000  # Replace this with your birth year\n",
        "years_list = [year for year in range(start_year, start_year + 6)]\n",
        "\n",
        "oldest_year = max(years_list)\n",
        "\n",
        "print(oldest_year)\n",
        "```\n",
        "\n",
        "Replace `start_year` with your actual birth year. For example, if you were born in 2000, the output will be:\n",
        "\n",
        "```\n",
        "2005\n",
        "```\n",
        "\n",
        "In this case, the year 2005 is when you were the oldest in the `years_list`."
      ],
      "metadata": {
        "id": "XVxpyv6iaWh8"
      }
    },
    {
      "cell_type": "code",
      "source": [],
      "metadata": {
        "id": "iHV3OLtiaXL7"
      },
      "execution_count": null,
      "outputs": []
    },
    {
      "cell_type": "markdown",
      "source": [
        "Make a list called things with these three strings as elements: &quot;mozzarella&quot;, &quot;cinderella&quot;,\n",
        "&quot;salmonella&quot;.\n",
        "\n",
        "\n",
        "Sure! Here's the list called `things` with the three strings as elements:\n",
        "\n",
        "```python\n",
        "things = [\"mozzarella\", \"cinderella\", \"salmonella\"]\n",
        "print(things)\n",
        "```\n",
        "\n",
        "The `things` list contains the strings `\"mozzarella\"`, `\"cinderella\"`, and `\"salmonella\"`. When you print the list, it will display:\n",
        "\n",
        "```\n",
        "['mozzarella', 'cinderella', 'salmonella']\n",
        "```"
      ],
      "metadata": {
        "id": "rt48TQdiabot"
      }
    },
    {
      "cell_type": "code",
      "source": [],
      "metadata": {
        "id": "wkGUpwetael7"
      },
      "execution_count": null,
      "outputs": []
    },
    {
      "cell_type": "markdown",
      "source": [
        "Capitalize the element in things that refers to a person and then print the list. Did it change the\n",
        "element in the list?\n",
        "\n",
        "To capitalize the element in the `things` list that refers to a person (i.e., `\"cinderella\"`), you can use the `capitalize()` method. The `capitalize()` method will capitalize the first letter of the string, making it `\"Cinderella\"`.\n",
        "\n",
        "Here's how you can do it:\n",
        "\n",
        "```python\n",
        "things = [\"mozzarella\", \"cinderella\", \"salmonella\"]\n",
        "\n",
        "# Capitalize the element that refers to a person\n",
        "things[1] = things[1].capitalize()\n",
        "\n",
        "print(things)\n",
        "```\n",
        "\n",
        "After running this code, the output will be:\n",
        "\n",
        "```\n",
        "['mozzarella', 'Cinderella', 'salmonella']\n",
        "```\n",
        "\n",
        "As you can see, the element that refers to a person, originally `\"cinderella\"`, has been changed to `\"Cinderella\"` in the `things` list. The `capitalize()` method modified the element in the list in place."
      ],
      "metadata": {
        "id": "IGRNj0VvaiWl"
      }
    },
    {
      "cell_type": "code",
      "source": [],
      "metadata": {
        "id": "oANMYvlPambO"
      },
      "execution_count": null,
      "outputs": []
    },
    {
      "cell_type": "markdown",
      "source": [
        "Make a surprise list with the elements &quot;Groucho,&quot; &quot;Chico,&quot; and &quot;Harpo.&quot;\n",
        "\n",
        "Sure! Here's a list called `surprise` with the elements \"Groucho,\" \"Chico,\" and \"Harpo\":\n",
        "\n",
        "```python\n",
        "surprise = [\"Groucho\", \"Chico\", \"Harpo\"]\n",
        "print(surprise)\n",
        "```\n",
        "\n",
        "The `surprise` list contains the strings \"Groucho,\" \"Chico,\" and \"Harpo.\" When you print the list, it will display:\n",
        "\n",
        "```\n",
        "['Groucho', 'Chico', 'Harpo']\n",
        "```"
      ],
      "metadata": {
        "id": "6ZDLtEiCarSR"
      }
    },
    {
      "cell_type": "code",
      "source": [],
      "metadata": {
        "id": "I-dMTGBZaueY"
      },
      "execution_count": null,
      "outputs": []
    },
    {
      "cell_type": "markdown",
      "source": [
        "Lowercase the last element of the surprise list, reverse it, and then capitalize it.\n",
        "\n",
        "Sure! You can perform the operations on the last element of the `surprise` list step by step. Here's how you can do it:\n",
        "\n",
        "```python\n",
        "surprise = [\"Groucho\", \"Chico\", \"Harpo\"]\n",
        "\n",
        "# Lowercase the last element\n",
        "last_element_lower = surprise[-1].lower()\n",
        "\n",
        "# Reverse the last element\n",
        "last_element_reversed = last_element_lower[::-1]\n",
        "\n",
        "# Capitalize the reversed last element\n",
        "last_element_capitalized = last_element_reversed.capitalize()\n",
        "\n",
        "# Update the last element in the surprise list\n",
        "surprise[-1] = last_element_capitalized\n",
        "\n",
        "print(surprise)\n",
        "```\n",
        "\n",
        "After running this code, the output will be:\n",
        "\n",
        "```\n",
        "['Groucho', 'Chico', 'Oprah']\n",
        "```\n",
        "\n",
        "As you can see, the last element of the `surprise` list, which was originally \"Harpo,\" has been transformed to \"Oprah\" after performing the specified operations."
      ],
      "metadata": {
        "id": "XQqsZg7EayYF"
      }
    },
    {
      "cell_type": "code",
      "source": [],
      "metadata": {
        "id": "B9-g4B99a1l9"
      },
      "execution_count": null,
      "outputs": []
    },
    {
      "cell_type": "markdown",
      "source": [
        "Make an English-to-French dictionary called e2f and print it. Here are your starter words: dog is\n",
        "chien, cat is chat, and walrus is morse.\n",
        "\n",
        "Sure! Here's an English-to-French dictionary called `e2f` with the provided starter words:\n",
        "\n",
        "```python\n",
        "e2f = {\n",
        "    'dog': 'chien',\n",
        "    'cat': 'chat',\n",
        "    'walrus': 'morse'\n",
        "}\n",
        "\n",
        "print(e2f)\n",
        "```\n",
        "\n",
        "When you print the `e2f` dictionary, it will display:\n",
        "\n",
        "```\n",
        "{'dog': 'chien', 'cat': 'chat', 'walrus': 'morse'}\n",
        "```\n",
        "\n",
        "The dictionary `e2f` maps English words to their corresponding French translations."
      ],
      "metadata": {
        "id": "DCS5NMGja5oI"
      }
    },
    {
      "cell_type": "code",
      "source": [],
      "metadata": {
        "id": "VJhExGxAbA4b"
      },
      "execution_count": null,
      "outputs": []
    },
    {
      "cell_type": "markdown",
      "source": [
        "The French word for \"walrus\" in the `e2f` dictionary is \"morse.\" Here's the `e2f` dictionary with the provided words:\n",
        "\n",
        "```python\n",
        "e2f = {\n",
        "    'dog': 'chien',\n",
        "    'cat': 'chat',\n",
        "    'walrus': 'morse'\n",
        "}\n",
        "```\n",
        "\n",
        "In this dictionary, the key `'walrus'` corresponds to the French word `'morse'`."
      ],
      "metadata": {
        "id": "7W_jLEXMbILc"
      }
    },
    {
      "cell_type": "code",
      "source": [],
      "metadata": {
        "id": "8vqNirIibJN_"
      },
      "execution_count": null,
      "outputs": []
    },
    {
      "cell_type": "markdown",
      "source": [
        "10. Make a French-to-English dictionary called f2e from e2f. Use the items method.\n",
        "\n",
        "Sure! We can create a French-to-English dictionary called `f2e` from the existing `e2f` dictionary using the `items()` method. The `items()` method returns a list of tuples, where each tuple contains a key-value pair from the dictionary.\n",
        "\n",
        "Here's how you can do it:\n",
        "\n",
        "```python\n",
        "e2f = {\n",
        "    'dog': 'chien',\n",
        "    'cat': 'chat',\n",
        "    'walrus': 'morse'\n",
        "}\n",
        "\n",
        "# Create the French-to-English dictionary (f2e) from e2f using items() method\n",
        "f2e = {value: key for key, value in e2f.items()}\n",
        "\n",
        "print(f2e)\n",
        "```\n",
        "\n",
        "The output will be:\n",
        "\n",
        "```\n",
        "{'chien': 'dog', 'chat': 'cat', 'morse': 'walrus'}\n",
        "```\n",
        "\n",
        "Now, the `f2e` dictionary maps the French words to their corresponding English translations."
      ],
      "metadata": {
        "id": "bXzbfq32bO-y"
      }
    },
    {
      "cell_type": "code",
      "source": [],
      "metadata": {
        "id": "0dcC1YHPbVV9"
      },
      "execution_count": null,
      "outputs": []
    },
    {
      "cell_type": "markdown",
      "source": [
        "To print the English version of the French word \"chien\" using the `f2e` dictionary, you can access the value associated with the key `'chien'` in the `f2e` dictionary. Here's how you can do it:\n",
        "\n",
        "```python\n",
        "e2f = {\n",
        "    'dog': 'chien',\n",
        "    'cat': 'chat',\n",
        "    'walrus': 'morse'\n",
        "}\n",
        "\n",
        "f2e = {value: key for key, value in e2f.items()}\n",
        "\n",
        "french_word = 'chien'\n",
        "english_word = f2e[french_word]\n",
        "\n",
        "print(english_word)\n",
        "```\n",
        "\n",
        "The output will be:\n",
        "\n",
        "```\n",
        "dog\n",
        "```\n",
        "\n",
        "So, the English version of the French word \"chien\" is \"dog.\""
      ],
      "metadata": {
        "id": "h1JC-YA-bbzy"
      }
    },
    {
      "cell_type": "code",
      "source": [],
      "metadata": {
        "id": "sRNL7dvIbcgL"
      },
      "execution_count": null,
      "outputs": []
    },
    {
      "cell_type": "markdown",
      "source": [
        "To create a set of English words from the keys in the `e2f` dictionary, you can use the `set()` function, passing in the `keys()` method of the dictionary. Here's how you can do it:\n",
        "\n",
        "```python\n",
        "e2f = {\n",
        "    'dog': 'chien',\n",
        "    'cat': 'chat',\n",
        "    'walrus': 'morse'\n",
        "}\n",
        "\n",
        "english_words = set(e2f.keys())\n",
        "\n",
        "print(english_words)\n",
        "```\n",
        "\n",
        "The output will be:\n",
        "\n",
        "```\n",
        "{'dog', 'cat', 'walrus'}\n",
        "```\n",
        "\n",
        "This set contains the English words 'dog', 'cat', and 'walrus', which are the keys in the `e2f` dictionary."
      ],
      "metadata": {
        "id": "w1FEQKcLbkiO"
      }
    },
    {
      "cell_type": "code",
      "source": [],
      "metadata": {
        "id": "bz9R2r2_blIF"
      },
      "execution_count": null,
      "outputs": []
    },
    {
      "cell_type": "markdown",
      "source": [
        "Make a multilevel dictionary called life. Use these strings for the topmost keys: &#39;animals&#39;, &#39;plants&#39;,\n",
        "and &#39;other&#39;. Make the &#39;animals&#39; key refer to another dictionary with the keys &#39;cats&#39;, &#39;octopi&#39;, and\n",
        "&#39;emus&#39;. Make the &#39;cats&#39; key refer to a list of strings with the values &#39;Henri&#39;, &#39;Grumpy&#39;, and &#39;Lucy&#39;.\n",
        "Make all the other keys refer to empty dictionaries."
      ],
      "metadata": {
        "id": "CEmO3tw5bpFQ"
      }
    },
    {
      "cell_type": "markdown",
      "source": [
        "Sure! Here's the multilevel dictionary called `life` with the specified structure:\n",
        "\n",
        "```python\n",
        "life = {\n",
        "    'animals': {\n",
        "        'cats': ['Henri', 'Grumpy', 'Lucy'],\n",
        "        'octopi': {},\n",
        "        'emus': {}\n",
        "    },\n",
        "    'plants': {},\n",
        "    'other': {}\n",
        "}\n",
        "\n",
        "print(life)\n",
        "```\n",
        "\n",
        "The `life` dictionary is structured as follows:\n",
        "\n",
        "1. The topmost keys are `'animals'`, `'plants'`, and `'other'`.\n",
        "2. The `'animals'` key refers to another dictionary with keys `'cats'`, `'octopi'`, and `'emus'`.\n",
        "3. The `'cats'` key refers to a list of strings with the values `'Henri'`, `'Grumpy'`, and `'Lucy'`.\n",
        "4. The rest of the keys (`'octopi'`, `'emus'`, `'plants'`, and `'other'`) refer to empty dictionaries.\n",
        "\n",
        "When you print the `life` dictionary, it will display the entire structure:\n",
        "\n",
        "```\n",
        "{\n",
        "    'animals': {'cats': ['Henri', 'Grumpy', 'Lucy'], 'octopi': {}, 'emus': {}},\n",
        "    'plants': {},\n",
        "    'other': {}\n",
        "}\n",
        "```"
      ],
      "metadata": {
        "id": "a0fIeP_Mbu7R"
      }
    },
    {
      "cell_type": "code",
      "source": [],
      "metadata": {
        "id": "JhC4-BL2bpoV"
      },
      "execution_count": null,
      "outputs": []
    },
    {
      "cell_type": "markdown",
      "source": [
        "Sure! Let's print the top-level keys of `life`, the keys for `life['animals']`, and the values for `life['animals']['cats']`.\n",
        "\n",
        "```python\n",
        "life = {\n",
        "    'animals': {\n",
        "        'cats': ['Henri', 'Grumpy', 'Lucy'],\n",
        "        'octopi': {},\n",
        "        'emus': {}\n",
        "    },\n",
        "    'plants': {},\n",
        "    'other': {}\n",
        "}\n",
        "\n",
        "# Print the top-level keys of life\n",
        "top_level_keys = life.keys()\n",
        "print(\"Top-level keys of life:\", top_level_keys)\n",
        "\n",
        "# Print the keys for life['animals']\n",
        "animals_keys = life['animals'].keys()\n",
        "print(\"Keys for life['animals']:\", animals_keys)\n",
        "\n",
        "# Print the values for life['animals']['cats']\n",
        "cats_values = life['animals']['cats']\n",
        "print(\"Values for life['animals']['cats']:\", cats_values)\n",
        "```\n",
        "\n",
        "Output:\n",
        "\n",
        "```\n",
        "Top-level keys of life: dict_keys(['animals', 'plants', 'other'])\n",
        "Keys for life['animals']: dict_keys(['cats', 'octopi', 'emus'])\n",
        "Values for life['animals']['cats']: ['Henri', 'Grumpy', 'Lucy']\n",
        "```\n",
        "\n",
        "- The top-level keys of `life` are `'animals'`, `'plants'`, and `'other'`.\n",
        "- The keys for `life['animals']` are `'cats'`, `'octopi'`, and `'emus'`.\n",
        "- The values for `life['animals']['cats']` are the list `['Henri', 'Grumpy', 'Lucy']`."
      ],
      "metadata": {
        "id": "7FBhoWhvb4--"
      }
    },
    {
      "cell_type": "code",
      "source": [],
      "metadata": {
        "id": "HqRLAc4fb6bb"
      },
      "execution_count": null,
      "outputs": []
    }
  ]
}