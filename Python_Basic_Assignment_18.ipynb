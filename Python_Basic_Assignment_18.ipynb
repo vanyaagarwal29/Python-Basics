{
  "nbformat": 4,
  "nbformat_minor": 0,
  "metadata": {
    "colab": {
      "provenance": [],
      "authorship_tag": "ABX9TyML0U8nbsunkZ4/28HhnIBy",
      "include_colab_link": true
    },
    "kernelspec": {
      "name": "python3",
      "display_name": "Python 3"
    },
    "language_info": {
      "name": "python"
    }
  },
  "cells": [
    {
      "cell_type": "markdown",
      "metadata": {
        "id": "view-in-github",
        "colab_type": "text"
      },
      "source": [
        "<a href=\"https://colab.research.google.com/github/vanyaagarwal29/Python-Basics/blob/main/Python_Basic_Assignment_18.ipynb\" target=\"_parent\"><img src=\"https://colab.research.google.com/assets/colab-badge.svg\" alt=\"Open In Colab\"/></a>"
      ]
    },
    {
      "cell_type": "markdown",
      "source": [
        "1. Create a zoo.py file first. Define the hours() function, which prints the string &#39;Open 9-5 daily&#39;.\n",
        "Then, use the interactive interpreter to import the zoo module and call its hours() function.\n",
        "2. In the interactive interpreter, import the zoo module as menagerie and call its hours() function.\n",
        "3. Using the interpreter, explicitly import and call the hours() function from zoo.\n",
        "4. Import the hours() function as info and call it.\n",
        "5. Create a plain dictionary with the key-value pairs &#39;a&#39;: 1, &#39;b&#39;: 2, and &#39;c&#39;: 3, and print it out.\n",
        "6.Make an OrderedDict called fancy from the same pairs listed in 5 and print it. Did it print in the\n",
        "same order as plain?\n",
        "7. Make a default dictionary called dict_of_lists and pass it the argument list. Make the list\n",
        "dict_of_lists[&#39;a&#39;] and append the value &#39;something for a&#39; to it in one assignment. Print\n",
        "dict_of_lists[&#39;a&#39;]."
      ],
      "metadata": {
        "id": "R_1wexWatsUn"
      }
    },
    {
      "cell_type": "code",
      "execution_count": null,
      "metadata": {
        "id": "p72-sS2NrvI9"
      },
      "outputs": [],
      "source": []
    },
    {
      "cell_type": "markdown",
      "source": [
        "To complete these tasks, we'll go through each step:\n",
        "\n",
        "1. Create a `zoo.py` file with the `hours()` function:\n",
        "\n",
        "Create a file named `zoo.py` and add the following content to it:\n",
        "\n",
        "```python\n",
        "# zoo.py\n",
        "\n",
        "def hours():\n",
        "    print('Open 9-5 daily')\n",
        "```\n",
        "\n",
        "2. Import and call the `hours()` function in the interactive interpreter:\n",
        "\n",
        "Open the Python interactive interpreter and execute the following:\n",
        "\n",
        "```python\n",
        ">>> import zoo\n",
        ">>> zoo.hours()\n",
        "Open 9-5 daily\n",
        "```\n",
        "\n",
        "3. Import the `zoo` module as `menagerie` and call the `hours()` function:\n",
        "\n",
        "In the interactive interpreter, execute the following:\n",
        "\n",
        "```python\n",
        ">>> import zoo as menagerie\n",
        ">>> menagerie.hours()\n",
        "Open 9-5 daily\n",
        "```\n",
        "\n",
        "4. Explicitly import and call the `hours()` function from `zoo`:\n",
        "\n",
        "In the interactive interpreter, execute the following:\n",
        "\n",
        "```python\n",
        ">>> from zoo import hours\n",
        ">>> hours()\n",
        "Open 9-5 daily\n",
        "```\n",
        "\n",
        "5. Import the `hours()` function as `info` and call it:\n",
        "\n",
        "In the interactive interpreter, execute the following:\n",
        "\n",
        "```python\n",
        ">>> from zoo import hours as info\n",
        ">>> info()\n",
        "Open 9-5 daily\n",
        "```\n",
        "\n",
        "6. Create a plain dictionary and print it:\n",
        "\n",
        "In the interactive interpreter, execute the following:\n",
        "\n",
        "```python\n",
        ">>> plain = {'a': 1, 'b': 2, 'c': 3}\n",
        ">>> print(plain)\n",
        "{'a': 1, 'b': 2, 'c': 3}\n",
        "```\n",
        "\n",
        "7. Make an OrderedDict called `fancy` and print it:\n",
        "\n",
        "In the interactive interpreter, execute the following:\n",
        "\n",
        "```python\n",
        ">>> from collections import OrderedDict\n",
        ">>> fancy = OrderedDict([('a', 1), ('b', 2), ('c', 3)])\n",
        ">>> print(fancy)\n",
        "OrderedDict([('a', 1), ('b', 2), ('c', 3)])\n",
        "```\n",
        "\n",
        "The `OrderedDict` will print the key-value pairs in the same order as they were inserted, which is the same order as the plain dictionary."
      ],
      "metadata": {
        "id": "oub6JdNstvhc"
      }
    },
    {
      "cell_type": "code",
      "source": [],
      "metadata": {
        "id": "AQbXVjIftwDW"
      },
      "execution_count": null,
      "outputs": []
    }
  ]
}