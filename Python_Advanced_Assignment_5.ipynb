{
  "nbformat": 4,
  "nbformat_minor": 0,
  "metadata": {
    "colab": {
      "provenance": [],
      "authorship_tag": "ABX9TyPLctWGgXBiGNE4DJmiV3BJ",
      "include_colab_link": true
    },
    "kernelspec": {
      "name": "python3",
      "display_name": "Python 3"
    },
    "language_info": {
      "name": "python"
    }
  },
  "cells": [
    {
      "cell_type": "markdown",
      "metadata": {
        "id": "view-in-github",
        "colab_type": "text"
      },
      "source": [
        "<a href=\"https://colab.research.google.com/github/vanyaagarwal29/Python-Basics/blob/main/Python_Advanced_Assignment_5.ipynb\" target=\"_parent\"><img src=\"https://colab.research.google.com/assets/colab-badge.svg\" alt=\"Open In Colab\"/></a>"
      ]
    },
    {
      "cell_type": "markdown",
      "source": [
        "What is the meaning of multiple inheritance?\n",
        "\n",
        "Multiple inheritance is a feature in object-oriented programming languages that allows a class to inherit from multiple base classes. In other words, a class can derive characteristics and behaviors from more than one parent class.\n",
        "\n",
        "In a multiple inheritance scenario, a class can inherit attributes, methods, and other members from multiple parent classes. This enables the derived class to have a combination of features and functionalities from all its parent classes.\n",
        "\n",
        "The concept of multiple inheritance can be illustrated with an example:"
      ],
      "metadata": {
        "id": "zBYVnSuSN0ga"
      }
    },
    {
      "cell_type": "code",
      "source": [
        "class BaseClass1:\n",
        "    def method1(self):\n",
        "        print(\"Method 1 from BaseClass1\")\n",
        "\n",
        "class BaseClass2:\n",
        "    def method2(self):\n",
        "        print(\"Method 2 from BaseClass2\")\n",
        "\n",
        "class DerivedClass(BaseClass1, BaseClass2):\n",
        "    def method3(self):\n",
        "        print(\"Method 3 from DerivedClass\")\n",
        "\n",
        "# Creating an instance of the derived class\n",
        "obj = DerivedClass()\n",
        "\n",
        "# Accessing methods from BaseClass1\n",
        "obj.method1()\n",
        "\n",
        "# Accessing methods from BaseClass2\n",
        "obj.method2()\n",
        "\n",
        "# Accessing methods from DerivedClass\n",
        "obj.method3()\n"
      ],
      "metadata": {
        "colab": {
          "base_uri": "https://localhost:8080/"
        },
        "id": "HA42_qe9N4gx",
        "outputId": "61e0697c-5b69-49a0-a45e-c2efc964664c"
      },
      "execution_count": null,
      "outputs": [
        {
          "output_type": "stream",
          "name": "stdout",
          "text": [
            "Method 1 from BaseClass1\n",
            "Method 2 from BaseClass2\n",
            "Method 3 from DerivedClass\n"
          ]
        }
      ]
    },
    {
      "cell_type": "markdown",
      "source": [
        "In the example above, DerivedClass is derived from both BaseClass1 and BaseClass2 using multiple inheritance. As a result, the DerivedClass instance obj can access methods from both BaseClass1 and BaseClass2, as well as its own methods.\n",
        "\n",
        "Multiple inheritance can be a powerful mechanism for code reuse and structuring complex class hierarchies. However, it can also introduce challenges such as potential conflicts between inherited members with the same name or difficulties in understanding the class hierarchy. Proper design and careful handling of multiple inheritance are important to avoid such issues."
      ],
      "metadata": {
        "id": "dyv6-Du8N9fv"
      }
    },
    {
      "cell_type": "code",
      "source": [],
      "metadata": {
        "id": "l8ZNqPkfN5AO"
      },
      "execution_count": null,
      "outputs": []
    },
    {
      "cell_type": "markdown",
      "source": [
        "What is the concept of delegation?\n",
        "\n",
        "Delegation is a design pattern and concept in object-oriented programming where an object delegates a specific task or responsibility to another object, rather than performing the task itself. In delegation, an object forwards or delegates a method call to another object that specializes in handling that particular task.\n",
        "\n",
        "The key idea behind delegation is to promote code reuse and maintainability by dividing responsibilities among different objects. Instead of a single object trying to do everything, it delegates specific tasks to other objects that are better suited to handle them.\n",
        "\n",
        "Here's a simplified example to illustrate delegation:\n",
        "\n"
      ],
      "metadata": {
        "id": "sLIR448rPOQF"
      }
    },
    {
      "cell_type": "code",
      "source": [
        "class Printer:\n",
        "    def print_document(self, document):\n",
        "        print(\"Printing document:\", document)\n",
        "\n",
        "class Office:\n",
        "    def __init__(self):\n",
        "        self.printer = Printer()\n",
        "\n",
        "    def print_office_document(self, document):\n",
        "        self.printer.print_document(document)\n",
        "\n",
        "# Creating an instance of the Office class\n",
        "office = Office()\n",
        "\n",
        "# Delegating the printing task to the Printer object\n",
        "office.print_office_document(\"Report.pdf\")\n"
      ],
      "metadata": {
        "colab": {
          "base_uri": "https://localhost:8080/"
        },
        "id": "6mZwz4nPPQH4",
        "outputId": "98513ef4-9bc0-4557-f4e4-a80aeca1b121"
      },
      "execution_count": null,
      "outputs": [
        {
          "output_type": "stream",
          "name": "stdout",
          "text": [
            "Printing document: Report.pdf\n"
          ]
        }
      ]
    },
    {
      "cell_type": "markdown",
      "source": [
        "In the example above, the Office class has a Printer object as a member. When the print_office_document method is called on the Office object, it delegates the actual printing task to the Printer object by invoking its print_document method. The Printer object specializes in printing documents, while the Office object focuses on its own responsibilities.\n",
        "\n",
        "Delegation allows for loose coupling between objects, as the delegating object doesn't need to know the specific implementation details of the delegate. It also enables better separation of concerns and modular design, as different objects can be responsible for different tasks.\n",
        "\n",
        "By utilizing delegation, you can create more flexible and maintainable code by breaking down complex tasks into smaller, specialized objects, each handling a specific responsibility."
      ],
      "metadata": {
        "id": "MF6ubmOtPVv2"
      }
    },
    {
      "cell_type": "code",
      "source": [],
      "metadata": {
        "id": "nfbcP17lPSHN"
      },
      "execution_count": null,
      "outputs": []
    },
    {
      "cell_type": "markdown",
      "source": [
        "What is the concept of composition?\n",
        "\n",
        "Composition is a design principle in object-oriented programming where a class is composed of one or more objects of other classes, forming a part-whole relationship. In composition, an object is made up of other objects, and the composed objects are responsible for the behavior and state of the containing object.\n",
        "\n",
        "Unlike inheritance, where a class derives characteristics from a parent class, composition focuses on combining objects to create more complex structures and behaviors. It allows for building complex objects by assembling simpler objects together.\n",
        "\n",
        "Here's an example to illustrate composition:"
      ],
      "metadata": {
        "id": "9Im-N9lxPkQU"
      }
    },
    {
      "cell_type": "code",
      "source": [
        "class Engine:\n",
        "    def start(self):\n",
        "        print(\"Engine started\")\n",
        "\n",
        "    def stop(self):\n",
        "        print(\"Engine stopped\")\n",
        "\n",
        "class Car:\n",
        "    def __init__(self):\n",
        "        self.engine = Engine()\n",
        "\n",
        "    def start(self):\n",
        "        print(\"Starting the car\")\n",
        "        self.engine.start()\n",
        "\n",
        "    def stop(self):\n",
        "        print(\"Stopping the car\")\n",
        "        self.engine.stop()\n",
        "\n",
        "# Creating an instance of the Car class\n",
        "car = Car()\n",
        "\n",
        "# Calling methods on the Car object\n",
        "car.start()\n",
        "car.stop()\n"
      ],
      "metadata": {
        "colab": {
          "base_uri": "https://localhost:8080/"
        },
        "id": "BXoJiTkxQSa2",
        "outputId": "fb9efdf1-737a-48af-fd23-71df8816a050"
      },
      "execution_count": null,
      "outputs": [
        {
          "output_type": "stream",
          "name": "stdout",
          "text": [
            "Starting the car\n",
            "Engine started\n",
            "Stopping the car\n",
            "Engine stopped\n"
          ]
        }
      ]
    },
    {
      "cell_type": "markdown",
      "source": [
        "In the example above, the Car class is composed of an Engine object. The Car class has an instance variable engine of type Engine. The Car class delegates the responsibility of starting and stopping the engine to the composed Engine object.\n",
        "\n",
        "Composition allows the Car class to encapsulate the behavior of the engine within itself, without being tightly coupled to the implementation details of the Engine class. The Car class can use the functionalities provided by the Engine class by delegating the appropriate tasks to it.\n",
        "\n",
        "Composition promotes code reusability, modularity, and flexibility. It enables the creation of complex objects by combining simpler objects in various ways. It also allows for easy modification and extension, as changes to the composed objects do not affect the structure or behavior of the containing object."
      ],
      "metadata": {
        "id": "P9EzCfFkQjyy"
      }
    },
    {
      "cell_type": "code",
      "source": [],
      "metadata": {
        "id": "nhb8guVpQXrW"
      },
      "execution_count": null,
      "outputs": []
    },
    {
      "cell_type": "markdown",
      "source": [
        "\n",
        "What are bound methods and how do we use them?\n",
        "\n",
        "\n",
        "In Python, a bound method is a method that is associated with an instance of a class. When you access a method of an object, it is automatically bound to that object. Bound methods have access to the object's attributes and can operate on its data.\n",
        "\n",
        "To define a method within a class, you typically use the self parameter as the first parameter of the method. This self parameter represents the instance of the class itself, and it is automatically passed when you call a method on an object. This binding of the method to the object is what creates a bound method.\n",
        "\n",
        "Here's an example to demonstrate the concept of bound methods:"
      ],
      "metadata": {
        "id": "lYmPEztqRsej"
      }
    },
    {
      "cell_type": "code",
      "source": [
        "class MyClass:\n",
        "    def __init__(self, value):\n",
        "        self.value = value\n",
        "\n",
        "    def print_value(self):\n",
        "        print(self.value)\n",
        "\n",
        "# Creating an instance of the MyClass\n",
        "obj = MyClass(42)\n",
        "\n",
        "# Calling the bound method\n",
        "obj.print_value()\n"
      ],
      "metadata": {
        "colab": {
          "base_uri": "https://localhost:8080/"
        },
        "id": "ZdCHltuiRvEt",
        "outputId": "a33a17e4-c5b8-4575-c890-31eda6d54326"
      },
      "execution_count": null,
      "outputs": [
        {
          "output_type": "stream",
          "name": "stdout",
          "text": [
            "42\n"
          ]
        }
      ]
    },
    {
      "cell_type": "markdown",
      "source": [
        "In the example above, the MyClass has a method called print_value that takes no arguments, but it has the self parameter. When we create an instance of MyClass with obj = MyClass(42), the print_value method becomes a bound method associated with the obj instance.\n",
        "\n",
        "When we call obj.print_value(), the print_value method is automatically passed the self parameter as the instance obj. Inside the method, we can access the value attribute of obj using self.value and print its value.\n",
        "\n",
        "Bound methods are used extensively in object-oriented programming to perform operations on object data and manipulate their attributes. They encapsulate the behavior of an object and allow us to interact with it through method calls. By leveraging bound methods, we can achieve encapsulation, data hiding, and code reusability in our classes."
      ],
      "metadata": {
        "id": "MPoYTf-AR0KP"
      }
    },
    {
      "cell_type": "code",
      "source": [],
      "metadata": {
        "id": "pDbsJxrnRxGl"
      },
      "execution_count": null,
      "outputs": []
    },
    {
      "cell_type": "markdown",
      "source": [
        "What is the purpose of pseudoprivate attributes?\n",
        "\n",
        "Pseudoprivate attributes, also known as name mangling or \"private name mangling,\" are a feature in Python that allows class attributes to have a modified name to make them harder to access from outside the class. The purpose of pseudoprivate attributes is to provide a level of data encapsulation and to prevent accidental or unauthorized access to internal attributes of a class.\n",
        "\n",
        "In Python, pseudoprivate attributes are created by prefixing an attribute name with two underscores (__) but not ending the name with more underscores. For example, an attribute named __private_attr would become _ClassName__private_attr, where ClassName is the name of the class to which the attribute belongs. This modification is performed by the Python interpreter during name resolution."
      ],
      "metadata": {
        "id": "2HPQMlBenkMr"
      }
    },
    {
      "cell_type": "code",
      "source": [],
      "metadata": {
        "id": "l1pI7SDCnlgC"
      },
      "execution_count": null,
      "outputs": []
    }
  ]
}