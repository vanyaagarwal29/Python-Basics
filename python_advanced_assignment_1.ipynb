{
  "nbformat": 4,
  "nbformat_minor": 0,
  "metadata": {
    "colab": {
      "provenance": [],
      "authorship_tag": "ABX9TyOXj4+Q+lOTukHI4XrldvFb",
      "include_colab_link": true
    },
    "kernelspec": {
      "name": "python3",
      "display_name": "Python 3"
    },
    "language_info": {
      "name": "python"
    }
  },
  "cells": [
    {
      "cell_type": "markdown",
      "metadata": {
        "id": "view-in-github",
        "colab_type": "text"
      },
      "source": [
        "<a href=\"https://colab.research.google.com/github/vanyaagarwal29/Python-Basics/blob/main/python_advanced_assignment_1.ipynb\" target=\"_parent\"><img src=\"https://colab.research.google.com/assets/colab-badge.svg\" alt=\"Open In Colab\"/></a>"
      ]
    },
    {
      "cell_type": "code",
      "execution_count": null,
      "metadata": {
        "id": "DwGts0fYBX7Q"
      },
      "outputs": [],
      "source": []
    },
    {
      "cell_type": "markdown",
      "source": [
        "What is the purpose of Python&#39;s OOP?\n",
        "\n",
        "The purpose of Python's Object-Oriented Programming (OOP) is to provide a programming paradigm that allows for the organization and structuring of code based on objects. OOP helps in designing and building complex applications by representing real-world entities and their interactions.\n",
        "\n",
        "Here are some key purposes and benefits of Python's OOP:\n",
        "\n",
        "Modularity and code organization: OOP allows you to break down your code into reusable, self-contained modules called classes. Each class represents a blueprint for creating objects with specific attributes (data) and behaviors (methods). This modular approach enhances code organization and maintainability.\n",
        "\n",
        "Encapsulation: OOP promotes encapsulation, which means bundling data and methods together within a class. The data (attributes) of a class are hidden from external access and can only be manipulated through the class's methods. Encapsulation helps in hiding implementation details, reducing dependencies, and improving data integrity.\n",
        "\n",
        "Inheritance and code reuse: Inheritance allows you to create new classes (derived classes) based on existing classes (base or parent classes). Derived classes inherit the attributes and methods of their parent classes, enabling code reuse and promoting the concept of \"is-a\" relationships. Inheritance helps in creating specialized classes while maintaining common functionality.\n",
        "\n",
        "Polymorphism: Polymorphism allows objects of different classes to be treated as objects of a common base class. This means that different objects can respond to the same method call in different ways, depending on their specific class implementation. Polymorphism promotes flexibility, extensibility, and code reusability by allowing interchangeable usage of objects.\n",
        "\n",
        "Abstraction: Abstraction is the process of simplifying complex systems by focusing on essential aspects and hiding unnecessary details. OOP supports abstraction by allowing you to create abstract classes and methods that define a common interface without providing implementation details. Abstract classes serve as a blueprint for other classes, and their methods must be implemented by the derived classes.\n",
        "\n",
        "Overall, Python's OOP provides a powerful set of tools and concepts for structuring, organizing, and designing code. It helps in creating modular, reusable, and maintainable applications by representing real-world entities and their relationships in an intuitive and structured manner."
      ],
      "metadata": {
        "id": "NR4ndjaaBhwb"
      }
    },
    {
      "cell_type": "code",
      "source": [],
      "metadata": {
        "id": "VJ_U9oQBFNZh"
      },
      "execution_count": null,
      "outputs": []
    },
    {
      "cell_type": "markdown",
      "source": [
        "Where does an inheritance search look for an attribute?\n",
        "\n",
        "An inheritance search looks for an attribute first in the instance object, then in the class the instance was created from, then in all higher superclasses, progressing from left to right (by default). The search stops at the first place the attribute is found."
      ],
      "metadata": {
        "id": "30yzjXCOFPIf"
      }
    },
    {
      "cell_type": "code",
      "source": [],
      "metadata": {
        "id": "4e6d3jrwGPuc"
      },
      "execution_count": null,
      "outputs": []
    },
    {
      "cell_type": "markdown",
      "source": [
        "In Python, you can distinguish between a class object and an instance object by understanding their definitions and their usage in the code.\n",
        "\n",
        "Class object:\n",
        "\n",
        "Definition: A class object is an instance of a class. It is created when the class is defined in the code. It serves as a blueprint or template for creating multiple instance objects.\n",
        "Usage: The class object is used to define the structure, attributes, and methods that will be shared by all the instance objects created from that class. It defines the common behavior and characteristics of the instances.\n",
        "Instance object:\n",
        "\n",
        "Definition: An instance object is created from a class object. It represents a specific occurrence or instance of the class. Each instance has its own unique set of attributes and may exhibit different behaviors based on how its methods are implemented.\n",
        "Usage: Instance objects are created when you instantiate a class using the class name followed by parentheses. Each instance can have its own unique state and can be manipulated independently. Instance objects are used to perform specific operations, store specific data, and interact with other objects."
      ],
      "metadata": {
        "id": "C8MTeOepGQeG"
      }
    },
    {
      "cell_type": "code",
      "source": [
        "class Car:\n",
        "    def __init__(self, brand, color):\n",
        "        self.brand = brand\n",
        "        self.color = color\n",
        "\n",
        "    def start_engine(self):\n",
        "        print(f\"The {self.brand} car with color {self.color} has started.\")\n",
        "\n",
        "# Class object\n",
        "print(Car)  # Output: <class '__main__.Car'>\n",
        "\n",
        "# Instance objects\n",
        "car1 = Car(\"Toyota\", \"Blue\")\n",
        "car2 = Car(\"Honda\", \"Red\")\n",
        "\n",
        "print(car1)  # Output: <__main__.Car object at 0x000001>\n",
        "print(car2)  # Output: <__main__.Car object at 0x000002>\n",
        "\n",
        "car1.start_engine()  # Output: The Toyota car with color Blue has started.\n",
        "car2.start_engine()  # Output: The Honda car with color Red has started.\n"
      ],
      "metadata": {
        "colab": {
          "base_uri": "https://localhost:8080/"
        },
        "id": "GlreVQwaIDQl",
        "outputId": "7d18c4bd-fd87-4a9d-e443-685703ef927b"
      },
      "execution_count": 1,
      "outputs": [
        {
          "output_type": "stream",
          "name": "stdout",
          "text": [
            "<class '__main__.Car'>\n",
            "<__main__.Car object at 0x7cea8a88ec80>\n",
            "<__main__.Car object at 0x7cea8a88e410>\n",
            "The Toyota car with color Blue has started.\n",
            "The Honda car with color Red has started.\n"
          ]
        }
      ]
    },
    {
      "cell_type": "markdown",
      "source": [
        "n the example above, Car is the class object, created when the class Car block is defined. car1 and car2 are instance objects, created by instantiating the Car class using the Car() constructor. Each instance has its own set of attributes (brand and color) and can invoke methods (like start_engine()) defined in the class.\n",
        "\n",
        "In summary, the class object represents the class itself, while instance objects are specific instances created from that class."
      ],
      "metadata": {
        "id": "YHbicfbsILDH"
      }
    },
    {
      "cell_type": "code",
      "source": [],
      "metadata": {
        "id": "QIiHSgMTIG6J"
      },
      "execution_count": null,
      "outputs": []
    },
    {
      "cell_type": "markdown",
      "source": [
        "What makes the first argument in a class’s method function special?\n",
        "\n",
        "In Python, the first argument in a class's method function is conventionally named self, although you can use any valid variable name. The self argument is a reference to the instance of the class on which the method is called. It is a way for the instance to refer to itself within the method.\n",
        "\n",
        "The self argument is special because it allows instance methods to access and manipulate the attributes and other methods of the object to which they belong. It acts as a placeholder for the instance itself and provides a way to interact with the instance's state.\n",
        "\n",
        "When a method is called on an instance, the instance is automatically passed as the first argument to the method."
      ],
      "metadata": {
        "id": "kIcUCtu1IbIg"
      }
    },
    {
      "cell_type": "code",
      "source": [
        "class MyClass:\n",
        "    def my_method(self):\n",
        "        print(\"Hello, I'm an instance method!\")\n",
        "\n",
        "# Creating an instance\n",
        "my_instance = MyClass()\n",
        "\n",
        "# Calling the instance method\n",
        "my_instance.my_method()\n"
      ],
      "metadata": {
        "colab": {
          "base_uri": "https://localhost:8080/"
        },
        "id": "uwLBqB9iKwik",
        "outputId": "e174f0b5-dea6-4221-8e5d-274c52ac59c3"
      },
      "execution_count": 2,
      "outputs": [
        {
          "output_type": "stream",
          "name": "stdout",
          "text": [
            "Hello, I'm an instance method!\n"
          ]
        }
      ]
    },
    {
      "cell_type": "markdown",
      "source": [
        "In the above example, my_method() is an instance method defined within the MyClass class. When we call my_instance.my_method(), the my_instance object is automatically passed as the self argument to the method. This allows the method to access and manipulate the attributes and other methods of my_instance.\n",
        "\n",
        "By convention, the first parameter in an instance method should always be named self. However, it's important to note that self is just a naming convention and can technically be named differently. However, using self is strongly recommended to adhere to standard Python conventions and make your code more readable and understandable to other developers.\n",
        "\n",
        "It's worth mentioning that the self parameter is specific to instance methods. Class methods use cls as the first argument, representing the class itself, and static methods do not have any special first argument."
      ],
      "metadata": {
        "id": "Ygx76s0vK74f"
      }
    },
    {
      "cell_type": "code",
      "source": [],
      "metadata": {
        "id": "AmebXDlBK0g6"
      },
      "execution_count": null,
      "outputs": []
    },
    {
      "cell_type": "markdown",
      "source": [
        "The __init__ method in Python is a special method, also known as a constructor, that is automatically called when an object is created from a class. It is used to initialize the attributes and perform any setup actions that are required for the object to be in a valid state.\n",
        "\n",
        "The primary purposes of the __init__ method are:\n",
        "\n",
        "Initializing object attributes: The __init__ method allows you to define and initialize the attributes of an object. Within the __init__ method, you can assign values to the object's attributes, which will determine the initial state of the object when it is created. This helps ensure that the object starts with the desired values and is ready for use.\n",
        "\n",
        "Accepting arguments during object creation: The __init__ method accepts arguments that can be provided when creating an object. These arguments are passed when the class is instantiated using the class name followed by parentheses, similar to a function call. The __init__ method's arguments can be used to initialize the object's attributes based on the provided values.\n",
        "\n",
        "Performing setup actions: The __init__ method can include additional setup actions or computations that need to be performed when an object is created. This can include tasks such as opening files or establishing connections to databases, setting up default values, or performing any other necessary actions to prepare the object for use."
      ],
      "metadata": {
        "id": "2JI2yPjsL0K3"
      }
    },
    {
      "cell_type": "code",
      "source": [
        "class Person:\n",
        "    def __init__(self, name, age):\n",
        "        self.name = name\n",
        "        self.age = age\n",
        "\n",
        "    def greet(self):\n",
        "        print(f\"Hello, my name is {self.name} and I'm {self.age} years old.\")\n",
        "\n",
        "# Creating a Person object\n",
        "person = Person(\"Alice\", 25)\n",
        "\n",
        "# Accessing attributes and invoking methods\n",
        "print(person.name)  # Output: Alice\n",
        "print(person.age)   # Output: 25\n",
        "person.greet()      # Output: Hello, my name is Alice and I'm 25 years old.\n"
      ],
      "metadata": {
        "colab": {
          "base_uri": "https://localhost:8080/"
        },
        "id": "bG3RYLWBL5wB",
        "outputId": "893f0d7a-2f42-48d8-a8ad-994629b9a11b"
      },
      "execution_count": 3,
      "outputs": [
        {
          "output_type": "stream",
          "name": "stdout",
          "text": [
            "Alice\n",
            "25\n",
            "Hello, my name is Alice and I'm 25 years old.\n"
          ]
        }
      ]
    },
    {
      "cell_type": "markdown",
      "source": [
        "n the example above, the __init__ method is used to initialize the name and age attributes of the Person class. When a Person object is created (person = Person(\"Alice\", 25)), the __init__ method is automatically called with the provided arguments (name=\"Alice\" and age=25). The self.name and self.age statements within the __init__ method assign the provided values to the corresponding object attributes.\n",
        "\n",
        "The __init__ method sets up the initial state of the object and allows the object to be created with specific attribute values. It plays a fundamental role in the creation and initialization of objects from a class."
      ],
      "metadata": {
        "id": "nrGUUDx2L6_0"
      }
    },
    {
      "cell_type": "code",
      "source": [],
      "metadata": {
        "id": "pHBmDHJ9L7zZ"
      },
      "execution_count": null,
      "outputs": []
    },
    {
      "cell_type": "markdown",
      "source": [
        "What is the process for creating a class instance?\n",
        "\n",
        "The process for creating a class instance in Python involves the following steps:\n",
        "\n",
        "Class Definition: First, you need to define the class. The class serves as a blueprint or template for creating instances. It specifies the attributes and methods that the instances will have.\n",
        "\n",
        "Instantiation: To create an instance of a class, you need to call the class as if it were a function, passing any required arguments defined in the class's __init__ method. This process is called instantiation. It creates a new object of the class type.\n",
        "\n",
        "Memory Allocation: When an instance is created, Python allocates memory to store the instance and its attributes.\n",
        "\n",
        "__init__ Initialization: After memory allocation, Python automatically calls the __init__ method (constructor) of the class, passing the newly created instance as the first argument (self). The __init__ method initializes the attributes of the instance and performs any necessary setup actions.\n",
        "\n",
        "Instance Creation: Once the __init__ method completes, the instance is fully initialized and ready for use. It represents a specific occurrence or object of the class."
      ],
      "metadata": {
        "id": "7IEvBHdLMAli"
      }
    },
    {
      "cell_type": "markdown",
      "source": [
        "The process for creating a class in Python involves the following steps:\n",
        "\n",
        "Class Definition: To create a class, you need to define it using the class keyword followed by the class name. The class name should follow Python naming conventions (usually in CamelCase format). Inside the class block, you define the attributes and methods that the class will have.\n",
        "\n",
        "Attribute and Method Definitions: Within the class block, you can define attributes, which are variables associated with the class, and methods, which are functions defined within the class. Attributes represent the data or state of the class, while methods define the behavior and actions that the class can perform.\n",
        "\n",
        "Instantiation: Once the class is defined, you can create instances (objects) of the class. Instantiation is done by calling the class as if it were a function, optionally passing any required arguments defined in the class's __init__ method. This process creates a new object of the class type."
      ],
      "metadata": {
        "id": "pm98WN4oTyzi"
      }
    },
    {
      "cell_type": "markdown",
      "source": [
        "How would you define the superclasses of a class?"
      ],
      "metadata": {
        "id": "q9H0KuZKT6Xb"
      }
    },
    {
      "cell_type": "markdown",
      "source": [
        "To define the superclasses (also known as parent classes or base classes) of a class in Python, you include them in the class definition using parentheses after the class name. Each superclass is separated by a comma if there are multiple superclasses.\n",
        "\n",
        "The syntax for defining the superclasses of a class is as follows:"
      ],
      "metadata": {
        "id": "TjsJgTepT6Nz"
      }
    },
    {
      "cell_type": "code",
      "source": [
        "class Animal:\n",
        "    def eat(self):\n",
        "        print(\"The animal is eating.\")\n",
        "\n",
        "class Dog(Animal):\n",
        "    def bark(self):\n",
        "        print(\"The dog is barking.\")\n",
        "\n",
        "# Creating an instance of the Dog class\n",
        "my_dog = Dog()\n",
        "\n",
        "# Invoking methods from the superclass and subclass\n",
        "my_dog.eat()   # Output: The animal is eating.\n",
        "my_dog.bark()  # Output: The dog is barking."
      ],
      "metadata": {
        "colab": {
          "base_uri": "https://localhost:8080/"
        },
        "id": "koxUYjV4UL7y",
        "outputId": "6068282f-ef8c-4452-8ab3-ca2e8361b1be"
      },
      "execution_count": 4,
      "outputs": [
        {
          "output_type": "stream",
          "name": "stdout",
          "text": [
            "The animal is eating.\n",
            "The dog is barking.\n"
          ]
        }
      ]
    },
    {
      "cell_type": "markdown",
      "source": [
        "In the example above, the Animal class is defined with a method eat(). The Dog class is defined with the superclass Animal specified in parentheses after the class name. This means that Dog inherits from Animal and can access its attributes and methods.\n",
        "\n",
        "By defining the superclass relationship, the Dog class inherits the eat() method from the Animal class. This allows an instance of the Dog class to call both the inherited method (my_dog.eat()) and its own method (my_dog.bark()).\n",
        "\n",
        "Inheritance allows classes to acquire attributes and methods from their superclasses, enabling code reuse and promoting the concept of \"is-a\" relationships. By defining superclasses, you can establish a hierarchy of classes and create specialized classes that inherit common behavior from their parent classes."
      ],
      "metadata": {
        "id": "_2HRhsAWUSzf"
      }
    },
    {
      "cell_type": "code",
      "source": [],
      "metadata": {
        "id": "_0Z0rZ1yUTd_"
      },
      "execution_count": null,
      "outputs": []
    }
  ]
}