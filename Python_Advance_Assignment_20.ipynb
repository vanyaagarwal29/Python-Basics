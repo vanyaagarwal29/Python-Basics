{
  "nbformat": 4,
  "nbformat_minor": 0,
  "metadata": {
    "colab": {
      "provenance": [],
      "authorship_tag": "ABX9TyOim1EsKjQrjaNEvE/qKUMm",
      "include_colab_link": true
    },
    "kernelspec": {
      "name": "python3",
      "display_name": "Python 3"
    },
    "language_info": {
      "name": "python"
    }
  },
  "cells": [
    {
      "cell_type": "markdown",
      "metadata": {
        "id": "view-in-github",
        "colab_type": "text"
      },
      "source": [
        "<a href=\"https://colab.research.google.com/github/vanyaagarwal29/Python-Basics/blob/main/Python_Advance_Assignment_20.ipynb\" target=\"_parent\"><img src=\"https://colab.research.google.com/assets/colab-badge.svg\" alt=\"Open In Colab\"/></a>"
      ]
    },
    {
      "cell_type": "code",
      "execution_count": null,
      "metadata": {
        "id": "sa_1Uihi3iOf"
      },
      "outputs": [],
      "source": []
    },
    {
      "cell_type": "markdown",
      "source": [
        "1. Float vs. Decimal - Benefits and Drawbacks:\n",
        "- Float:\n",
        "  - Benefits: Floats use less memory, are faster for arithmetic calculations, and are supported by hardware floating-point units.\n",
        "  - Drawbacks: Floats have limited precision and can result in rounding errors due to their binary representation. They are not suitable for financial or precise decimal calculations.\n",
        "\n",
        "- Decimal:\n",
        "  - Benefits: Decimals provide arbitrary precision and are ideal for financial calculations or applications requiring high precision. They avoid rounding errors associated with binary floats.\n",
        "  - Drawbacks: Decimals consume more memory and are slower for arithmetic operations compared to floats, as they use software-based arithmetic.\n",
        "\n",
        "2. Equality of Decimal('1.200') and Decimal('1.2'):\n",
        "When comparing Decimal('1.200') and Decimal('1.2') for equality, they are considered different objects because the string representation of the decimals includes all significant digits, including trailing zeros. The internal states will be different as they store the exact values as per their representations.\n",
        "\n",
        "3. Checking Equality of Decimal('1.200') and Decimal('1.2'):\n",
        "The equality check (`==`) between Decimal('1.200') and Decimal('1.2') will return False because their internal states are different due to the different string representations.\n",
        "\n",
        "4. Starting Decimal with a String vs. Floating-Point Value:\n",
        "Starting a Decimal object with a string is preferable because it ensures that the decimal number is represented exactly as intended. On the other hand, using a floating-point value might introduce rounding errors or inaccuracies in the decimal representation due to the limitations of binary floating-point arithmetic.\n",
        "\n",
        "5. Combining Decimal Objects with Integers:\n",
        "Combining Decimal objects with integers is straightforward. Decimal objects can be used in arithmetic operations with integers without any loss of precision or rounding errors.\n",
        "\n",
        "6. Combining Decimal Objects and Floating-Point Values:\n",
        "Combining Decimal objects and floating-point values is possible, but it may result in some loss of precision due to the inherent limitations of binary floating-point arithmetic. The Decimal objects will maintain their precision, but the floating-point values may introduce rounding errors.\n",
        "\n",
        "7. Example of Absolute Precision with Fraction Class:\n",
        "An example of a quantity expressed with absolute precision using the Fraction class is `Fraction(1, 3)`. This fraction can be represented exactly without any rounding errors.\n",
        "\n",
        "8. Example of Inaccurate Representation with Floating-Point Value:\n",
        "A quantity that cannot be accurately represented by a floating-point value is `0.1`. In binary floating-point, `0.1` is represented as an infinitely repeating fraction, leading to rounding errors.\n",
        "\n",
        "Q9. Internal State of Fraction(1, 2) and Fraction(1, 2). (5, 10):\n",
        "The internal state of both `Fraction(1, 2)` and `Fraction(1, 2). (5, 10)` will be the same because both fractions represent the value `1/2`. The `Fraction` class reduces fractions to their simplest form, so both representations will be normalized to `1/2`.\n",
        "\n",
        "Q10. Relationship between Fraction Class and Integer Type:\n",
        "The Fraction class does not inherit from the integer type (int), nor does it contain integers. The Fraction class is separate and is designed to represent fractions with numerator and denominator, while integers represent whole numbers without fractional parts. However, Fraction objects can be constructed from integers, allowing for precise representation of fractional values."
      ],
      "metadata": {
        "id": "QFjMGe6t3ksI"
      }
    },
    {
      "cell_type": "code",
      "source": [],
      "metadata": {
        "id": "0IrC8_MI3liz"
      },
      "execution_count": null,
      "outputs": []
    }
  ]
}