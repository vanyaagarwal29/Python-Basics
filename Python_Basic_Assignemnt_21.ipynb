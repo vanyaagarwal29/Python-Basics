{
  "nbformat": 4,
  "nbformat_minor": 0,
  "metadata": {
    "colab": {
      "provenance": [],
      "authorship_tag": "ABX9TyP8cGWTrRBf5bfKWIhrCq2v",
      "include_colab_link": true
    },
    "kernelspec": {
      "name": "python3",
      "display_name": "Python 3"
    },
    "language_info": {
      "name": "python"
    }
  },
  "cells": [
    {
      "cell_type": "markdown",
      "metadata": {
        "id": "view-in-github",
        "colab_type": "text"
      },
      "source": [
        "<a href=\"https://colab.research.google.com/github/vanyaagarwal29/Python-Basics/blob/main/Python_Basic_Assignemnt_21.ipynb\" target=\"_parent\"><img src=\"https://colab.research.google.com/assets/colab-badge.svg\" alt=\"Open In Colab\"/></a>"
      ]
    },
    {
      "cell_type": "markdown",
      "source": [
        "Add the current date to the text file today.txt as a string.\n",
        "2. Read the text file today.txt into the string today_string\n",
        "3. Parse the date from today_string.\n",
        "4. List the files in your current directory\n",
        "5. Create a list of all of the files in your parent directory (minimum five files should be available).\n",
        "6. Use multiprocessing to create three separate processes. Make each one wait a random number of\n",
        "seconds between one and five, print the current time, and then exit.\n",
        "7. Create a date object of your day of birth.\n",
        "8. What day of the week was your day of birth?\n",
        "9. When will you be (or when were you) 10,000 days old?"
      ],
      "metadata": {
        "id": "7uLv-T3hvlWl"
      }
    },
    {
      "cell_type": "code",
      "execution_count": null,
      "metadata": {
        "id": "vzJFT_KRvk22"
      },
      "outputs": [],
      "source": []
    },
    {
      "cell_type": "markdown",
      "source": [
        "Let's go through each task step by step:\n",
        "\n",
        "1. Add the current date to the text file `today.txt` as a string.\n",
        "\n",
        "```python\n",
        "from datetime import date\n",
        "\n",
        "current_date = date.today()\n",
        "with open('today.txt', 'w') as file:\n",
        "    file.write(str(current_date))\n",
        "```\n",
        "\n",
        "2. Read the text file `today.txt` into the string `today_string`.\n",
        "\n",
        "```python\n",
        "with open('today.txt', 'r') as file:\n",
        "    today_string = file.read()\n",
        "\n",
        "print(today_string)\n",
        "```\n",
        "\n",
        "3. Parse the date from `today_string`.\n",
        "\n",
        "```python\n",
        "parsed_date = date.fromisoformat(today_string)\n",
        "print(parsed_date)\n",
        "```\n",
        "\n",
        "4. List the files in your current directory.\n",
        "\n",
        "```python\n",
        "import os\n",
        "\n",
        "current_directory = os.getcwd()\n",
        "files_in_directory = os.listdir(current_directory)\n",
        "print(files_in_directory)\n",
        "```\n",
        "\n",
        "5. Create a list of all the files in your parent directory (minimum five files should be available).\n",
        "\n",
        "```python\n",
        "parent_directory = os.path.abspath(os.path.join(current_directory, os.pardir))\n",
        "files_in_parent_directory = os.listdir(parent_directory)\n",
        "print(files_in_parent_directory)\n",
        "```\n",
        "\n",
        "6. Use multiprocessing to create three separate processes. Make each one wait a random number of seconds between one and five, print the current time, and then exit.\n",
        "\n",
        "```python\n",
        "import multiprocessing\n",
        "import random\n",
        "import time\n",
        "from datetime import datetime\n",
        "\n",
        "def print_current_time():\n",
        "    wait_time = random.randint(1, 5)\n",
        "    time.sleep(wait_time)\n",
        "    current_time = datetime.now().strftime('%H:%M:%S')\n",
        "    print(f\"Process ID: {os.getpid()}, Current Time: {current_time}\")\n",
        "\n",
        "processes = []\n",
        "for _ in range(3):\n",
        "    process = multiprocessing.Process(target=print_current_time)\n",
        "    processes.append(process)\n",
        "    process.start()\n",
        "\n",
        "for process in processes:\n",
        "    process.join()\n",
        "```\n",
        "\n",
        "7. Create a date object of your day of birth.\n",
        "\n",
        "```python\n",
        "from datetime import date\n",
        "\n",
        "day_of_birth = date(2000, 5, 15)\n",
        "print(day_of_birth)\n",
        "```\n",
        "\n",
        "8. What day of the week was your day of birth?\n",
        "\n",
        "```python\n",
        "day_of_birth_weekday = day_of_birth.strftime('%A')\n",
        "print(day_of_birth_weekday)\n",
        "```\n",
        "\n",
        "9. When will you be (or when were you) 10,000 days old?\n",
        "\n",
        "```python\n",
        "from datetime import timedelta\n",
        "\n",
        "thousand_days = timedelta(days=10000)\n",
        "ten_thousand_days_old = day_of_birth + thousand_days\n",
        "print(ten_thousand_days_old)\n",
        "```\n",
        "\n",
        "Note: These solutions assume that the current date is after or on your day of birth. If you want to calculate the date in the future, make sure to adjust the `date` used in the code accordingly."
      ],
      "metadata": {
        "id": "WVgXtLMVvyX2"
      }
    },
    {
      "cell_type": "code",
      "source": [],
      "metadata": {
        "id": "KGoJCAJqvzFd"
      },
      "execution_count": null,
      "outputs": []
    }
  ]
}