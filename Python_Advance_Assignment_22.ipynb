{
  "nbformat": 4,
  "nbformat_minor": 0,
  "metadata": {
    "colab": {
      "provenance": [],
      "authorship_tag": "ABX9TyMAKPouDT6Mh+Yi/AdwSfB+",
      "include_colab_link": true
    },
    "kernelspec": {
      "name": "python3",
      "display_name": "Python 3"
    },
    "language_info": {
      "name": "python"
    }
  },
  "cells": [
    {
      "cell_type": "markdown",
      "metadata": {
        "id": "view-in-github",
        "colab_type": "text"
      },
      "source": [
        "<a href=\"https://colab.research.google.com/github/vanyaagarwal29/Python-Basics/blob/main/Python_Advance_Assignment_22.ipynb\" target=\"_parent\"><img src=\"https://colab.research.google.com/assets/colab-badge.svg\" alt=\"Open In Colab\"/></a>"
      ]
    },
    {
      "cell_type": "code",
      "execution_count": null,
      "metadata": {
        "id": "Uj5dh89R4tkg"
      },
      "outputs": [],
      "source": []
    },
    {
      "cell_type": "markdown",
      "source": [
        "Q1. Benefits of the built-in array package:\n",
        "- The array package provides a more memory-efficient way to store homogeneous data compared to Python lists.\n",
        "- Arrays support various mathematical operations, making them suitable for numerical computations.\n",
        "- They are faster for element-wise operations and arithmetic on large datasets due to their contiguous memory layout.\n",
        "- Arrays can be easily converted to and from other data structures like lists or NumPy arrays.\n",
        "\n",
        "Q2. Limitations of the array package:\n",
        "- Arrays are less versatile than lists since they can only store elements of the same data type.\n",
        "- They lack the extensive functionalities and optimizations available in more advanced libraries like NumPy.\n",
        "- Arrays do not provide built-in methods for mathematical functions or advanced array manipulation.\n",
        "\n",
        "Q3. Main differences between the array and numpy packages:\n",
        "- Numpy is a powerful numerical library that provides high-level multi-dimensional arrays (ndarrays) and a wide range of mathematical functions for efficient numerical operations.\n",
        "- The array package is part of Python's standard library and provides basic one-dimensional arrays with less functionality compared to ndarrays in NumPy.\n",
        "- NumPy arrays are more memory-efficient, allow for multi-dimensional arrays, and have advanced capabilities for numerical computations.\n",
        "\n",
        "Q4. Distinctions between empty, ones, and zeros functions:\n",
        "- `empty`: Creates an array without initializing its elements, so the content of the array will be whatever is already in the memory location.\n",
        "- `ones`: Creates an array filled with ones.\n",
        "- `zeros`: Creates an array filled with zeros.\n",
        "\n",
        "Q5. Role of the callable argument in fromfunction:\n",
        "The `fromfunction` function in NumPy constructs a new array using a user-defined function to specify the values of the array elements. The callable argument is the user-defined function that receives the array indices and returns the corresponding values for each element in the new array.\n",
        "\n",
        "Q6. Combining a numpy array with a single-value operand:\n",
        "When a numpy array is combined with a scalar operand (like an int or a floating-point value) through addition or other arithmetic operations, the operation is applied element-wise, and each element of the array is modified accordingly.\n",
        "\n",
        "Q7. Array-to-scalar operations with combined operation-assign operators:\n",
        "Yes, array-to-scalar operations can use combined operation-assign operators (e.g., += or *=). The outcome is that the array elements are modified according to the operation specified by the operator.\n",
        "\n",
        "Q8. Numpy array containing fixed-length strings:\n",
        "Yes, numpy arrays can contain fixed-length strings. If you allocate a longer string to an array of fixed-length strings, the string will be truncated to fit the specified length.\n",
        "\n",
        "Q9. Combining two numpy arrays using arithmetic operations:\n",
        "When two numpy arrays are combined using arithmetic operations (+, *, etc.), the operation is applied element-wise, provided the arrays have compatible shapes. If the arrays have different shapes, broadcasting rules will be applied if possible, or a ValueError will be raised for incompatible shapes.\n",
        "\n",
        "Q10. Using a Boolean array to mask another array:\n",
        "You can use a Boolean array to mask another array by using the Boolean array as an index. When the Boolean value is True for a particular index, the corresponding element from the original array will be selected, and when it is False, that element will be excluded.\n",
        "\n",
        "Q11. Three ways to get the standard deviation of data:\n",
        "- Using the `statistics` module: `statistics.stdev(data)`\n",
        "- Using NumPy: `numpy.std(data)`\n",
        "- Using Pandas (with a DataFrame): `df.std()`\n",
        "(The execution speed depends on the size and structure of the data.)\n",
        "\n",
        "Q12. Dimensionality of a Boolean mask-generated array:\n",
        "The dimensionality of a Boolean mask-generated array depends on the number of dimensions in the original array and the Boolean mask used for indexing. The result will have the same number of dimensions as the original array but may have different shapes depending on the mask."
      ],
      "metadata": {
        "id": "o1gcjxjF41T6"
      }
    }
  ]
}