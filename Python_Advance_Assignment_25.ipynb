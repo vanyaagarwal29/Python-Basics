{
  "nbformat": 4,
  "nbformat_minor": 0,
  "metadata": {
    "colab": {
      "provenance": [],
      "authorship_tag": "ABX9TyNDv7c/sqcYY3waVRpgApG8",
      "include_colab_link": true
    },
    "kernelspec": {
      "name": "python3",
      "display_name": "Python 3"
    },
    "language_info": {
      "name": "python"
    }
  },
  "cells": [
    {
      "cell_type": "markdown",
      "metadata": {
        "id": "view-in-github",
        "colab_type": "text"
      },
      "source": [
        "<a href=\"https://colab.research.google.com/github/vanyaagarwal29/Python-Basics/blob/main/Python_Advance_Assignment_25.ipynb\" target=\"_parent\"><img src=\"https://colab.research.google.com/assets/colab-badge.svg\" alt=\"Open In Colab\"/></a>"
      ]
    },
    {
      "cell_type": "code",
      "execution_count": null,
      "metadata": {
        "id": "4oNWxwb16AjZ"
      },
      "outputs": [],
      "source": []
    },
    {
      "cell_type": "markdown",
      "source": [
        "Q1. The main distinction between a NumPy array and a Pandas DataFrame is that a NumPy array is a homogeneous multidimensional array of fixed-size items, while a Pandas DataFrame is a two-dimensional tabular data structure with labeled axes (rows and columns). NumPy arrays are generally used for numerical computations, while Pandas DataFrames are commonly used for data manipulation, analysis, and cleaning. You can convert a Pandas DataFrame to a NumPy array using the `values` attribute, and you can convert a NumPy array to a Pandas DataFrame using the `pd.DataFrame()` constructor.\n",
        "\n",
        "Q2. When a user enters a stock ticker symbol, some potential issues that can arise include incorrect or misspelled symbols, symbols for companies that do not exist, or symbols that do not have data available. To handle this, you can implement error handling and validation techniques to verify the entered symbol's validity and provide appropriate feedback to the user in case of an invalid symbol.\n",
        "\n",
        "Q3. Some plotting techniques used to produce stock-market charts include line plots for price trends over time, candlestick plots for displaying price ranges (high, low, open, close) in a specific time period, volume plots for trading volume, and moving averages to smooth out price trends.\n",
        "\n",
        "Q4. It is essential to print a legend on a stock market chart because it provides a key to understanding the different elements represented in the chart, such as different lines or data series. The legend helps identify the meaning of each line or data series, making the chart more informative and easier to interpret.\n",
        "\n",
        "Q5. To limit the length of a Pandas DataFrame to less than a year, you can use boolean indexing or filtering based on the date column. For example, you can filter the DataFrame using a condition that checks if the date is within a specific date range corresponding to less than a year.\n",
        "\n",
        "Q6. A 180-day moving average is a technical indicator used in finance and stock market analysis. It is calculated by taking the average of a stock's closing price over the past 180 trading days. It provides a smoothed trend line to help identify longer-term price trends and reduce short-term fluctuations.\n",
        "\n",
        "Q7. Yes, the chapter's final example used \"indirect\" importing by aliasing the Pandas library as `pd`. It is done using the following import statement: `import pandas as pd`. By using this alias, you can refer to Pandas functions and classes using the shorter prefix `pd` instead of the full `pandas`."
      ],
      "metadata": {
        "id": "lvk8It7V6Gld"
      }
    },
    {
      "cell_type": "code",
      "source": [],
      "metadata": {
        "id": "O-ZMAe4j6HGe"
      },
      "execution_count": null,
      "outputs": []
    }
  ]
}