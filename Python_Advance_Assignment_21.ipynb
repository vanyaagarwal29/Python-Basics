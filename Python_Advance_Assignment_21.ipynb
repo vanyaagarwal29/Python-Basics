{
  "nbformat": 4,
  "nbformat_minor": 0,
  "metadata": {
    "colab": {
      "provenance": [],
      "authorship_tag": "ABX9TyPG1XP8sN7Wcnun8eYUl4sR",
      "include_colab_link": true
    },
    "kernelspec": {
      "name": "python3",
      "display_name": "Python 3"
    },
    "language_info": {
      "name": "python"
    }
  },
  "cells": [
    {
      "cell_type": "markdown",
      "metadata": {
        "id": "view-in-github",
        "colab_type": "text"
      },
      "source": [
        "<a href=\"https://colab.research.google.com/github/vanyaagarwal29/Python-Basics/blob/main/Python_Advance_Assignment_21.ipynb\" target=\"_parent\"><img src=\"https://colab.research.google.com/assets/colab-badge.svg\" alt=\"Open In Colab\"/></a>"
      ]
    },
    {
      "cell_type": "code",
      "execution_count": null,
      "metadata": {
        "id": "wXyIDbK03-SP"
      },
      "outputs": [],
      "source": []
    },
    {
      "cell_type": "markdown",
      "source": [
        "Q1. Probability Distribution:\n",
        "A probability distribution is a mathematical function or model that describes the likelihood of different outcomes or events occurring in a random experiment or process. It provides the probabilities associated with each possible value of a random variable. While the individual values are random and unpredictable, the distribution allows us to predict the likelihood of observing certain outcomes over the long run.\n",
        "\n",
        "Q2. True Random Numbers vs. Pseudo-Random Numbers:\n",
        "True random numbers are generated from genuinely random and unpredictable sources, such as physical processes like radioactive decay or atmospheric noise. Pseudo-random numbers, on the other hand, are generated using deterministic algorithms that appear random but are based on an initial seed value. They are considered \"good enough\" for most practical purposes because they exhibit characteristics of randomness and are suitable for simulations and statistical analyses.\n",
        "\n",
        "Q3. Factors Influencing a Normal Probability Distribution:\n",
        "The two main factors that influence the behavior of a normal probability distribution are the mean (average) and the standard deviation. The mean determines the central location of the distribution, while the standard deviation controls the spread or dispersion of the data points around the mean.\n",
        "\n",
        "Q4. Real-Life Example of a Normal Distribution:\n",
        "A common example of a normal distribution in real life is the distribution of heights of adult humans. If we were to measure the heights of a large sample of adults, we would likely observe a bell-shaped curve, with the majority of people clustering around the average height and fewer individuals at the extreme ends (very tall or very short).\n",
        "\n",
        "Q5. Behavior of Probability Distribution in the Short Term and as Trials Grow:\n",
        "In the short term, the outcome of individual trials in a probability distribution can be unpredictable and vary widely. However, as the number of trials (observations) increases, the distribution tends to converge to its theoretical probabilities. This is known as the Law of Large Numbers, which states that the average of a large number of independent, identically distributed random variables approaches the expected value as the number of trials increases.\n",
        "\n",
        "Q6. Object Shuffled by random.shuffle:\n",
        "The random.shuffle function in Python can shuffle the elements of a mutable sequence, such as a list. It rearranges the elements randomly, effectively changing the order of the elements in the original sequence.\n",
        "\n",
        "Q7. Math Package Categories of Functions:\n",
        "The math package in Python provides various mathematical functions grouped into several categories, including arithmetic functions, logarithmic functions, trigonometric functions, exponential functions, and special functions for mathematical constants and operations.\n",
        "\n",
        "Q8. Relationship Between Exponentiation and Logarithms:\n",
        "Exponentiation and logarithms are inverse operations of each other. If we have a base (b) raised to a power (x), the exponentiation operation is written as b^x. The logarithm (base b) of a number (y) is the exponent (x) to which the base (b) must be raised to obtain y. It is denoted as log_b(y) = x.\n",
        "\n",
        "Q9. Three Logarithmic Functions Supported by Python:\n",
        "Python supports three logarithmic functions: math.log(x) (natural logarithm, base e), math.log10(x) (base 10 logarithm), and math.log(x, base) (logarithm with a custom base)."
      ],
      "metadata": {
        "id": "Twk50vo24Tc4"
      }
    },
    {
      "cell_type": "code",
      "source": [],
      "metadata": {
        "id": "aVsU0ouZ4T8l"
      },
      "execution_count": null,
      "outputs": []
    }
  ]
}