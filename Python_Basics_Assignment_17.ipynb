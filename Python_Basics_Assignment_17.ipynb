{
  "nbformat": 4,
  "nbformat_minor": 0,
  "metadata": {
    "colab": {
      "provenance": [],
      "authorship_tag": "ABX9TyPwIh8JIfd3UISQaR2nHH4A",
      "include_colab_link": true
    },
    "kernelspec": {
      "name": "python3",
      "display_name": "Python 3"
    },
    "language_info": {
      "name": "python"
    }
  },
  "cells": [
    {
      "cell_type": "markdown",
      "metadata": {
        "id": "view-in-github",
        "colab_type": "text"
      },
      "source": [
        "<a href=\"https://colab.research.google.com/github/vanyaagarwal29/Python-Basics/blob/main/Python_Basics_Assignment_17.ipynb\" target=\"_parent\"><img src=\"https://colab.research.google.com/assets/colab-badge.svg\" alt=\"Open In Colab\"/></a>"
      ]
    },
    {
      "cell_type": "markdown",
      "source": [
        "Assign the value 7 to the variable guess_me. Then, write the conditional tests (if, else, and elif) to\n",
        "print the string &#39;too low&#39; if guess_me is less than 7, &#39;too high&#39; if greater than 7, and &#39;just right&#39; if equal\n",
        "to 7.\n",
        "\n",
        "Sure! Here's the Python code that assigns the value 7 to the variable guess_me and uses conditional tests to print the corresponding strings:\n",
        "\n",
        "python\n",
        "Copy code\n",
        "guess_me = 7\n",
        "\n",
        "if guess_me < 7:\n",
        "    print('too low')\n",
        "elif guess_me > 7:\n",
        "    print('too high')\n",
        "else:\n",
        "    print('just right')\n",
        "Explanation:\n",
        "\n",
        "The if statement checks if guess_me is less than 7. If it is, the code inside the if block is executed, which prints \"too low.\"\n",
        "The elif statement (short for \"else if\") checks if guess_me is greater than 7. If it is, the code inside the elif block is executed, which prints \"too high.\"\n",
        "If guess_me is not less than 7 and not greater than 7, then it must be equal to 7. In that case, the code inside the else block is executed, which prints \"just right.\""
      ],
      "metadata": {
        "id": "1hawKTKMqSZJ"
      }
    },
    {
      "cell_type": "code",
      "execution_count": null,
      "metadata": {
        "id": "BInoXLSJqMS9"
      },
      "outputs": [],
      "source": []
    },
    {
      "cell_type": "markdown",
      "source": [
        "Sure! Here's the Python code that assigns the values 7 to `guess_me` and 1 to `start`, and then uses a `while` loop to compare `start` with `guess_me`:\n",
        "\n",
        "```python\n",
        "guess_me = 7\n",
        "start = 1\n",
        "\n",
        "while start <= guess_me:\n",
        "    if start < guess_me:\n",
        "        print('too low')\n",
        "    elif start == guess_me:\n",
        "        print('found it!')\n",
        "        break\n",
        "    else:\n",
        "        print('oops')\n",
        "        break\n",
        "    start += 1\n",
        "```\n",
        "\n",
        "Explanation:\n",
        "- We use a `while` loop with the condition `start <= guess_me` to keep the loop running as long as `start` is less than or equal to `guess_me`.\n",
        "- Inside the loop, we check three conditions using `if`, `elif`, and `else`:\n",
        "  - If `start` is less than `guess_me`, it prints \"too low\".\n",
        "  - If `start` is equal to `guess_me`, it prints \"found it!\" and exits the loop using the `break` statement.\n",
        "  - If `start` is greater than `guess_me`, it prints \"oops\" and exits the loop using the `break` statement.\n",
        "- After each iteration of the loop, we increment the value of `start` using `start += 1`, so that we can compare the next value in the next iteration."
      ],
      "metadata": {
        "id": "eHXunLl5qa0x"
      }
    },
    {
      "cell_type": "code",
      "source": [],
      "metadata": {
        "id": "6JAKuv0fqcIk"
      },
      "execution_count": null,
      "outputs": []
    },
    {
      "cell_type": "markdown",
      "source": [
        "Sure! Here's the Python code that prints the values of the list `[3, 2, 1, 0]` using a `for` loop:\n",
        "\n",
        "```python\n",
        "my_list = [3, 2, 1, 0]\n",
        "\n",
        "for item in my_list:\n",
        "    print(item)\n",
        "```\n",
        "\n",
        "Output:\n",
        "```\n",
        "3\n",
        "2\n",
        "1\n",
        "0\n",
        "```\n",
        "\n",
        "Explanation:\n",
        "- We define a list `my_list` containing the values `[3, 2, 1, 0]`.\n",
        "- The `for` loop iterates over each item in the list. In each iteration, the loop variable `item` takes on the value of the current element in the list.\n",
        "- The `print(item)` statement inside the loop prints each element one by one, resulting in the output shown above."
      ],
      "metadata": {
        "id": "1ZxQbzkQqlSg"
      }
    },
    {
      "cell_type": "code",
      "source": [],
      "metadata": {
        "id": "N0kr-4p2qlue"
      },
      "execution_count": null,
      "outputs": []
    },
    {
      "cell_type": "markdown",
      "source": [
        "4. Use a list comprehension to make a list of the even numbers in range(10)\n",
        "5. Use a dictionary comprehension to create the dictionary squares. Use range(10) to return the\n",
        "keys, and use the square of each key as its value.\n",
        "6. Construct the set odd from the odd numbers in the range using a set comprehension (10).\n",
        "7. Use a generator comprehension to return the string &#39;Got &#39; and a number for the numbers in\n",
        "range(10). Iterate through this by using a for loop.\n",
        "8. Define a function called good that returns the list [&#39;Harry&#39;, &#39;Ron&#39;, &#39;Hermione&#39;].\n",
        "9. Define a generator function called get_odds that returns the odd numbers from range(10). Use a\n",
        "for loop to find and print the third value returned.\n",
        "10. Define an exception called OopsException. Raise this exception to see what happens. Then write\n",
        "the code to catch this exception and print &#39;Caught an oops&#39;.\n",
        "11. Use zip() to make a dictionary called movies that pairs these lists: titles = [&#39;Creature of Habit&#39;,\n",
        "&#39;Crewel Fate&#39;] and plots = [&#39;A nun turns into a monster&#39;, &#39;A haunted yarn shop&#39;]."
      ],
      "metadata": {
        "id": "GWU9QgQlrT1r"
      }
    },
    {
      "cell_type": "code",
      "source": [],
      "metadata": {
        "id": "Hp2iOJyUrUmn"
      },
      "execution_count": null,
      "outputs": []
    },
    {
      "cell_type": "markdown",
      "source": [
        "Sure, let's go through each task step by step:\n",
        "\n",
        "4. Use a list comprehension to make a list of the even numbers in `range(10)`:\n",
        "\n",
        "```python\n",
        "even_numbers = [num for num in range(10) if num % 2 == 0]\n",
        "print(even_numbers)\n",
        "```\n",
        "\n",
        "Output:\n",
        "```\n",
        "[0, 2, 4, 6, 8]\n",
        "```\n",
        "\n",
        "5. Use a dictionary comprehension to create the dictionary `squares`:\n",
        "\n",
        "```python\n",
        "squares = {num: num**2 for num in range(10)}\n",
        "print(squares)\n",
        "```\n",
        "\n",
        "Output:\n",
        "```\n",
        "{0: 0, 1: 1, 2: 4, 3: 9, 4: 16, 5: 25, 6: 36, 7: 49, 8: 64, 9: 81}\n",
        "```\n",
        "\n",
        "6. Construct the set `odd` from the odd numbers in the range using a set comprehension:\n",
        "\n",
        "```python\n",
        "odd = {num for num in range(10) if num % 2 != 0}\n",
        "print(odd)\n",
        "```\n",
        "\n",
        "Output:\n",
        "```\n",
        "{1, 3, 5, 7, 9}\n",
        "```\n",
        "\n",
        "7. Use a generator comprehension to return the string 'Got ' and a number for the numbers in `range(10)`. Iterate through this by using a `for` loop:\n",
        "\n",
        "```python\n",
        "generator = ('Got ' + str(num) for num in range(10))\n",
        "for item in generator:\n",
        "    print(item)\n",
        "```\n",
        "\n",
        "Output:\n",
        "```\n",
        "Got 0\n",
        "Got 1\n",
        "Got 2\n",
        "Got 3\n",
        "Got 4\n",
        "Got 5\n",
        "Got 6\n",
        "Got 7\n",
        "Got 8\n",
        "Got 9\n",
        "```\n",
        "\n",
        "8. Define a function called `good` that returns the list ['Harry', 'Ron', 'Hermione']:\n",
        "\n",
        "```python\n",
        "def good():\n",
        "    return ['Harry', 'Ron', 'Hermione']\n",
        "\n",
        "result = good()\n",
        "print(result)\n",
        "```\n",
        "\n",
        "Output:\n",
        "```\n",
        "['Harry', 'Ron', 'Hermione']\n",
        "```\n",
        "\n",
        "9. Define a generator function called `get_odds` that returns the odd numbers from `range(10)`. Use a `for` loop to find and print the third value returned:\n",
        "\n",
        "```python\n",
        "def get_odds():\n",
        "    for num in range(10):\n",
        "        if num % 2 != 0:\n",
        "            yield num\n",
        "\n",
        "count = 0\n",
        "for odd_num in get_odds():\n",
        "    count += 1\n",
        "    if count == 3:\n",
        "        print(odd_num)\n",
        "        break\n",
        "```\n",
        "\n",
        "Output:\n",
        "```\n",
        "5\n",
        "```\n",
        "\n",
        "10. Define an exception called `OopsException`. Raise this exception to see what happens. Then write the code to catch this exception and print 'Caught an oops':\n",
        "\n",
        "```python\n",
        "class OopsException(Exception):\n",
        "    pass\n",
        "\n",
        "try:\n",
        "    raise OopsException('Something went wrong!')\n",
        "except OopsException as e:\n",
        "    print('Caught an oops:', e)\n",
        "```\n",
        "\n",
        "Output:\n",
        "```\n",
        "Caught an oops: Something went wrong!\n",
        "```\n",
        "\n",
        "11. Use `zip()` to make a dictionary called `movies` that pairs these lists: `titles = ['Creature of Habit', 'Crewel Fate']` and `plots = ['A nun turns into a monster', 'A haunted yarn shop']`:\n",
        "\n",
        "```python\n",
        "titles = ['Creature of Habit', 'Crewel Fate']\n",
        "plots = ['A nun turns into a monster', 'A haunted yarn shop']\n",
        "\n",
        "movies = dict(zip(titles, plots))\n",
        "print(movies)\n",
        "```\n",
        "\n",
        "Output:\n",
        "```\n",
        "{'Creature of Habit': 'A nun turns into a monster', 'Crewel Fate': 'A haunted yarn shop'}\n",
        "```"
      ],
      "metadata": {
        "id": "b4CIUstlrV8m"
      }
    },
    {
      "cell_type": "code",
      "source": [],
      "metadata": {
        "id": "39qP59ierWdY"
      },
      "execution_count": null,
      "outputs": []
    }
  ]
}